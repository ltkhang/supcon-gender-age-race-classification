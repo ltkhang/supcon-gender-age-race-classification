{
 "cells": [
  {
   "cell_type": "code",
   "execution_count": 1,
   "source": [
    "import tensorflow as tf\r\n",
    "import tensorflow_addons as tfa\r\n",
    "import numpy as np\r\n",
    "from tensorflow import keras\r\n",
    "from tensorflow.keras import layers\r\n",
    "\r\n",
    "import pickle as pkl\r\n",
    "import pandas as pd\r\n",
    "import os\r\n",
    "import requests as r\r\n",
    "from sklearn.metrics import accuracy_score\r\n",
    "import random\r\n",
    "\r\n",
    "np.random.seed(37)\r\n",
    "\r\n",
    "random.seed(1254)\r\n",
    "\r\n",
    "tf.random.set_seed(89)\r\n",
    "\r\n",
    "\r\n",
    "gpus = tf.config.list_physical_devices('GPU')\r\n",
    "if gpus:\r\n",
    "    try:\r\n",
    "        for gpu in gpus:\r\n",
    "            tf.config.experimental.set_memory_growth(gpu, True)\r\n",
    "    except RuntimeError as e:\r\n",
    "        print(e)\r\n",
    "\r\n",
    "stages = ['CE', 'SCL']\r\n",
    "\r\n",
    "dataset = 'FairFace'\r\n",
    "net = 'R50'\r\n",
    "version = 'V1'\r\n",
    "\r\n",
    "stage = stages[0]\r\n",
    "\r\n",
    "script_name_template = '{}-{}-{}-BatchNorm-MultiOutput-{}'\r\n",
    "script_name = script_name_template.format(version, dataset, net, stage)"
   ],
   "outputs": [],
   "metadata": {}
  },
  {
   "cell_type": "code",
   "execution_count": 2,
   "source": [
    "if net == 'R50':\r\n",
    "    from tensorflow.keras.applications.resnet_v2 import preprocess_input\r\n",
    "    from tensorflow.keras.applications import ResNet50V2 as backbone_net\r\n",
    "if net == 'Mnet':\r\n",
    "    from tensorflow.keras.applications.mobilenet_v2 import preprocess_input\r\n",
    "    from tensorflow.keras.applications import MobileNetV2 as backbone_net"
   ],
   "outputs": [],
   "metadata": {}
  },
  {
   "cell_type": "code",
   "execution_count": 3,
   "source": [
    "def encode(data, mask):\n",
    "    labels = []\n",
    "    for item in data:\n",
    "        labels.append(mask[item])\n",
    "    return labels"
   ],
   "outputs": [],
   "metadata": {}
  },
  {
   "cell_type": "code",
   "execution_count": 4,
   "source": [
    "if dataset == 'FairFace':\n",
    "    csv_target_train = '{}/train.csv'.format(dataset)\n",
    "    csv_target_val = '{}/val.csv'.format(dataset)\n",
    "    directory_data = dataset\n",
    "    \n",
    "    df_train = pd.read_csv(csv_target_train)\n",
    "    df_val = pd.read_csv(csv_target_val)\n",
    "    df_train"
   ],
   "outputs": [],
   "metadata": {}
  },
  {
   "cell_type": "code",
   "execution_count": 5,
   "source": [
    "def label2dict(df):\n",
    "    values = df.unique()\n",
    "    d = {}\n",
    "    for idx, v in enumerate(values):\n",
    "        d[v] = idx\n",
    "    return d\n",
    "def apply_encode(map_dict, col, row):\n",
    "    return map_dict[row[col]]"
   ],
   "outputs": [],
   "metadata": {}
  },
  {
   "cell_type": "code",
   "execution_count": 6,
   "source": [
    "target_col = ['gender', 'race', 'age']\n",
    "num_classes = []\n",
    "for col in target_col:\n",
    "    num_classes.append(df_train[col].nunique())\n",
    "input_shape = (112, 112, 3)\n",
    "batch_size = 256\n",
    "learning_rate = 0.001\n",
    "hidden_units = 512\n",
    "projection_units = 128\n",
    "num_epochs = 50\n",
    "dropout_rate = 0.5\n",
    "temperature = 0.05\n",
    "validation_split = 0.1"
   ],
   "outputs": [],
   "metadata": {}
  },
  {
   "cell_type": "code",
   "execution_count": 7,
   "source": [
    "target_col_data = []\n",
    "for col in target_col:\n",
    "    col2 = col + '_sparse'\n",
    "    target_col_data.append(col2)\n",
    "    map_dict = label2dict(df_train[col])\n",
    "    df_train[col2] = df_train.apply(lambda row: apply_encode(map_dict, col, row), axis=1)\n",
    "    if dataset == 'FairFace':\n",
    "        df_val[col2] = df_val.apply(lambda row: apply_encode(map_dict, col, row), axis=1)"
   ],
   "outputs": [],
   "metadata": {}
  },
  {
   "cell_type": "code",
   "execution_count": 8,
   "source": [
    "x_col = 'file'\n",
    "y_col = target_col_data\n",
    "train_generator = keras.preprocessing.image.ImageDataGenerator(\n",
    "    preprocessing_function=preprocess_input,\n",
    ")\n",
    "val_generator = keras.preprocessing.image.ImageDataGenerator(\n",
    "    preprocessing_function=preprocess_input\n",
    ")\n",
    "\n",
    "train_iter = train_generator.flow_from_dataframe(\n",
    "    df_train,\n",
    "    directory=directory_data,\n",
    "    x_col=x_col,\n",
    "    y_col=y_col,\n",
    "    class_mode=\"multi_output\",\n",
    "    target_size=(input_shape[0], input_shape[1]),\n",
    "    batch_size=batch_size,\n",
    ")\n",
    "\n",
    "val_iter = val_generator.flow_from_dataframe(\n",
    "    df_val,\n",
    "    directory=directory_data,\n",
    "    x_col=x_col,\n",
    "    y_col=y_col,\n",
    "    class_mode=\"multi_output\",\n",
    "    target_size=(input_shape[0], input_shape[1]),\n",
    "    batch_size=batch_size,\n",
    "    shuffle=False,\n",
    ")"
   ],
   "outputs": [
    {
     "output_type": "stream",
     "name": "stdout",
     "text": [
      "Found 86744 validated image filenames.\n",
      "Found 10954 validated image filenames.\n"
     ]
    }
   ],
   "metadata": {}
  },
  {
   "cell_type": "code",
   "execution_count": 9,
   "source": [
    "callbacks = []\n",
    "if len(target_col) == 1:\n",
    "    for col in target_col:\n",
    "        model_checkpoint_callback = tf.keras.callbacks.ModelCheckpoint(\n",
    "            filepath='./ckpt/{}-{}.h5'.format(script_name, col),\n",
    "            monitor='val_sparse_categorical_accuracy'.format(col),\n",
    "            mode='max',\n",
    "            save_best_only=True)\n",
    "        callbacks.append(model_checkpoint_callback)\n",
    "else:\n",
    "    for col in target_col:\n",
    "        model_checkpoint_callback = tf.keras.callbacks.ModelCheckpoint(\n",
    "            filepath='./ckpt/{}-{}.h5'.format(script_name, col),\n",
    "            monitor='val_{}_sparse_categorical_accuracy'.format(col),\n",
    "            mode='max',\n",
    "            save_best_only=True)\n",
    "        callbacks.append(model_checkpoint_callback)"
   ],
   "outputs": [],
   "metadata": {}
  },
  {
   "cell_type": "code",
   "execution_count": 10,
   "source": [
    "data_augmentation = keras.Sequential(\n",
    "    [\n",
    "        layers.experimental.preprocessing.RandomFlip(\"horizontal\"),\n",
    "        layers.experimental.preprocessing.RandomRotation(0.02),\n",
    "        layers.experimental.preprocessing.RandomWidth(0.2),\n",
    "        layers.experimental.preprocessing.RandomHeight(0.2),\n",
    "    ]\n",
    ")"
   ],
   "outputs": [],
   "metadata": {}
  },
  {
   "cell_type": "code",
   "execution_count": 11,
   "source": [
    "def create_encoder():\n",
    "    resnet = keras.applications.ResNet50V2(\n",
    "        include_top=False, weights=None, input_shape=input_shape, pooling=\"avg\"\n",
    "    )\n",
    "\n",
    "    inputs = keras.Input(shape=input_shape)\n",
    "    augmented = data_augmentation(inputs)\n",
    "    outputs = resnet(augmented)\n",
    "    model = keras.Model(inputs=inputs, outputs=outputs, name=\"fairface-encoder\")\n",
    "    return model"
   ],
   "outputs": [],
   "metadata": {}
  },
  {
   "cell_type": "code",
   "execution_count": 12,
   "source": [
    "def create_classifier(encoder, trainable=True, training=True):\r\n",
    "    \r\n",
    "    encoder.trainable = trainable\r\n",
    "\r\n",
    "    inputs = keras.Input(shape=input_shape, name=\"input\")\r\n",
    "    features = encoder(inputs, training=training)\r\n",
    "    outputs = []\r\n",
    "    for idx, num_class in enumerate(num_classes):\r\n",
    "        _features = layers.Dropout(dropout_rate, name=\"dropout_\" + target_col[idx])(features)\r\n",
    "        _features = layers.Dense(hidden_units, activation=\"relu\", name = \"features_\"+ target_col[idx])(_features)\r\n",
    "        _features = layers.Dropout(dropout_rate, name=\"dropout2_\" + target_col[idx])(_features)\r\n",
    "        outputs.append(layers.Dense(num_class, activation=\"softmax\", name=target_col[idx])(_features))\r\n",
    "\r\n",
    "    model = keras.Model(inputs=inputs, outputs=outputs, name=\"classifier\")\r\n",
    "    metrics = {}\r\n",
    "    loss = []\r\n",
    "    loss_weights = []\r\n",
    "    for col in target_col:\r\n",
    "        metrics[col] = keras.metrics.SparseCategoricalAccuracy()\r\n",
    "        loss.append(keras.losses.SparseCategoricalCrossentropy())\r\n",
    "        loss_weights.append(0.1)\r\n",
    "    model.compile(\r\n",
    "        optimizer=keras.optimizers.Adam(learning_rate),\r\n",
    "        loss=loss,\r\n",
    "        metrics=metrics,\r\n",
    "        loss_weights=loss_weights\r\n",
    "    )\r\n",
    "    return model"
   ],
   "outputs": [],
   "metadata": {}
  },
  {
   "cell_type": "code",
   "execution_count": 13,
   "source": [
    "encoder = create_encoder()\r\n",
    "encoder.summary()\r\n",
    "classifier = create_classifier(encoder)\r\n",
    "classifier.summary()"
   ],
   "outputs": [
    {
     "output_type": "stream",
     "name": "stdout",
     "text": [
      "Model: \"fairface-encoder\"\n",
      "_________________________________________________________________\n",
      "Layer (type)                 Output Shape              Param #   \n",
      "=================================================================\n",
      "input_2 (InputLayer)         [(None, 112, 112, 3)]     0         \n",
      "_________________________________________________________________\n",
      "sequential (Sequential)      (None, None, None, 3)     0         \n",
      "_________________________________________________________________\n",
      "resnet50v2 (Functional)      (None, 2048)              23564800  \n",
      "=================================================================\n",
      "Total params: 23,564,800\n",
      "Trainable params: 23,519,360\n",
      "Non-trainable params: 45,440\n",
      "_________________________________________________________________\n",
      "Model: \"classifier\"\n",
      "__________________________________________________________________________________________________\n",
      "Layer (type)                    Output Shape         Param #     Connected to                     \n",
      "==================================================================================================\n",
      "input (InputLayer)              [(None, 112, 112, 3) 0                                            \n",
      "__________________________________________________________________________________________________\n",
      "fairface-encoder (Functional)   (None, 2048)         23564800    input[0][0]                      \n",
      "__________________________________________________________________________________________________\n",
      "dropout_gender (Dropout)        (None, 2048)         0           fairface-encoder[0][0]           \n",
      "__________________________________________________________________________________________________\n",
      "dropout_race (Dropout)          (None, 2048)         0           fairface-encoder[0][0]           \n",
      "__________________________________________________________________________________________________\n",
      "dropout_age (Dropout)           (None, 2048)         0           fairface-encoder[0][0]           \n",
      "__________________________________________________________________________________________________\n",
      "features_gender (Dense)         (None, 512)          1049088     dropout_gender[0][0]             \n",
      "__________________________________________________________________________________________________\n",
      "features_race (Dense)           (None, 512)          1049088     dropout_race[0][0]               \n",
      "__________________________________________________________________________________________________\n",
      "features_age (Dense)            (None, 512)          1049088     dropout_age[0][0]                \n",
      "__________________________________________________________________________________________________\n",
      "dropout2_gender (Dropout)       (None, 512)          0           features_gender[0][0]            \n",
      "__________________________________________________________________________________________________\n",
      "dropout2_race (Dropout)         (None, 512)          0           features_race[0][0]              \n",
      "__________________________________________________________________________________________________\n",
      "dropout2_age (Dropout)          (None, 512)          0           features_age[0][0]               \n",
      "__________________________________________________________________________________________________\n",
      "gender (Dense)                  (None, 2)            1026        dropout2_gender[0][0]            \n",
      "__________________________________________________________________________________________________\n",
      "race (Dense)                    (None, 5)            2565        dropout2_race[0][0]              \n",
      "__________________________________________________________________________________________________\n",
      "age (Dense)                     (None, 9)            4617        dropout2_age[0][0]               \n",
      "==================================================================================================\n",
      "Total params: 26,720,272\n",
      "Trainable params: 26,674,832\n",
      "Non-trainable params: 45,440\n",
      "__________________________________________________________________________________________________\n"
     ]
    }
   ],
   "metadata": {}
  },
  {
   "cell_type": "code",
   "execution_count": 14,
   "source": [
    "keras.utils.plot_model(classifier)"
   ],
   "outputs": [
    {
     "output_type": "execute_result",
     "data": {
      "text/plain": [
       "<IPython.core.display.Image object>"
      ],
      "image/png": "[encoded data removed]"
     },
     "metadata": {},
     "execution_count": 14
    }
   ],
   "metadata": {}
  },
  {
   "cell_type": "code",
   "execution_count": 15,
   "source": [
    "history = classifier.fit(train_iter, batch_size=batch_size, epochs=num_epochs, validation_data=val_iter, callbacks=callbacks)\r\n",
    "\r\n",
    "classifier.save('./ckpt/{}-{}.h5'.format(script_name, 'last'))"
   ],
   "outputs": [
    {
     "output_type": "stream",
     "name": "stdout",
     "text": [
      "Epoch 1/50\n",
      "339/339 [==============================] - 153s 427ms/step - loss: 0.4053 - gender_loss: 0.6750 - race_loss: 1.5177 - age_loss: 1.8605 - gender_sparse_categorical_accuracy: 0.6074 - race_sparse_categorical_accuracy: 0.3271 - age_sparse_categorical_accuracy: 0.3018 - val_loss: 0.3619 - val_gender_loss: 0.5800 - val_race_loss: 1.3560 - val_age_loss: 1.6834 - val_gender_sparse_categorical_accuracy: 0.6827 - val_race_sparse_categorical_accuracy: 0.4250 - val_age_sparse_categorical_accuracy: 0.3453\n"
     ]
    },
    {
     "output_type": "stream",
     "name": "stderr",
     "text": [
      "/usr/local/lib/python3.6/dist-packages/tensorflow/python/keras/utils/generic_utils.py:497: CustomMaskWarning: Custom mask layers require a config and must override get_config. When loading, the custom mask layer must be passed to the custom_objects argument.\n",
      "  category=CustomMaskWarning)\n"
     ]
    },
    {
     "output_type": "stream",
     "name": "stdout",
     "text": [
      "Epoch 2/50\n",
      "339/339 [==============================] - 98s 290ms/step - loss: 0.3436 - gender_loss: 0.5193 - race_loss: 1.2906 - age_loss: 1.6263 - gender_sparse_categorical_accuracy: 0.7313 - race_sparse_categorical_accuracy: 0.4600 - age_sparse_categorical_accuracy: 0.3590 - val_loss: 0.3085 - val_gender_loss: 0.4485 - val_race_loss: 1.1287 - val_age_loss: 1.5077 - val_gender_sparse_categorical_accuracy: 0.7767 - val_race_sparse_categorical_accuracy: 0.5367 - val_age_sparse_categorical_accuracy: 0.3946\n",
      "Epoch 3/50\n",
      "339/339 [==============================] - 97s 285ms/step - loss: 0.3007 - gender_loss: 0.4235 - race_loss: 1.1016 - age_loss: 1.4816 - gender_sparse_categorical_accuracy: 0.7940 - race_sparse_categorical_accuracy: 0.5514 - age_sparse_categorical_accuracy: 0.4030 - val_loss: 0.2802 - val_gender_loss: 0.3895 - val_race_loss: 1.0132 - val_age_loss: 1.3988 - val_gender_sparse_categorical_accuracy: 0.8128 - val_race_sparse_categorical_accuracy: 0.5916 - val_age_sparse_categorical_accuracy: 0.4310\n",
      "Epoch 4/50\n",
      "339/339 [==============================] - 95s 278ms/step - loss: 0.2755 - gender_loss: 0.3721 - race_loss: 0.9994 - age_loss: 1.3833 - gender_sparse_categorical_accuracy: 0.8216 - race_sparse_categorical_accuracy: 0.5996 - age_sparse_categorical_accuracy: 0.4353 - val_loss: 0.2629 - val_gender_loss: 0.3585 - val_race_loss: 0.9370 - val_age_loss: 1.3332 - val_gender_sparse_categorical_accuracy: 0.8291 - val_race_sparse_categorical_accuracy: 0.6263 - val_age_sparse_categorical_accuracy: 0.4353\n",
      "Epoch 5/50\n",
      "339/339 [==============================] - 95s 281ms/step - loss: 0.2596 - gender_loss: 0.3395 - race_loss: 0.9395 - age_loss: 1.3165 - gender_sparse_categorical_accuracy: 0.8396 - race_sparse_categorical_accuracy: 0.6253 - age_sparse_categorical_accuracy: 0.4559 - val_loss: 0.2461 - val_gender_loss: 0.3229 - val_race_loss: 0.8753 - val_age_loss: 1.2630 - val_gender_sparse_categorical_accuracy: 0.8470 - val_race_sparse_categorical_accuracy: 0.6494 - val_age_sparse_categorical_accuracy: 0.4816\n",
      "Epoch 6/50\n",
      "339/339 [==============================] - 92s 270ms/step - loss: 0.2462 - gender_loss: 0.3128 - race_loss: 0.8860 - age_loss: 1.2634 - gender_sparse_categorical_accuracy: 0.8542 - race_sparse_categorical_accuracy: 0.6480 - age_sparse_categorical_accuracy: 0.4736 - val_loss: 0.2352 - val_gender_loss: 0.2949 - val_race_loss: 0.8294 - val_age_loss: 1.2279 - val_gender_sparse_categorical_accuracy: 0.8667 - val_race_sparse_categorical_accuracy: 0.6727 - val_age_sparse_categorical_accuracy: 0.4852\n",
      "Epoch 7/50\n",
      "339/339 [==============================] - 93s 274ms/step - loss: 0.2408 - gender_loss: 0.3016 - race_loss: 0.8636 - age_loss: 1.2430 - gender_sparse_categorical_accuracy: 0.8613 - race_sparse_categorical_accuracy: 0.6582 - age_sparse_categorical_accuracy: 0.4813 - val_loss: 0.2388 - val_gender_loss: 0.3104 - val_race_loss: 0.8304 - val_age_loss: 1.2473 - val_gender_sparse_categorical_accuracy: 0.8602 - val_race_sparse_categorical_accuracy: 0.6706 - val_age_sparse_categorical_accuracy: 0.4817\n",
      "Epoch 8/50\n",
      "339/339 [==============================] - 94s 276ms/step - loss: 0.2318 - gender_loss: 0.2848 - race_loss: 0.8264 - age_loss: 1.2066 - gender_sparse_categorical_accuracy: 0.8689 - race_sparse_categorical_accuracy: 0.6742 - age_sparse_categorical_accuracy: 0.4933 - val_loss: 0.2269 - val_gender_loss: 0.2905 - val_race_loss: 0.7955 - val_age_loss: 1.1830 - val_gender_sparse_categorical_accuracy: 0.8701 - val_race_sparse_categorical_accuracy: 0.6920 - val_age_sparse_categorical_accuracy: 0.5091\n",
      "Epoch 9/50\n",
      "339/339 [==============================] - 93s 273ms/step - loss: 0.2288 - gender_loss: 0.2815 - race_loss: 0.8149 - age_loss: 1.1916 - gender_sparse_categorical_accuracy: 0.8709 - race_sparse_categorical_accuracy: 0.6790 - age_sparse_categorical_accuracy: 0.4982 - val_loss: 0.2250 - val_gender_loss: 0.2774 - val_race_loss: 0.7861 - val_age_loss: 1.1868 - val_gender_sparse_categorical_accuracy: 0.8716 - val_race_sparse_categorical_accuracy: 0.6874 - val_age_sparse_categorical_accuracy: 0.4984\n",
      "Epoch 10/50\n",
      "339/339 [==============================] - 93s 273ms/step - loss: 0.2256 - gender_loss: 0.2736 - race_loss: 0.7993 - age_loss: 1.1829 - gender_sparse_categorical_accuracy: 0.8755 - race_sparse_categorical_accuracy: 0.6855 - age_sparse_categorical_accuracy: 0.5041 - val_loss: 0.2492 - val_gender_loss: 0.3263 - val_race_loss: 0.8917 - val_age_loss: 1.2736 - val_gender_sparse_categorical_accuracy: 0.8482 - val_race_sparse_categorical_accuracy: 0.6420 - val_age_sparse_categorical_accuracy: 0.4734\n",
      "Epoch 11/50\n",
      "339/339 [==============================] - 93s 275ms/step - loss: 0.2254 - gender_loss: 0.2755 - race_loss: 0.8007 - age_loss: 1.1774 - gender_sparse_categorical_accuracy: 0.8739 - race_sparse_categorical_accuracy: 0.6855 - age_sparse_categorical_accuracy: 0.5056 - val_loss: 0.2189 - val_gender_loss: 0.2681 - val_race_loss: 0.7684 - val_age_loss: 1.1527 - val_gender_sparse_categorical_accuracy: 0.8799 - val_race_sparse_categorical_accuracy: 0.6970 - val_age_sparse_categorical_accuracy: 0.5215\n",
      "Epoch 12/50\n",
      "339/339 [==============================] - 92s 272ms/step - loss: 0.2144 - gender_loss: 0.2515 - race_loss: 0.7577 - age_loss: 1.1353 - gender_sparse_categorical_accuracy: 0.8866 - race_sparse_categorical_accuracy: 0.7043 - age_sparse_categorical_accuracy: 0.5190 - val_loss: 0.2163 - val_gender_loss: 0.2607 - val_race_loss: 0.7543 - val_age_loss: 1.1476 - val_gender_sparse_categorical_accuracy: 0.8838 - val_race_sparse_categorical_accuracy: 0.7071 - val_age_sparse_categorical_accuracy: 0.5211\n",
      "Epoch 13/50\n",
      "339/339 [==============================] - 92s 272ms/step - loss: 0.2081 - gender_loss: 0.2377 - race_loss: 0.7302 - age_loss: 1.1133 - gender_sparse_categorical_accuracy: 0.8936 - race_sparse_categorical_accuracy: 0.7149 - age_sparse_categorical_accuracy: 0.5282 - val_loss: 0.2101 - val_gender_loss: 0.2553 - val_race_loss: 0.7238 - val_age_loss: 1.1218 - val_gender_sparse_categorical_accuracy: 0.8874 - val_race_sparse_categorical_accuracy: 0.7143 - val_age_sparse_categorical_accuracy: 0.5257\n",
      "Epoch 14/50\n",
      "339/339 [==============================] - 92s 271ms/step - loss: 0.2088 - gender_loss: 0.2391 - race_loss: 0.7312 - age_loss: 1.1177 - gender_sparse_categorical_accuracy: 0.8937 - race_sparse_categorical_accuracy: 0.7169 - age_sparse_categorical_accuracy: 0.5248 - val_loss: 0.2061 - val_gender_loss: 0.2443 - val_race_loss: 0.7056 - val_age_loss: 1.1111 - val_gender_sparse_categorical_accuracy: 0.8927 - val_race_sparse_categorical_accuracy: 0.7239 - val_age_sparse_categorical_accuracy: 0.5289\n",
      "Epoch 15/50\n",
      "339/339 [==============================] - 93s 275ms/step - loss: 0.2040 - gender_loss: 0.2310 - race_loss: 0.7131 - age_loss: 1.0956 - gender_sparse_categorical_accuracy: 0.8963 - race_sparse_categorical_accuracy: 0.7236 - age_sparse_categorical_accuracy: 0.5357 - val_loss: 0.2053 - val_gender_loss: 0.2441 - val_race_loss: 0.7152 - val_age_loss: 1.0941 - val_gender_sparse_categorical_accuracy: 0.8900 - val_race_sparse_categorical_accuracy: 0.7188 - val_age_sparse_categorical_accuracy: 0.5313\n",
      "Epoch 16/50\n",
      "339/339 [==============================] - 91s 269ms/step - loss: 0.2061 - gender_loss: 0.2352 - race_loss: 0.7181 - age_loss: 1.1080 - gender_sparse_categorical_accuracy: 0.8952 - race_sparse_categorical_accuracy: 0.7213 - age_sparse_categorical_accuracy: 0.5297 - val_loss: 0.2105 - val_gender_loss: 0.2538 - val_race_loss: 0.7335 - val_age_loss: 1.1177 - val_gender_sparse_categorical_accuracy: 0.8821 - val_race_sparse_categorical_accuracy: 0.7099 - val_age_sparse_categorical_accuracy: 0.5215\n",
      "Epoch 17/50\n",
      "339/339 [==============================] - 91s 267ms/step - loss: 0.2011 - gender_loss: 0.2253 - race_loss: 0.6980 - age_loss: 1.0877 - gender_sparse_categorical_accuracy: 0.8993 - race_sparse_categorical_accuracy: 0.7299 - age_sparse_categorical_accuracy: 0.5383 - val_loss: 0.2070 - val_gender_loss: 0.2500 - val_race_loss: 0.7138 - val_age_loss: 1.1064 - val_gender_sparse_categorical_accuracy: 0.8887 - val_race_sparse_categorical_accuracy: 0.7149 - val_age_sparse_categorical_accuracy: 0.5315\n",
      "Epoch 18/50\n"
     ]
    },
    {
     "output_type": "stream",
     "name": "stdout",
     "text": [
      "339/339 [==============================] - 91s 269ms/step - loss: 0.1985 - gender_loss: 0.2206 - race_loss: 0.6893 - age_loss: 1.0750 - gender_sparse_categorical_accuracy: 0.9031 - race_sparse_categorical_accuracy: 0.7330 - age_sparse_categorical_accuracy: 0.5415 - val_loss: 0.2045 - val_gender_loss: 0.2469 - val_race_loss: 0.6952 - val_age_loss: 1.1033 - val_gender_sparse_categorical_accuracy: 0.8939 - val_race_sparse_categorical_accuracy: 0.7253 - val_age_sparse_categorical_accuracy: 0.5330\n",
      "Epoch 19/50\n",
      "339/339 [==============================] - 92s 270ms/step - loss: 0.1962 - gender_loss: 0.2153 - race_loss: 0.6802 - age_loss: 1.0670 - gender_sparse_categorical_accuracy: 0.9058 - race_sparse_categorical_accuracy: 0.7378 - age_sparse_categorical_accuracy: 0.5475 - val_loss: 0.2016 - val_gender_loss: 0.2319 - val_race_loss: 0.6960 - val_age_loss: 1.0877 - val_gender_sparse_categorical_accuracy: 0.8996 - val_race_sparse_categorical_accuracy: 0.7249 - val_age_sparse_categorical_accuracy: 0.5426\n",
      "Epoch 20/50\n",
      "339/339 [==============================] - 91s 267ms/step - loss: 0.1995 - gender_loss: 0.2217 - race_loss: 0.6957 - age_loss: 1.0776 - gender_sparse_categorical_accuracy: 0.9027 - race_sparse_categorical_accuracy: 0.7310 - age_sparse_categorical_accuracy: 0.5407 - val_loss: 0.1994 - val_gender_loss: 0.2225 - val_race_loss: 0.6789 - val_age_loss: 1.0927 - val_gender_sparse_categorical_accuracy: 0.9047 - val_race_sparse_categorical_accuracy: 0.7368 - val_age_sparse_categorical_accuracy: 0.5423\n",
      "Epoch 21/50\n",
      "339/339 [==============================] - 93s 273ms/step - loss: 0.1917 - gender_loss: 0.2042 - race_loss: 0.6643 - age_loss: 1.0486 - gender_sparse_categorical_accuracy: 0.9111 - race_sparse_categorical_accuracy: 0.7434 - age_sparse_categorical_accuracy: 0.5521 - val_loss: 0.1954 - val_gender_loss: 0.2140 - val_race_loss: 0.6667 - val_age_loss: 1.0735 - val_gender_sparse_categorical_accuracy: 0.9074 - val_race_sparse_categorical_accuracy: 0.7393 - val_age_sparse_categorical_accuracy: 0.5456\n",
      "Epoch 22/50\n",
      "339/339 [==============================] - 91s 268ms/step - loss: 0.1898 - gender_loss: 0.2022 - race_loss: 0.6524 - age_loss: 1.0437 - gender_sparse_categorical_accuracy: 0.9127 - race_sparse_categorical_accuracy: 0.7491 - age_sparse_categorical_accuracy: 0.5537 - val_loss: 0.1975 - val_gender_loss: 0.2168 - val_race_loss: 0.6810 - val_age_loss: 1.0772 - val_gender_sparse_categorical_accuracy: 0.9052 - val_race_sparse_categorical_accuracy: 0.7354 - val_age_sparse_categorical_accuracy: 0.5440\n",
      "Epoch 23/50\n",
      "339/339 [==============================] - 91s 269ms/step - loss: 0.1856 - gender_loss: 0.1918 - race_loss: 0.6379 - age_loss: 1.0260 - gender_sparse_categorical_accuracy: 0.9174 - race_sparse_categorical_accuracy: 0.7550 - age_sparse_categorical_accuracy: 0.5596 - val_loss: 0.1956 - val_gender_loss: 0.2197 - val_race_loss: 0.6701 - val_age_loss: 1.0667 - val_gender_sparse_categorical_accuracy: 0.9056 - val_race_sparse_categorical_accuracy: 0.7437 - val_age_sparse_categorical_accuracy: 0.5429\n",
      "Epoch 24/50\n",
      "339/339 [==============================] - 91s 267ms/step - loss: 0.1828 - gender_loss: 0.1849 - race_loss: 0.6232 - age_loss: 1.0196 - gender_sparse_categorical_accuracy: 0.9196 - race_sparse_categorical_accuracy: 0.7609 - age_sparse_categorical_accuracy: 0.5637 - val_loss: 0.1949 - val_gender_loss: 0.2189 - val_race_loss: 0.6682 - val_age_loss: 1.0623 - val_gender_sparse_categorical_accuracy: 0.9057 - val_race_sparse_categorical_accuracy: 0.7422 - val_age_sparse_categorical_accuracy: 0.5510\n",
      "Epoch 25/50\n",
      "339/339 [==============================] - 92s 271ms/step - loss: 0.1799 - gender_loss: 0.1787 - race_loss: 0.6145 - age_loss: 1.0057 - gender_sparse_categorical_accuracy: 0.9245 - race_sparse_categorical_accuracy: 0.7651 - age_sparse_categorical_accuracy: 0.5682 - val_loss: 0.1936 - val_gender_loss: 0.2194 - val_race_loss: 0.6524 - val_age_loss: 1.0644 - val_gender_sparse_categorical_accuracy: 0.9043 - val_race_sparse_categorical_accuracy: 0.7480 - val_age_sparse_categorical_accuracy: 0.5519\n",
      "Epoch 26/50\n",
      "339/339 [==============================] - 92s 272ms/step - loss: 0.1794 - gender_loss: 0.1824 - race_loss: 0.6087 - age_loss: 1.0031 - gender_sparse_categorical_accuracy: 0.9219 - race_sparse_categorical_accuracy: 0.7670 - age_sparse_categorical_accuracy: 0.5686 - val_loss: 0.1918 - val_gender_loss: 0.2161 - val_race_loss: 0.6525 - val_age_loss: 1.0497 - val_gender_sparse_categorical_accuracy: 0.9077 - val_race_sparse_categorical_accuracy: 0.7482 - val_age_sparse_categorical_accuracy: 0.5537\n",
      "Epoch 27/50\n",
      "339/339 [==============================] - 93s 272ms/step - loss: 0.1768 - gender_loss: 0.1747 - race_loss: 0.5989 - age_loss: 0.9943 - gender_sparse_categorical_accuracy: 0.9251 - race_sparse_categorical_accuracy: 0.7716 - age_sparse_categorical_accuracy: 0.5755 - val_loss: 0.1926 - val_gender_loss: 0.2152 - val_race_loss: 0.6530 - val_age_loss: 1.0580 - val_gender_sparse_categorical_accuracy: 0.9083 - val_race_sparse_categorical_accuracy: 0.7510 - val_age_sparse_categorical_accuracy: 0.5522\n",
      "Epoch 28/50\n",
      "339/339 [==============================] - 93s 275ms/step - loss: 0.1744 - gender_loss: 0.1686 - race_loss: 0.5888 - age_loss: 0.9869 - gender_sparse_categorical_accuracy: 0.9288 - race_sparse_categorical_accuracy: 0.7758 - age_sparse_categorical_accuracy: 0.5750 - val_loss: 0.1883 - val_gender_loss: 0.2045 - val_race_loss: 0.6404 - val_age_loss: 1.0385 - val_gender_sparse_categorical_accuracy: 0.9136 - val_race_sparse_categorical_accuracy: 0.7558 - val_age_sparse_categorical_accuracy: 0.5592\n",
      "Epoch 29/50\n",
      "339/339 [==============================] - 92s 271ms/step - loss: 0.1730 - gender_loss: 0.1702 - race_loss: 0.5811 - age_loss: 0.9787 - gender_sparse_categorical_accuracy: 0.9278 - race_sparse_categorical_accuracy: 0.7787 - age_sparse_categorical_accuracy: 0.5793 - val_loss: 0.1884 - val_gender_loss: 0.2097 - val_race_loss: 0.6326 - val_age_loss: 1.0419 - val_gender_sparse_categorical_accuracy: 0.9102 - val_race_sparse_categorical_accuracy: 0.7578 - val_age_sparse_categorical_accuracy: 0.5576\n",
      "Epoch 30/50\n",
      "339/339 [==============================] - 91s 269ms/step - loss: 0.1722 - gender_loss: 0.1673 - race_loss: 0.5780 - age_loss: 0.9765 - gender_sparse_categorical_accuracy: 0.9286 - race_sparse_categorical_accuracy: 0.7813 - age_sparse_categorical_accuracy: 0.5794 - val_loss: 0.1884 - val_gender_loss: 0.2024 - val_race_loss: 0.6505 - val_age_loss: 1.0311 - val_gender_sparse_categorical_accuracy: 0.9122 - val_race_sparse_categorical_accuracy: 0.7483 - val_age_sparse_categorical_accuracy: 0.5576\n",
      "Epoch 31/50\n",
      "339/339 [==============================] - 92s 272ms/step - loss: 0.1700 - gender_loss: 0.1627 - race_loss: 0.5696 - age_loss: 0.9674 - gender_sparse_categorical_accuracy: 0.9316 - race_sparse_categorical_accuracy: 0.7830 - age_sparse_categorical_accuracy: 0.5806 - val_loss: 0.1882 - val_gender_loss: 0.2094 - val_race_loss: 0.6360 - val_age_loss: 1.0364 - val_gender_sparse_categorical_accuracy: 0.9121 - val_race_sparse_categorical_accuracy: 0.7573 - val_age_sparse_categorical_accuracy: 0.5532\n",
      "Epoch 32/50\n",
      "339/339 [==============================] - 91s 269ms/step - loss: 0.1679 - gender_loss: 0.1601 - race_loss: 0.5608 - age_loss: 0.9583 - gender_sparse_categorical_accuracy: 0.9328 - race_sparse_categorical_accuracy: 0.7866 - age_sparse_categorical_accuracy: 0.5844 - val_loss: 0.1881 - val_gender_loss: 0.2049 - val_race_loss: 0.6410 - val_age_loss: 1.0348 - val_gender_sparse_categorical_accuracy: 0.9150 - val_race_sparse_categorical_accuracy: 0.7548 - val_age_sparse_categorical_accuracy: 0.5560\n",
      "Epoch 33/50\n",
      "339/339 [==============================] - 92s 270ms/step - loss: 0.1668 - gender_loss: 0.1555 - race_loss: 0.5545 - age_loss: 0.9577 - gender_sparse_categorical_accuracy: 0.9348 - race_sparse_categorical_accuracy: 0.7879 - age_sparse_categorical_accuracy: 0.5888 - val_loss: 0.1913 - val_gender_loss: 0.2110 - val_race_loss: 0.6533 - val_age_loss: 1.0482 - val_gender_sparse_categorical_accuracy: 0.9135 - val_race_sparse_categorical_accuracy: 0.7508 - val_age_sparse_categorical_accuracy: 0.5632\n",
      "Epoch 34/50\n"
     ]
    },
    {
     "output_type": "stream",
     "name": "stdout",
     "text": [
      "339/339 [==============================] - 92s 270ms/step - loss: 0.1648 - gender_loss: 0.1520 - race_loss: 0.5487 - age_loss: 0.9468 - gender_sparse_categorical_accuracy: 0.9364 - race_sparse_categorical_accuracy: 0.7926 - age_sparse_categorical_accuracy: 0.5917 - val_loss: 0.1886 - val_gender_loss: 0.2116 - val_race_loss: 0.6392 - val_age_loss: 1.0349 - val_gender_sparse_categorical_accuracy: 0.9146 - val_race_sparse_categorical_accuracy: 0.7560 - val_age_sparse_categorical_accuracy: 0.5594\n",
      "Epoch 35/50\n",
      "339/339 [==============================] - 92s 272ms/step - loss: 0.1623 - gender_loss: 0.1485 - race_loss: 0.5373 - age_loss: 0.9370 - gender_sparse_categorical_accuracy: 0.9377 - race_sparse_categorical_accuracy: 0.7970 - age_sparse_categorical_accuracy: 0.5952 - val_loss: 0.1899 - val_gender_loss: 0.2071 - val_race_loss: 0.6462 - val_age_loss: 1.0455 - val_gender_sparse_categorical_accuracy: 0.9158 - val_race_sparse_categorical_accuracy: 0.7530 - val_age_sparse_categorical_accuracy: 0.5611\n",
      "Epoch 36/50\n",
      "339/339 [==============================] - 93s 274ms/step - loss: 0.1623 - gender_loss: 0.1482 - race_loss: 0.5357 - age_loss: 0.9390 - gender_sparse_categorical_accuracy: 0.9382 - race_sparse_categorical_accuracy: 0.7967 - age_sparse_categorical_accuracy: 0.5938 - val_loss: 0.1918 - val_gender_loss: 0.2089 - val_race_loss: 0.6619 - val_age_loss: 1.0467 - val_gender_sparse_categorical_accuracy: 0.9137 - val_race_sparse_categorical_accuracy: 0.7495 - val_age_sparse_categorical_accuracy: 0.5534\n",
      "Epoch 37/50\n",
      "339/339 [==============================] - 92s 271ms/step - loss: 0.1601 - gender_loss: 0.1468 - race_loss: 0.5266 - age_loss: 0.9278 - gender_sparse_categorical_accuracy: 0.9393 - race_sparse_categorical_accuracy: 0.7996 - age_sparse_categorical_accuracy: 0.6030 - val_loss: 0.1911 - val_gender_loss: 0.2157 - val_race_loss: 0.6543 - val_age_loss: 1.0414 - val_gender_sparse_categorical_accuracy: 0.9144 - val_race_sparse_categorical_accuracy: 0.7554 - val_age_sparse_categorical_accuracy: 0.5613\n",
      "Epoch 38/50\n",
      "339/339 [==============================] - 91s 269ms/step - loss: 0.1583 - gender_loss: 0.1401 - race_loss: 0.5194 - age_loss: 0.9234 - gender_sparse_categorical_accuracy: 0.9416 - race_sparse_categorical_accuracy: 0.8029 - age_sparse_categorical_accuracy: 0.5993 - val_loss: 0.1866 - val_gender_loss: 0.1989 - val_race_loss: 0.6385 - val_age_loss: 1.0291 - val_gender_sparse_categorical_accuracy: 0.9194 - val_race_sparse_categorical_accuracy: 0.7619 - val_age_sparse_categorical_accuracy: 0.5639\n",
      "Epoch 39/50\n",
      "339/339 [==============================] - 92s 270ms/step - loss: 0.1573 - gender_loss: 0.1403 - race_loss: 0.5152 - age_loss: 0.9176 - gender_sparse_categorical_accuracy: 0.9418 - race_sparse_categorical_accuracy: 0.8049 - age_sparse_categorical_accuracy: 0.6026 - val_loss: 0.1890 - val_gender_loss: 0.2063 - val_race_loss: 0.6507 - val_age_loss: 1.0334 - val_gender_sparse_categorical_accuracy: 0.9161 - val_race_sparse_categorical_accuracy: 0.7584 - val_age_sparse_categorical_accuracy: 0.5620\n",
      "Epoch 40/50\n",
      "339/339 [==============================] - 93s 275ms/step - loss: 0.1561 - gender_loss: 0.1379 - race_loss: 0.5105 - age_loss: 0.9126 - gender_sparse_categorical_accuracy: 0.9429 - race_sparse_categorical_accuracy: 0.8064 - age_sparse_categorical_accuracy: 0.6057 - val_loss: 0.1868 - val_gender_loss: 0.2021 - val_race_loss: 0.6332 - val_age_loss: 1.0324 - val_gender_sparse_categorical_accuracy: 0.9209 - val_race_sparse_categorical_accuracy: 0.7652 - val_age_sparse_categorical_accuracy: 0.5626\n",
      "Epoch 41/50\n",
      "339/339 [==============================] - 92s 272ms/step - loss: 0.1539 - gender_loss: 0.1338 - race_loss: 0.4993 - age_loss: 0.9058 - gender_sparse_categorical_accuracy: 0.9448 - race_sparse_categorical_accuracy: 0.8117 - age_sparse_categorical_accuracy: 0.6080 - val_loss: 0.1877 - val_gender_loss: 0.2055 - val_race_loss: 0.6409 - val_age_loss: 1.0310 - val_gender_sparse_categorical_accuracy: 0.9165 - val_race_sparse_categorical_accuracy: 0.7626 - val_age_sparse_categorical_accuracy: 0.5702\n",
      "Epoch 42/50\n",
      "339/339 [==============================] - 91s 269ms/step - loss: 0.1524 - gender_loss: 0.1313 - race_loss: 0.4932 - age_loss: 0.8992 - gender_sparse_categorical_accuracy: 0.9455 - race_sparse_categorical_accuracy: 0.8129 - age_sparse_categorical_accuracy: 0.6115 - val_loss: 0.1902 - val_gender_loss: 0.2049 - val_race_loss: 0.6506 - val_age_loss: 1.0465 - val_gender_sparse_categorical_accuracy: 0.9158 - val_race_sparse_categorical_accuracy: 0.7557 - val_age_sparse_categorical_accuracy: 0.5633\n",
      "Epoch 43/50\n",
      "339/339 [==============================] - 91s 269ms/step - loss: 0.1507 - gender_loss: 0.1280 - race_loss: 0.4878 - age_loss: 0.8914 - gender_sparse_categorical_accuracy: 0.9465 - race_sparse_categorical_accuracy: 0.8159 - age_sparse_categorical_accuracy: 0.6135 - val_loss: 0.1903 - val_gender_loss: 0.2042 - val_race_loss: 0.6472 - val_age_loss: 1.0519 - val_gender_sparse_categorical_accuracy: 0.9218 - val_race_sparse_categorical_accuracy: 0.7581 - val_age_sparse_categorical_accuracy: 0.5605\n",
      "Epoch 44/50\n",
      "339/339 [==============================] - 92s 271ms/step - loss: 0.1498 - gender_loss: 0.1275 - race_loss: 0.4816 - age_loss: 0.8895 - gender_sparse_categorical_accuracy: 0.9465 - race_sparse_categorical_accuracy: 0.8174 - age_sparse_categorical_accuracy: 0.6177 - val_loss: 0.1917 - val_gender_loss: 0.2063 - val_race_loss: 0.6590 - val_age_loss: 1.0518 - val_gender_sparse_categorical_accuracy: 0.9150 - val_race_sparse_categorical_accuracy: 0.7586 - val_age_sparse_categorical_accuracy: 0.5579\n",
      "Epoch 45/50\n",
      "339/339 [==============================] - 92s 270ms/step - loss: 0.1476 - gender_loss: 0.1243 - race_loss: 0.4728 - age_loss: 0.8788 - gender_sparse_categorical_accuracy: 0.9484 - race_sparse_categorical_accuracy: 0.8206 - age_sparse_categorical_accuracy: 0.6183 - val_loss: 0.1895 - val_gender_loss: 0.2063 - val_race_loss: 0.6478 - val_age_loss: 1.0410 - val_gender_sparse_categorical_accuracy: 0.9176 - val_race_sparse_categorical_accuracy: 0.7585 - val_age_sparse_categorical_accuracy: 0.5605\n",
      "Epoch 46/50\n",
      "339/339 [==============================] - 92s 272ms/step - loss: 0.1484 - gender_loss: 0.1267 - race_loss: 0.4779 - age_loss: 0.8793 - gender_sparse_categorical_accuracy: 0.9478 - race_sparse_categorical_accuracy: 0.8176 - age_sparse_categorical_accuracy: 0.6178 - val_loss: 0.1938 - val_gender_loss: 0.2126 - val_race_loss: 0.6753 - val_age_loss: 1.0497 - val_gender_sparse_categorical_accuracy: 0.9168 - val_race_sparse_categorical_accuracy: 0.7541 - val_age_sparse_categorical_accuracy: 0.5631\n",
      "Epoch 47/50\n",
      "339/339 [==============================] - 92s 271ms/step - loss: 0.1457 - gender_loss: 0.1203 - race_loss: 0.4646 - age_loss: 0.8719 - gender_sparse_categorical_accuracy: 0.9506 - race_sparse_categorical_accuracy: 0.8247 - age_sparse_categorical_accuracy: 0.6186 - val_loss: 0.1945 - val_gender_loss: 0.2280 - val_race_loss: 0.6662 - val_age_loss: 1.0512 - val_gender_sparse_categorical_accuracy: 0.9184 - val_race_sparse_categorical_accuracy: 0.7584 - val_age_sparse_categorical_accuracy: 0.5681\n",
      "Epoch 48/50\n",
      "339/339 [==============================] - 92s 272ms/step - loss: 0.1428 - gender_loss: 0.1149 - race_loss: 0.4502 - age_loss: 0.8628 - gender_sparse_categorical_accuracy: 0.9523 - race_sparse_categorical_accuracy: 0.8297 - age_sparse_categorical_accuracy: 0.6244 - val_loss: 0.1917 - val_gender_loss: 0.2119 - val_race_loss: 0.6605 - val_age_loss: 1.0443 - val_gender_sparse_categorical_accuracy: 0.9183 - val_race_sparse_categorical_accuracy: 0.7605 - val_age_sparse_categorical_accuracy: 0.5671\n",
      "Epoch 49/50\n",
      "339/339 [==============================] - 92s 271ms/step - loss: 0.1412 - gender_loss: 0.1145 - race_loss: 0.4438 - age_loss: 0.8533 - gender_sparse_categorical_accuracy: 0.9524 - race_sparse_categorical_accuracy: 0.8326 - age_sparse_categorical_accuracy: 0.6293 - val_loss: 0.1964 - val_gender_loss: 0.2226 - val_race_loss: 0.6897 - val_age_loss: 1.0517 - val_gender_sparse_categorical_accuracy: 0.9181 - val_race_sparse_categorical_accuracy: 0.7553 - val_age_sparse_categorical_accuracy: 0.5698\n",
      "Epoch 50/50\n"
     ]
    },
    {
     "output_type": "stream",
     "name": "stdout",
     "text": [
      "339/339 [==============================] - 91s 269ms/step - loss: 0.1403 - gender_loss: 0.1130 - race_loss: 0.4416 - age_loss: 0.8483 - gender_sparse_categorical_accuracy: 0.9539 - race_sparse_categorical_accuracy: 0.8329 - age_sparse_categorical_accuracy: 0.6315 - val_loss: 0.1927 - val_gender_loss: 0.2055 - val_race_loss: 0.6670 - val_age_loss: 1.0543 - val_gender_sparse_categorical_accuracy: 0.9191 - val_race_sparse_categorical_accuracy: 0.7558 - val_age_sparse_categorical_accuracy: 0.5642\n"
     ]
    }
   ],
   "metadata": {}
  },
  {
   "cell_type": "code",
   "execution_count": 16,
   "source": [
    "stage = stages[1]\r\n",
    "script_name = script_name_template.format(version, dataset, net, stage)"
   ],
   "outputs": [],
   "metadata": {}
  },
  {
   "cell_type": "code",
   "execution_count": 17,
   "source": [
    "class SupervisedContrastiveLoss(keras.losses.Loss):\r\n",
    "    def __init__(self, temperature=1, name=None):\r\n",
    "        super(SupervisedContrastiveLoss, self).__init__(name=name)\r\n",
    "        self.temperature = temperature\r\n",
    "\r\n",
    "    def __call__(self, labels, feature_vectors, sample_weight=None):\r\n",
    "        # Normalize feature vectors\r\n",
    "        feature_vectors_normalized = tf.math.l2_normalize(feature_vectors, axis=1)\r\n",
    "        # Compute logits\r\n",
    "        logits = tf.divide(\r\n",
    "            tf.matmul(\r\n",
    "                feature_vectors_normalized, tf.transpose(feature_vectors_normalized)\r\n",
    "            ),\r\n",
    "            self.temperature,\r\n",
    "        )\r\n",
    "        return tfa.losses.npairs_loss(tf.squeeze(labels), logits)\r\n",
    "\r\n",
    "\r\n",
    "def add_projection_head(encoder):\r\n",
    "    inputs = keras.Input(shape=input_shape)\r\n",
    "    features = encoder(inputs)\r\n",
    "    outputs = []\r\n",
    "    for col in target_col:\r\n",
    "        outputs.append(layers.Dense(projection_units, activation=\"relu\", name=\"features_\" + col)(features))\r\n",
    "    model = keras.Model(\r\n",
    "        inputs=inputs, outputs=outputs, name=\"encoder_with_projection-head\"\r\n",
    "    )\r\n",
    "    return model"
   ],
   "outputs": [],
   "metadata": {}
  },
  {
   "cell_type": "code",
   "execution_count": 18,
   "source": [
    "encoder = create_encoder()\n",
    "loss = []\n",
    "loss_weights = []\n",
    "for col in target_col:\n",
    "    loss.append(SupervisedContrastiveLoss(temperature))\n",
    "    loss_weights.append(0.1)\n",
    "encoder_with_projection_head = add_projection_head(encoder)\n",
    "encoder_with_projection_head.compile(\n",
    "    optimizer=keras.optimizers.Adam(learning_rate),\n",
    "    loss=loss,\n",
    "    loss_weights=loss_weights\n",
    ")\n",
    "\n",
    "encoder_with_projection_head.summary()\n",
    "keras.utils.plot_model(encoder_with_projection_head)"
   ],
   "outputs": [
    {
     "output_type": "stream",
     "name": "stdout",
     "text": [
      "Model: \"encoder_with_projection-head\"\n",
      "__________________________________________________________________________________________________\n",
      "Layer (type)                    Output Shape         Param #     Connected to                     \n",
      "==================================================================================================\n",
      "input_5 (InputLayer)            [(None, 112, 112, 3) 0                                            \n",
      "__________________________________________________________________________________________________\n",
      "fairface-encoder (Functional)   (None, 2048)         23564800    input_5[0][0]                    \n",
      "__________________________________________________________________________________________________\n",
      "features_gender (Dense)         (None, 128)          262272      fairface-encoder[0][0]           \n",
      "__________________________________________________________________________________________________\n",
      "features_race (Dense)           (None, 128)          262272      fairface-encoder[0][0]           \n",
      "__________________________________________________________________________________________________\n",
      "features_age (Dense)            (None, 128)          262272      fairface-encoder[0][0]           \n",
      "==================================================================================================\n",
      "Total params: 24,351,616\n",
      "Trainable params: 24,306,176\n",
      "Non-trainable params: 45,440\n",
      "__________________________________________________________________________________________________\n"
     ]
    },
    {
     "output_type": "execute_result",
     "data": {
      "text/plain": [
       "<IPython.core.display.Image object>"
      ],
      "image/png": "[encoded data removed]"
     },
     "metadata": {},
     "execution_count": 18
    }
   ],
   "metadata": {}
  },
  {
   "cell_type": "code",
   "execution_count": 19,
   "source": [
    "history = encoder_with_projection_head.fit(\r\n",
    "    train_iter, batch_size=batch_size, epochs=num_epochs\r\n",
    ")\r\n"
   ],
   "outputs": [
    {
     "output_type": "stream",
     "name": "stdout",
     "text": [
      "Epoch 1/50\n",
      "339/339 [==============================] - 86s 240ms/step - loss: 1.6592 - features_gender_loss: 5.5447 - features_race_loss: 5.5271 - features_age_loss: 5.5200\n",
      "Epoch 2/50\n",
      "339/339 [==============================] - 81s 238ms/step - loss: 1.6392 - features_gender_loss: 5.5014 - features_race_loss: 5.4693 - features_age_loss: 5.4218\n",
      "Epoch 3/50\n",
      "339/339 [==============================] - 81s 238ms/step - loss: 1.6157 - features_gender_loss: 5.4358 - features_race_loss: 5.3741 - features_age_loss: 5.3474\n",
      "Epoch 4/50\n",
      "339/339 [==============================] - 81s 239ms/step - loss: 1.5957 - features_gender_loss: 5.3892 - features_race_loss: 5.2867 - features_age_loss: 5.2815\n",
      "Epoch 5/50\n",
      "339/339 [==============================] - 82s 240ms/step - loss: 1.5805 - features_gender_loss: 5.3553 - features_race_loss: 5.2256 - features_age_loss: 5.2242\n",
      "Epoch 6/50\n",
      "339/339 [==============================] - 81s 240ms/step - loss: 1.5682 - features_gender_loss: 5.3219 - features_race_loss: 5.1782 - features_age_loss: 5.1818\n",
      "Epoch 7/50\n",
      "339/339 [==============================] - 82s 240ms/step - loss: 1.5589 - features_gender_loss: 5.3021 - features_race_loss: 5.1379 - features_age_loss: 5.1494\n",
      "Epoch 8/50\n",
      "339/339 [==============================] - 82s 242ms/step - loss: 1.5509 - features_gender_loss: 5.2816 - features_race_loss: 5.1028 - features_age_loss: 5.1248\n",
      "Epoch 9/50\n",
      "339/339 [==============================] - 82s 242ms/step - loss: 1.5445 - features_gender_loss: 5.2671 - features_race_loss: 5.0724 - features_age_loss: 5.1052\n",
      "Epoch 10/50\n",
      "339/339 [==============================] - 82s 242ms/step - loss: 1.5383 - features_gender_loss: 5.2516 - features_race_loss: 5.0471 - features_age_loss: 5.0847\n",
      "Epoch 11/50\n",
      "339/339 [==============================] - 82s 241ms/step - loss: 1.5335 - features_gender_loss: 5.2401 - features_race_loss: 5.0283 - features_age_loss: 5.0669\n",
      "Epoch 12/50\n",
      "339/339 [==============================] - 83s 244ms/step - loss: 1.5297 - features_gender_loss: 5.2272 - features_race_loss: 5.0130 - features_age_loss: 5.0569\n",
      "Epoch 13/50\n",
      "339/339 [==============================] - 82s 242ms/step - loss: 1.5260 - features_gender_loss: 5.2210 - features_race_loss: 4.9948 - features_age_loss: 5.0442\n",
      "Epoch 14/50\n",
      "339/339 [==============================] - 82s 241ms/step - loss: 1.5214 - features_gender_loss: 5.2085 - features_race_loss: 4.9757 - features_age_loss: 5.0301\n",
      "Epoch 15/50\n",
      "339/339 [==============================] - 82s 242ms/step - loss: 1.5188 - features_gender_loss: 5.2010 - features_race_loss: 4.9642 - features_age_loss: 5.0225\n",
      "Epoch 16/50\n",
      "339/339 [==============================] - 83s 243ms/step - loss: 1.5152 - features_gender_loss: 5.1913 - features_race_loss: 4.9495 - features_age_loss: 5.0116\n",
      "Epoch 17/50\n",
      "339/339 [==============================] - 81s 240ms/step - loss: 1.5118 - features_gender_loss: 5.1836 - features_race_loss: 4.9337 - features_age_loss: 5.0008\n",
      "Epoch 18/50\n",
      "339/339 [==============================] - 82s 241ms/step - loss: 1.5097 - features_gender_loss: 5.1767 - features_race_loss: 4.9260 - features_age_loss: 4.9946\n",
      "Epoch 19/50\n",
      "339/339 [==============================] - 82s 241ms/step - loss: 1.5066 - features_gender_loss: 5.1708 - features_race_loss: 4.9109 - features_age_loss: 4.9848\n",
      "Epoch 20/50\n",
      "339/339 [==============================] - 82s 241ms/step - loss: 1.5038 - features_gender_loss: 5.1608 - features_race_loss: 4.9008 - features_age_loss: 4.9765\n",
      "Epoch 21/50\n",
      "339/339 [==============================] - 82s 241ms/step - loss: 1.5012 - features_gender_loss: 5.1562 - features_race_loss: 4.8880 - features_age_loss: 4.9681\n",
      "Epoch 22/50\n",
      "339/339 [==============================] - 82s 241ms/step - loss: 1.4999 - features_gender_loss: 5.1519 - features_race_loss: 4.8832 - features_age_loss: 4.9638\n",
      "Epoch 23/50\n",
      "339/339 [==============================] - 82s 241ms/step - loss: 1.4966 - features_gender_loss: 5.1437 - features_race_loss: 4.8673 - features_age_loss: 4.9554\n",
      "Epoch 24/50\n",
      "339/339 [==============================] - 82s 240ms/step - loss: 1.4948 - features_gender_loss: 5.1372 - features_race_loss: 4.8611 - features_age_loss: 4.9495\n",
      "Epoch 25/50\n",
      "339/339 [==============================] - 81s 240ms/step - loss: 1.4926 - features_gender_loss: 5.1343 - features_race_loss: 4.8501 - features_age_loss: 4.9416\n",
      "Epoch 26/50\n",
      "339/339 [==============================] - 81s 239ms/step - loss: 1.4901 - features_gender_loss: 5.1281 - features_race_loss: 4.8377 - features_age_loss: 4.9351\n",
      "Epoch 27/50\n",
      "339/339 [==============================] - 82s 240ms/step - loss: 1.4876 - features_gender_loss: 5.1175 - features_race_loss: 4.8269 - features_age_loss: 4.9314\n",
      "Epoch 28/50\n",
      "339/339 [==============================] - 82s 241ms/step - loss: 1.4858 - features_gender_loss: 5.1173 - features_race_loss: 4.8194 - features_age_loss: 4.9217\n",
      "Epoch 29/50\n",
      "339/339 [==============================] - 82s 240ms/step - loss: 1.4834 - features_gender_loss: 5.1077 - features_race_loss: 4.8086 - features_age_loss: 4.9176\n",
      "Epoch 30/50\n",
      "339/339 [==============================] - 82s 242ms/step - loss: 1.4820 - features_gender_loss: 5.1043 - features_race_loss: 4.8017 - features_age_loss: 4.9142\n",
      "Epoch 31/50\n",
      "339/339 [==============================] - 82s 240ms/step - loss: 1.4803 - features_gender_loss: 5.1010 - features_race_loss: 4.7953 - features_age_loss: 4.9072\n",
      "Epoch 32/50\n",
      "339/339 [==============================] - 82s 242ms/step - loss: 1.4775 - features_gender_loss: 5.0920 - features_race_loss: 4.7819 - features_age_loss: 4.9008\n",
      "Epoch 33/50\n",
      "339/339 [==============================] - 82s 241ms/step - loss: 1.4756 - features_gender_loss: 5.0885 - features_race_loss: 4.7742 - features_age_loss: 4.8937\n",
      "Epoch 34/50\n",
      "339/339 [==============================] - 82s 240ms/step - loss: 1.4737 - features_gender_loss: 5.0829 - features_race_loss: 4.7683 - features_age_loss: 4.8862\n",
      "Epoch 35/50\n",
      "339/339 [==============================] - 82s 242ms/step - loss: 1.4719 - features_gender_loss: 5.0792 - features_race_loss: 4.7566 - features_age_loss: 4.8828\n",
      "Epoch 36/50\n",
      "339/339 [==============================] - 81s 239ms/step - loss: 1.4702 - features_gender_loss: 5.0747 - features_race_loss: 4.7505 - features_age_loss: 4.8769\n",
      "Epoch 37/50\n",
      "339/339 [==============================] - 82s 241ms/step - loss: 1.4683 - features_gender_loss: 5.0700 - features_race_loss: 4.7392 - features_age_loss: 4.8743\n",
      "Epoch 38/50\n",
      "339/339 [==============================] - 82s 242ms/step - loss: 1.4669 - features_gender_loss: 5.0660 - features_race_loss: 4.7354 - features_age_loss: 4.8680\n",
      "Epoch 39/50\n",
      "339/339 [==============================] - 82s 242ms/step - loss: 1.4650 - features_gender_loss: 5.0620 - features_race_loss: 4.7253 - features_age_loss: 4.8624\n",
      "Epoch 40/50\n",
      "339/339 [==============================] - 81s 239ms/step - loss: 1.4627 - features_gender_loss: 5.0560 - features_race_loss: 4.7171 - features_age_loss: 4.8542\n",
      "Epoch 41/50\n",
      "339/339 [==============================] - 82s 241ms/step - loss: 1.4610 - features_gender_loss: 5.0533 - features_race_loss: 4.7067 - features_age_loss: 4.8497\n",
      "Epoch 42/50\n",
      "339/339 [==============================] - 82s 243ms/step - loss: 1.4597 - features_gender_loss: 5.0486 - features_race_loss: 4.7013 - features_age_loss: 4.8468\n",
      "Epoch 43/50\n",
      "339/339 [==============================] - 82s 240ms/step - loss: 1.4576 - features_gender_loss: 5.0438 - features_race_loss: 4.6917 - features_age_loss: 4.8403\n",
      "Epoch 44/50\n",
      "339/339 [==============================] - 82s 243ms/step - loss: 1.4560 - features_gender_loss: 5.0357 - features_race_loss: 4.6866 - features_age_loss: 4.8374\n",
      "Epoch 45/50\n",
      "339/339 [==============================] - 82s 241ms/step - loss: 1.4537 - features_gender_loss: 5.0328 - features_race_loss: 4.6746 - features_age_loss: 4.8297\n",
      "Epoch 46/50\n",
      "339/339 [==============================] - 82s 240ms/step - loss: 1.4525 - features_gender_loss: 5.0321 - features_race_loss: 4.6680 - features_age_loss: 4.8244\n",
      "Epoch 47/50\n",
      "339/339 [==============================] - 82s 241ms/step - loss: 1.4510 - features_gender_loss: 5.0270 - features_race_loss: 4.6628 - features_age_loss: 4.8202\n",
      "Epoch 48/50\n"
     ]
    },
    {
     "output_type": "stream",
     "name": "stdout",
     "text": [
      "339/339 [==============================] - 81s 239ms/step - loss: 1.4492 - features_gender_loss: 5.0241 - features_race_loss: 4.6532 - features_age_loss: 4.8147\n",
      "Epoch 49/50\n",
      "339/339 [==============================] - 81s 240ms/step - loss: 1.4475 - features_gender_loss: 5.0179 - features_race_loss: 4.6462 - features_age_loss: 4.8105\n",
      "Epoch 50/50\n",
      "339/339 [==============================] - 81s 238ms/step - loss: 1.4464 - features_gender_loss: 5.0174 - features_race_loss: 4.6411 - features_age_loss: 4.8051\n"
     ]
    },
    {
     "output_type": "execute_result",
     "data": {
      "text/plain": [
       "<Response [200]>"
      ]
     },
     "metadata": {},
     "execution_count": 19
    }
   ],
   "metadata": {}
  },
  {
   "cell_type": "code",
   "execution_count": 20,
   "source": [
    "callbacks = []\r\n",
    "if len(target_col) == 1:\r\n",
    "    for col in target_col:\r\n",
    "        model_checkpoint_callback = tf.keras.callbacks.ModelCheckpoint(\r\n",
    "            filepath='./ckpt/{}-{}.h5'.format(script_name, col),\r\n",
    "            monitor='val_sparse_categorical_accuracy'.format(col),\r\n",
    "            mode='max',\r\n",
    "            save_best_only=True)\r\n",
    "        callbacks.append(model_checkpoint_callback)\r\n",
    "else:\r\n",
    "    for col in target_col:\r\n",
    "        model_checkpoint_callback = tf.keras.callbacks.ModelCheckpoint(\r\n",
    "            filepath='./ckpt/{}-{}.h5'.format(script_name, col),\r\n",
    "            monitor='val_{}_sparse_categorical_accuracy'.format(col),\r\n",
    "            mode='max',\r\n",
    "            save_best_only=True)\r\n",
    "        callbacks.append(model_checkpoint_callback)"
   ],
   "outputs": [],
   "metadata": {}
  },
  {
   "cell_type": "code",
   "execution_count": 21,
   "source": [
    "classifier = create_classifier(encoder, trainable=False, training=False)\r\n",
    "history = classifier.fit(train_iter, batch_size=batch_size, epochs=10, validation_data=val_iter, callbacks=callbacks)"
   ],
   "outputs": [
    {
     "output_type": "stream",
     "name": "stdout",
     "text": [
      "Epoch 1/10\n",
      "339/339 [==============================] - 94s 270ms/step - loss: 0.1455 - gender_loss: 0.0850 - race_loss: 0.4380 - age_loss: 0.9324 - gender_sparse_categorical_accuracy: 0.9708 - race_sparse_categorical_accuracy: 0.8539 - age_sparse_categorical_accuracy: 0.6155 - val_loss: 0.1943 - val_gender_loss: 0.2539 - val_race_loss: 0.6517 - val_age_loss: 1.0375 - val_gender_sparse_categorical_accuracy: 0.9231 - val_race_sparse_categorical_accuracy: 0.7676 - val_age_sparse_categorical_accuracy: 0.5677\n"
     ]
    },
    {
     "output_type": "stream",
     "name": "stderr",
     "text": [
      "/usr/local/lib/python3.6/dist-packages/tensorflow/python/keras/utils/generic_utils.py:497: CustomMaskWarning: Custom mask layers require a config and must override get_config. When loading, the custom mask layer must be passed to the custom_objects argument.\n",
      "  category=CustomMaskWarning)\n"
     ]
    },
    {
     "output_type": "stream",
     "name": "stdout",
     "text": [
      "Epoch 2/10\n",
      "339/339 [==============================] - 90s 264ms/step - loss: 0.1320 - gender_loss: 0.0752 - race_loss: 0.3967 - age_loss: 0.8479 - gender_sparse_categorical_accuracy: 0.9747 - race_sparse_categorical_accuracy: 0.8640 - age_sparse_categorical_accuracy: 0.6392 - val_loss: 0.1948 - val_gender_loss: 0.2252 - val_race_loss: 0.6660 - val_age_loss: 1.0563 - val_gender_sparse_categorical_accuracy: 0.9245 - val_race_sparse_categorical_accuracy: 0.7648 - val_age_sparse_categorical_accuracy: 0.5693\n",
      "Epoch 3/10\n",
      "339/339 [==============================] - 91s 267ms/step - loss: 0.1300 - gender_loss: 0.0717 - race_loss: 0.3887 - age_loss: 0.8394 - gender_sparse_categorical_accuracy: 0.9751 - race_sparse_categorical_accuracy: 0.8645 - age_sparse_categorical_accuracy: 0.6409 - val_loss: 0.1977 - val_gender_loss: 0.2197 - val_race_loss: 0.6900 - val_age_loss: 1.0670 - val_gender_sparse_categorical_accuracy: 0.9247 - val_race_sparse_categorical_accuracy: 0.7639 - val_age_sparse_categorical_accuracy: 0.5576\n",
      "Epoch 4/10\n",
      "339/339 [==============================] - 90s 266ms/step - loss: 0.1293 - gender_loss: 0.0696 - race_loss: 0.3880 - age_loss: 0.8350 - gender_sparse_categorical_accuracy: 0.9758 - race_sparse_categorical_accuracy: 0.8675 - age_sparse_categorical_accuracy: 0.6437 - val_loss: 0.1962 - val_gender_loss: 0.2300 - val_race_loss: 0.6764 - val_age_loss: 1.0553 - val_gender_sparse_categorical_accuracy: 0.9240 - val_race_sparse_categorical_accuracy: 0.7664 - val_age_sparse_categorical_accuracy: 0.5682\n",
      "Epoch 5/10\n",
      "339/339 [==============================] - 91s 267ms/step - loss: 0.1286 - gender_loss: 0.0691 - race_loss: 0.3849 - age_loss: 0.8321 - gender_sparse_categorical_accuracy: 0.9761 - race_sparse_categorical_accuracy: 0.8669 - age_sparse_categorical_accuracy: 0.6438 - val_loss: 0.1996 - val_gender_loss: 0.2480 - val_race_loss: 0.6859 - val_age_loss: 1.0621 - val_gender_sparse_categorical_accuracy: 0.9260 - val_race_sparse_categorical_accuracy: 0.7658 - val_age_sparse_categorical_accuracy: 0.5698\n",
      "Epoch 6/10\n",
      "339/339 [==============================] - 90s 265ms/step - loss: 0.1278 - gender_loss: 0.0678 - race_loss: 0.3797 - age_loss: 0.8310 - gender_sparse_categorical_accuracy: 0.9768 - race_sparse_categorical_accuracy: 0.8681 - age_sparse_categorical_accuracy: 0.6447 - val_loss: 0.1980 - val_gender_loss: 0.2259 - val_race_loss: 0.6744 - val_age_loss: 1.0795 - val_gender_sparse_categorical_accuracy: 0.9252 - val_race_sparse_categorical_accuracy: 0.7619 - val_age_sparse_categorical_accuracy: 0.5690\n",
      "Epoch 7/10\n",
      "339/339 [==============================] - 90s 265ms/step - loss: 0.1279 - gender_loss: 0.0673 - race_loss: 0.3820 - age_loss: 0.8294 - gender_sparse_categorical_accuracy: 0.9769 - race_sparse_categorical_accuracy: 0.8675 - age_sparse_categorical_accuracy: 0.6452 - val_loss: 0.1964 - val_gender_loss: 0.2350 - val_race_loss: 0.6735 - val_age_loss: 1.0558 - val_gender_sparse_categorical_accuracy: 0.9251 - val_race_sparse_categorical_accuracy: 0.7672 - val_age_sparse_categorical_accuracy: 0.5684\n",
      "Epoch 8/10\n",
      "339/339 [==============================] - 90s 267ms/step - loss: 0.1275 - gender_loss: 0.0670 - race_loss: 0.3789 - age_loss: 0.8295 - gender_sparse_categorical_accuracy: 0.9770 - race_sparse_categorical_accuracy: 0.8691 - age_sparse_categorical_accuracy: 0.6448 - val_loss: 0.1962 - val_gender_loss: 0.2282 - val_race_loss: 0.6663 - val_age_loss: 1.0680 - val_gender_sparse_categorical_accuracy: 0.9239 - val_race_sparse_categorical_accuracy: 0.7681 - val_age_sparse_categorical_accuracy: 0.5593\n",
      "Epoch 9/10\n",
      "339/339 [==============================] - 90s 267ms/step - loss: 0.1272 - gender_loss: 0.0668 - race_loss: 0.3775 - age_loss: 0.8276 - gender_sparse_categorical_accuracy: 0.9768 - race_sparse_categorical_accuracy: 0.8688 - age_sparse_categorical_accuracy: 0.6453 - val_loss: 0.1983 - val_gender_loss: 0.2420 - val_race_loss: 0.6801 - val_age_loss: 1.0613 - val_gender_sparse_categorical_accuracy: 0.9249 - val_race_sparse_categorical_accuracy: 0.7671 - val_age_sparse_categorical_accuracy: 0.5679\n",
      "Epoch 10/10\n",
      "339/339 [==============================] - 90s 267ms/step - loss: 0.1270 - gender_loss: 0.0663 - race_loss: 0.3781 - age_loss: 0.8257 - gender_sparse_categorical_accuracy: 0.9773 - race_sparse_categorical_accuracy: 0.8687 - age_sparse_categorical_accuracy: 0.6455 - val_loss: 0.1983 - val_gender_loss: 0.2405 - val_race_loss: 0.6858 - val_age_loss: 1.0564 - val_gender_sparse_categorical_accuracy: 0.9264 - val_race_sparse_categorical_accuracy: 0.7680 - val_age_sparse_categorical_accuracy: 0.5664\n"
     ]
    },
    {
     "output_type": "execute_result",
     "data": {
      "text/plain": [
       "<Response [200]>"
      ]
     },
     "metadata": {},
     "execution_count": 21
    }
   ],
   "metadata": {}
  },
  {
   "cell_type": "code",
   "execution_count": 22,
   "source": [
    "classifier.trainable = True\r\n",
    "classifier.summary()\r\n",
    "history = classifier.fit(train_iter, batch_size=batch_size, epochs=num_epochs, initial_epoch=10, validation_data=val_iter, callbacks=callbacks)\r\n",
    "classifier.save('./ckpt/{}-{}.h5'.format(script_name, 'last'))"
   ],
   "outputs": [
    {
     "output_type": "stream",
     "name": "stdout",
     "text": [
      "Model: \"classifier\"\n",
      "__________________________________________________________________________________________________\n",
      "Layer (type)                    Output Shape         Param #     Connected to                     \n",
      "==================================================================================================\n",
      "input (InputLayer)              [(None, 112, 112, 3) 0                                            \n",
      "__________________________________________________________________________________________________\n",
      "fairface-encoder (Functional)   (None, 2048)         23564800    input[0][0]                      \n",
      "__________________________________________________________________________________________________\n",
      "dropout_gender (Dropout)        (None, 2048)         0           fairface-encoder[1][0]           \n",
      "__________________________________________________________________________________________________\n",
      "dropout_race (Dropout)          (None, 2048)         0           fairface-encoder[1][0]           \n",
      "__________________________________________________________________________________________________\n",
      "dropout_age (Dropout)           (None, 2048)         0           fairface-encoder[1][0]           \n",
      "__________________________________________________________________________________________________\n",
      "features_gender (Dense)         (None, 512)          1049088     dropout_gender[0][0]             \n",
      "__________________________________________________________________________________________________\n",
      "features_race (Dense)           (None, 512)          1049088     dropout_race[0][0]               \n",
      "__________________________________________________________________________________________________\n",
      "features_age (Dense)            (None, 512)          1049088     dropout_age[0][0]                \n",
      "__________________________________________________________________________________________________\n",
      "dropout2_gender (Dropout)       (None, 512)          0           features_gender[0][0]            \n",
      "__________________________________________________________________________________________________\n",
      "dropout2_race (Dropout)         (None, 512)          0           features_race[0][0]              \n",
      "__________________________________________________________________________________________________\n",
      "dropout2_age (Dropout)          (None, 512)          0           features_age[0][0]               \n",
      "__________________________________________________________________________________________________\n",
      "gender (Dense)                  (None, 2)            1026        dropout2_gender[0][0]            \n",
      "__________________________________________________________________________________________________\n",
      "race (Dense)                    (None, 5)            2565        dropout2_race[0][0]              \n",
      "__________________________________________________________________________________________________\n",
      "age (Dense)                     (None, 9)            4617        dropout2_age[0][0]               \n",
      "==================================================================================================\n",
      "Total params: 26,720,272\n",
      "Trainable params: 26,674,832\n",
      "Non-trainable params: 45,440\n",
      "__________________________________________________________________________________________________\n",
      "Epoch 11/50\n",
      "339/339 [==============================] - 90s 266ms/step - loss: 0.1270 - gender_loss: 0.0663 - race_loss: 0.3780 - age_loss: 0.8257 - gender_sparse_categorical_accuracy: 0.9773 - race_sparse_categorical_accuracy: 0.8685 - age_sparse_categorical_accuracy: 0.6481 - val_loss: 0.2004 - val_gender_loss: 0.2477 - val_race_loss: 0.6930 - val_age_loss: 1.0629 - val_gender_sparse_categorical_accuracy: 0.9245 - val_race_sparse_categorical_accuracy: 0.7644 - val_age_sparse_categorical_accuracy: 0.5708\n",
      "Epoch 12/50\n",
      "339/339 [==============================] - 90s 265ms/step - loss: 0.1266 - gender_loss: 0.0658 - race_loss: 0.3758 - age_loss: 0.8241 - gender_sparse_categorical_accuracy: 0.9776 - race_sparse_categorical_accuracy: 0.8697 - age_sparse_categorical_accuracy: 0.6473 - val_loss: 0.2005 - val_gender_loss: 0.2468 - val_race_loss: 0.6897 - val_age_loss: 1.0689 - val_gender_sparse_categorical_accuracy: 0.9252 - val_race_sparse_categorical_accuracy: 0.7662 - val_age_sparse_categorical_accuracy: 0.5643\n",
      "Epoch 13/50\n",
      "339/339 [==============================] - 89s 264ms/step - loss: 0.1264 - gender_loss: 0.0658 - race_loss: 0.3742 - age_loss: 0.8244 - gender_sparse_categorical_accuracy: 0.9773 - race_sparse_categorical_accuracy: 0.8692 - age_sparse_categorical_accuracy: 0.6456 - val_loss: 0.1964 - val_gender_loss: 0.2386 - val_race_loss: 0.6662 - val_age_loss: 1.0595 - val_gender_sparse_categorical_accuracy: 0.9248 - val_race_sparse_categorical_accuracy: 0.7662 - val_age_sparse_categorical_accuracy: 0.5676\n",
      "Epoch 14/50\n",
      "339/339 [==============================] - 90s 265ms/step - loss: 0.1266 - gender_loss: 0.0661 - race_loss: 0.3745 - age_loss: 0.8254 - gender_sparse_categorical_accuracy: 0.9771 - race_sparse_categorical_accuracy: 0.8696 - age_sparse_categorical_accuracy: 0.6463 - val_loss: 0.1973 - val_gender_loss: 0.2342 - val_race_loss: 0.6746 - val_age_loss: 1.0641 - val_gender_sparse_categorical_accuracy: 0.9255 - val_race_sparse_categorical_accuracy: 0.7699 - val_age_sparse_categorical_accuracy: 0.5673\n",
      "Epoch 15/50\n",
      "339/339 [==============================] - 89s 262ms/step - loss: 0.1265 - gender_loss: 0.0657 - race_loss: 0.3744 - age_loss: 0.8245 - gender_sparse_categorical_accuracy: 0.9778 - race_sparse_categorical_accuracy: 0.8704 - age_sparse_categorical_accuracy: 0.6479 - val_loss: 0.1990 - val_gender_loss: 0.2428 - val_race_loss: 0.6704 - val_age_loss: 1.0768 - val_gender_sparse_categorical_accuracy: 0.9247 - val_race_sparse_categorical_accuracy: 0.7658 - val_age_sparse_categorical_accuracy: 0.5699\n",
      "Epoch 16/50\n",
      "339/339 [==============================] - 89s 262ms/step - loss: 0.1261 - gender_loss: 0.0646 - race_loss: 0.3737 - age_loss: 0.8232 - gender_sparse_categorical_accuracy: 0.9771 - race_sparse_categorical_accuracy: 0.8695 - age_sparse_categorical_accuracy: 0.6476 - val_loss: 0.1995 - val_gender_loss: 0.2361 - val_race_loss: 0.6958 - val_age_loss: 1.0626 - val_gender_sparse_categorical_accuracy: 0.9236 - val_race_sparse_categorical_accuracy: 0.7667 - val_age_sparse_categorical_accuracy: 0.5647\n",
      "Epoch 17/50\n",
      "339/339 [==============================] - 89s 263ms/step - loss: 0.1258 - gender_loss: 0.0647 - race_loss: 0.3715 - age_loss: 0.8216 - gender_sparse_categorical_accuracy: 0.9781 - race_sparse_categorical_accuracy: 0.8691 - age_sparse_categorical_accuracy: 0.6476 - val_loss: 0.1965 - val_gender_loss: 0.2281 - val_race_loss: 0.6741 - val_age_loss: 1.0628 - val_gender_sparse_categorical_accuracy: 0.9247 - val_race_sparse_categorical_accuracy: 0.7673 - val_age_sparse_categorical_accuracy: 0.5667\n",
      "Epoch 18/50\n",
      "339/339 [==============================] - 90s 265ms/step - loss: 0.1259 - gender_loss: 0.0649 - race_loss: 0.3729 - age_loss: 0.8214 - gender_sparse_categorical_accuracy: 0.9778 - race_sparse_categorical_accuracy: 0.8693 - age_sparse_categorical_accuracy: 0.6470 - val_loss: 0.1998 - val_gender_loss: 0.2278 - val_race_loss: 0.6962 - val_age_loss: 1.0740 - val_gender_sparse_categorical_accuracy: 0.9250 - val_race_sparse_categorical_accuracy: 0.7655 - val_age_sparse_categorical_accuracy: 0.5658\n",
      "Epoch 19/50\n",
      "339/339 [==============================] - 89s 263ms/step - loss: 0.1259 - gender_loss: 0.0647 - race_loss: 0.3719 - age_loss: 0.8224 - gender_sparse_categorical_accuracy: 0.9780 - race_sparse_categorical_accuracy: 0.8701 - age_sparse_categorical_accuracy: 0.6482 - val_loss: 0.2006 - val_gender_loss: 0.2410 - val_race_loss: 0.6969 - val_age_loss: 1.0676 - val_gender_sparse_categorical_accuracy: 0.9252 - val_race_sparse_categorical_accuracy: 0.7667 - val_age_sparse_categorical_accuracy: 0.5658\n",
      "Epoch 20/50\n",
      "339/339 [==============================] - 90s 264ms/step - loss: 0.1256 - gender_loss: 0.0641 - race_loss: 0.3739 - age_loss: 0.8180 - gender_sparse_categorical_accuracy: 0.9778 - race_sparse_categorical_accuracy: 0.8698 - age_sparse_categorical_accuracy: 0.6495 - val_loss: 0.1998 - val_gender_loss: 0.2506 - val_race_loss: 0.6800 - val_age_loss: 1.0671 - val_gender_sparse_categorical_accuracy: 0.9248 - val_race_sparse_categorical_accuracy: 0.7683 - val_age_sparse_categorical_accuracy: 0.5691\n"
     ]
    },
    {
     "output_type": "stream",
     "name": "stdout",
     "text": [
      "Epoch 21/50\n",
      "339/339 [==============================] - 90s 266ms/step - loss: 0.1258 - gender_loss: 0.0650 - race_loss: 0.3729 - age_loss: 0.8203 - gender_sparse_categorical_accuracy: 0.9775 - race_sparse_categorical_accuracy: 0.8703 - age_sparse_categorical_accuracy: 0.6468 - val_loss: 0.1966 - val_gender_loss: 0.2356 - val_race_loss: 0.6680 - val_age_loss: 1.0627 - val_gender_sparse_categorical_accuracy: 0.9255 - val_race_sparse_categorical_accuracy: 0.7683 - val_age_sparse_categorical_accuracy: 0.5689\n",
      "Epoch 22/50\n",
      "339/339 [==============================] - 90s 264ms/step - loss: 0.1256 - gender_loss: 0.0643 - race_loss: 0.3720 - age_loss: 0.8192 - gender_sparse_categorical_accuracy: 0.9777 - race_sparse_categorical_accuracy: 0.8704 - age_sparse_categorical_accuracy: 0.6483 - val_loss: 0.1988 - val_gender_loss: 0.2382 - val_race_loss: 0.6851 - val_age_loss: 1.0650 - val_gender_sparse_categorical_accuracy: 0.9251 - val_race_sparse_categorical_accuracy: 0.7657 - val_age_sparse_categorical_accuracy: 0.5700\n",
      "Epoch 23/50\n",
      "339/339 [==============================] - 90s 264ms/step - loss: 0.1257 - gender_loss: 0.0641 - race_loss: 0.3716 - age_loss: 0.8208 - gender_sparse_categorical_accuracy: 0.9777 - race_sparse_categorical_accuracy: 0.8704 - age_sparse_categorical_accuracy: 0.6499 - val_loss: 0.1987 - val_gender_loss: 0.2482 - val_race_loss: 0.6715 - val_age_loss: 1.0673 - val_gender_sparse_categorical_accuracy: 0.9248 - val_race_sparse_categorical_accuracy: 0.7686 - val_age_sparse_categorical_accuracy: 0.5690\n",
      "Epoch 24/50\n",
      "339/339 [==============================] - 90s 264ms/step - loss: 0.1255 - gender_loss: 0.0643 - race_loss: 0.3703 - age_loss: 0.8201 - gender_sparse_categorical_accuracy: 0.9778 - race_sparse_categorical_accuracy: 0.8708 - age_sparse_categorical_accuracy: 0.6473 - val_loss: 0.1994 - val_gender_loss: 0.2529 - val_race_loss: 0.6849 - val_age_loss: 1.0562 - val_gender_sparse_categorical_accuracy: 0.9252 - val_race_sparse_categorical_accuracy: 0.7696 - val_age_sparse_categorical_accuracy: 0.5699\n",
      "Epoch 25/50\n",
      "339/339 [==============================] - 90s 264ms/step - loss: 0.1256 - gender_loss: 0.0644 - race_loss: 0.3706 - age_loss: 0.8212 - gender_sparse_categorical_accuracy: 0.9779 - race_sparse_categorical_accuracy: 0.8704 - age_sparse_categorical_accuracy: 0.6481 - val_loss: 0.1985 - val_gender_loss: 0.2482 - val_race_loss: 0.6731 - val_age_loss: 1.0638 - val_gender_sparse_categorical_accuracy: 0.9249 - val_race_sparse_categorical_accuracy: 0.7692 - val_age_sparse_categorical_accuracy: 0.5648\n",
      "Epoch 26/50\n",
      "339/339 [==============================] - 90s 264ms/step - loss: 0.1253 - gender_loss: 0.0634 - race_loss: 0.3699 - age_loss: 0.8195 - gender_sparse_categorical_accuracy: 0.9783 - race_sparse_categorical_accuracy: 0.8702 - age_sparse_categorical_accuracy: 0.6486 - val_loss: 0.2019 - val_gender_loss: 0.2532 - val_race_loss: 0.6913 - val_age_loss: 1.0746 - val_gender_sparse_categorical_accuracy: 0.9253 - val_race_sparse_categorical_accuracy: 0.7653 - val_age_sparse_categorical_accuracy: 0.5659\n",
      "Epoch 27/50\n",
      "339/339 [==============================] - 90s 264ms/step - loss: 0.1255 - gender_loss: 0.0640 - race_loss: 0.3711 - age_loss: 0.8198 - gender_sparse_categorical_accuracy: 0.9784 - race_sparse_categorical_accuracy: 0.8693 - age_sparse_categorical_accuracy: 0.6475 - val_loss: 0.1988 - val_gender_loss: 0.2421 - val_race_loss: 0.6834 - val_age_loss: 1.0627 - val_gender_sparse_categorical_accuracy: 0.9243 - val_race_sparse_categorical_accuracy: 0.7680 - val_age_sparse_categorical_accuracy: 0.5693\n",
      "Epoch 28/50\n",
      "339/339 [==============================] - 90s 265ms/step - loss: 0.1252 - gender_loss: 0.0638 - race_loss: 0.3698 - age_loss: 0.8183 - gender_sparse_categorical_accuracy: 0.9784 - race_sparse_categorical_accuracy: 0.8702 - age_sparse_categorical_accuracy: 0.6480 - val_loss: 0.1975 - val_gender_loss: 0.2348 - val_race_loss: 0.6787 - val_age_loss: 1.0615 - val_gender_sparse_categorical_accuracy: 0.9246 - val_race_sparse_categorical_accuracy: 0.7661 - val_age_sparse_categorical_accuracy: 0.5655\n",
      "Epoch 29/50\n",
      "339/339 [==============================] - 90s 267ms/step - loss: 0.1252 - gender_loss: 0.0633 - race_loss: 0.3709 - age_loss: 0.8182 - gender_sparse_categorical_accuracy: 0.9782 - race_sparse_categorical_accuracy: 0.8711 - age_sparse_categorical_accuracy: 0.6481 - val_loss: 0.1995 - val_gender_loss: 0.2416 - val_race_loss: 0.6838 - val_age_loss: 1.0700 - val_gender_sparse_categorical_accuracy: 0.9256 - val_race_sparse_categorical_accuracy: 0.7677 - val_age_sparse_categorical_accuracy: 0.5686\n",
      "Epoch 30/50\n",
      "339/339 [==============================] - 90s 266ms/step - loss: 0.1249 - gender_loss: 0.0633 - race_loss: 0.3687 - age_loss: 0.8173 - gender_sparse_categorical_accuracy: 0.9784 - race_sparse_categorical_accuracy: 0.8711 - age_sparse_categorical_accuracy: 0.6504 - val_loss: 0.1995 - val_gender_loss: 0.2335 - val_race_loss: 0.6847 - val_age_loss: 1.0765 - val_gender_sparse_categorical_accuracy: 0.9248 - val_race_sparse_categorical_accuracy: 0.7661 - val_age_sparse_categorical_accuracy: 0.5669\n",
      "Epoch 31/50\n",
      "339/339 [==============================] - 90s 264ms/step - loss: 0.1251 - gender_loss: 0.0626 - race_loss: 0.3698 - age_loss: 0.8182 - gender_sparse_categorical_accuracy: 0.9788 - race_sparse_categorical_accuracy: 0.8710 - age_sparse_categorical_accuracy: 0.6498 - val_loss: 0.2026 - val_gender_loss: 0.2633 - val_race_loss: 0.6886 - val_age_loss: 1.0736 - val_gender_sparse_categorical_accuracy: 0.9241 - val_race_sparse_categorical_accuracy: 0.7687 - val_age_sparse_categorical_accuracy: 0.5698\n",
      "Epoch 32/50\n",
      "339/339 [==============================] - 89s 264ms/step - loss: 0.1249 - gender_loss: 0.0636 - race_loss: 0.3692 - age_loss: 0.8158 - gender_sparse_categorical_accuracy: 0.9784 - race_sparse_categorical_accuracy: 0.8713 - age_sparse_categorical_accuracy: 0.6474 - val_loss: 0.1978 - val_gender_loss: 0.2268 - val_race_loss: 0.6804 - val_age_loss: 1.0709 - val_gender_sparse_categorical_accuracy: 0.9236 - val_race_sparse_categorical_accuracy: 0.7676 - val_age_sparse_categorical_accuracy: 0.5645\n",
      "Epoch 33/50\n",
      "339/339 [==============================] - 91s 267ms/step - loss: 0.1249 - gender_loss: 0.0625 - race_loss: 0.3695 - age_loss: 0.8165 - gender_sparse_categorical_accuracy: 0.9784 - race_sparse_categorical_accuracy: 0.8714 - age_sparse_categorical_accuracy: 0.6497 - val_loss: 0.1995 - val_gender_loss: 0.2357 - val_race_loss: 0.6893 - val_age_loss: 1.0705 - val_gender_sparse_categorical_accuracy: 0.9238 - val_race_sparse_categorical_accuracy: 0.7708 - val_age_sparse_categorical_accuracy: 0.5667\n",
      "Epoch 34/50\n",
      "339/339 [==============================] - 89s 263ms/step - loss: 0.1245 - gender_loss: 0.0630 - race_loss: 0.3668 - age_loss: 0.8157 - gender_sparse_categorical_accuracy: 0.9784 - race_sparse_categorical_accuracy: 0.8717 - age_sparse_categorical_accuracy: 0.6505 - val_loss: 0.1985 - val_gender_loss: 0.2192 - val_race_loss: 0.6873 - val_age_loss: 1.0785 - val_gender_sparse_categorical_accuracy: 0.9260 - val_race_sparse_categorical_accuracy: 0.7683 - val_age_sparse_categorical_accuracy: 0.5710\n",
      "Epoch 35/50\n",
      "339/339 [==============================] - 89s 264ms/step - loss: 0.1246 - gender_loss: 0.0631 - race_loss: 0.3673 - age_loss: 0.8158 - gender_sparse_categorical_accuracy: 0.9785 - race_sparse_categorical_accuracy: 0.8709 - age_sparse_categorical_accuracy: 0.6497 - val_loss: 0.1987 - val_gender_loss: 0.2353 - val_race_loss: 0.6838 - val_age_loss: 1.0680 - val_gender_sparse_categorical_accuracy: 0.9246 - val_race_sparse_categorical_accuracy: 0.7662 - val_age_sparse_categorical_accuracy: 0.5707\n",
      "Epoch 36/50\n",
      "339/339 [==============================] - 89s 264ms/step - loss: 0.1247 - gender_loss: 0.0627 - race_loss: 0.3673 - age_loss: 0.8166 - gender_sparse_categorical_accuracy: 0.9788 - race_sparse_categorical_accuracy: 0.8711 - age_sparse_categorical_accuracy: 0.6490 - val_loss: 0.2000 - val_gender_loss: 0.2435 - val_race_loss: 0.6783 - val_age_loss: 1.0782 - val_gender_sparse_categorical_accuracy: 0.9253 - val_race_sparse_categorical_accuracy: 0.7699 - val_age_sparse_categorical_accuracy: 0.5687\n",
      "Epoch 37/50\n"
     ]
    },
    {
     "output_type": "stream",
     "name": "stdout",
     "text": [
      "339/339 [==============================] - 89s 264ms/step - loss: 0.1245 - gender_loss: 0.0615 - race_loss: 0.3674 - age_loss: 0.8162 - gender_sparse_categorical_accuracy: 0.9790 - race_sparse_categorical_accuracy: 0.8720 - age_sparse_categorical_accuracy: 0.6490 - val_loss: 0.1994 - val_gender_loss: 0.2307 - val_race_loss: 0.7021 - val_age_loss: 1.0607 - val_gender_sparse_categorical_accuracy: 0.9243 - val_race_sparse_categorical_accuracy: 0.7656 - val_age_sparse_categorical_accuracy: 0.5698\n",
      "Epoch 38/50\n",
      "339/339 [==============================] - 90s 264ms/step - loss: 0.1245 - gender_loss: 0.0622 - race_loss: 0.3677 - age_loss: 0.8149 - gender_sparse_categorical_accuracy: 0.9783 - race_sparse_categorical_accuracy: 0.8710 - age_sparse_categorical_accuracy: 0.6499 - val_loss: 0.2002 - val_gender_loss: 0.2469 - val_race_loss: 0.6803 - val_age_loss: 1.0744 - val_gender_sparse_categorical_accuracy: 0.9256 - val_race_sparse_categorical_accuracy: 0.7676 - val_age_sparse_categorical_accuracy: 0.5681\n",
      "Epoch 39/50\n",
      "339/339 [==============================] - 89s 264ms/step - loss: 0.1245 - gender_loss: 0.0611 - race_loss: 0.3687 - age_loss: 0.8156 - gender_sparse_categorical_accuracy: 0.9784 - race_sparse_categorical_accuracy: 0.8715 - age_sparse_categorical_accuracy: 0.6511 - val_loss: 0.2010 - val_gender_loss: 0.2520 - val_race_loss: 0.6947 - val_age_loss: 1.0637 - val_gender_sparse_categorical_accuracy: 0.9252 - val_race_sparse_categorical_accuracy: 0.7668 - val_age_sparse_categorical_accuracy: 0.5670\n",
      "Epoch 40/50\n",
      "339/339 [==============================] - 90s 265ms/step - loss: 0.1247 - gender_loss: 0.0625 - race_loss: 0.3682 - age_loss: 0.8166 - gender_sparse_categorical_accuracy: 0.9782 - race_sparse_categorical_accuracy: 0.8711 - age_sparse_categorical_accuracy: 0.6498 - val_loss: 0.2032 - val_gender_loss: 0.2669 - val_race_loss: 0.6948 - val_age_loss: 1.0699 - val_gender_sparse_categorical_accuracy: 0.9252 - val_race_sparse_categorical_accuracy: 0.7699 - val_age_sparse_categorical_accuracy: 0.5696\n",
      "Epoch 41/50\n",
      "339/339 [==============================] - 90s 265ms/step - loss: 0.1242 - gender_loss: 0.0621 - race_loss: 0.3651 - age_loss: 0.8149 - gender_sparse_categorical_accuracy: 0.9784 - race_sparse_categorical_accuracy: 0.8716 - age_sparse_categorical_accuracy: 0.6503 - val_loss: 0.2033 - val_gender_loss: 0.2516 - val_race_loss: 0.7042 - val_age_loss: 1.0767 - val_gender_sparse_categorical_accuracy: 0.9255 - val_race_sparse_categorical_accuracy: 0.7663 - val_age_sparse_categorical_accuracy: 0.5666\n",
      "Epoch 42/50\n",
      "339/339 [==============================] - 90s 266ms/step - loss: 0.1245 - gender_loss: 0.0619 - race_loss: 0.3677 - age_loss: 0.8158 - gender_sparse_categorical_accuracy: 0.9789 - race_sparse_categorical_accuracy: 0.8717 - age_sparse_categorical_accuracy: 0.6495 - val_loss: 0.1999 - val_gender_loss: 0.2514 - val_race_loss: 0.6804 - val_age_loss: 1.0668 - val_gender_sparse_categorical_accuracy: 0.9257 - val_race_sparse_categorical_accuracy: 0.7652 - val_age_sparse_categorical_accuracy: 0.5686\n",
      "Epoch 43/50\n",
      "339/339 [==============================] - 90s 265ms/step - loss: 0.1242 - gender_loss: 0.0621 - race_loss: 0.3658 - age_loss: 0.8145 - gender_sparse_categorical_accuracy: 0.9785 - race_sparse_categorical_accuracy: 0.8726 - age_sparse_categorical_accuracy: 0.6503 - val_loss: 0.2013 - val_gender_loss: 0.2446 - val_race_loss: 0.7036 - val_age_loss: 1.0650 - val_gender_sparse_categorical_accuracy: 0.9242 - val_race_sparse_categorical_accuracy: 0.7647 - val_age_sparse_categorical_accuracy: 0.5717\n",
      "Epoch 44/50\n",
      "339/339 [==============================] - 90s 265ms/step - loss: 0.1244 - gender_loss: 0.0632 - race_loss: 0.3653 - age_loss: 0.8152 - gender_sparse_categorical_accuracy: 0.9787 - race_sparse_categorical_accuracy: 0.8722 - age_sparse_categorical_accuracy: 0.6508 - val_loss: 0.1993 - val_gender_loss: 0.2371 - val_race_loss: 0.6940 - val_age_loss: 1.0618 - val_gender_sparse_categorical_accuracy: 0.9242 - val_race_sparse_categorical_accuracy: 0.7676 - val_age_sparse_categorical_accuracy: 0.5666\n",
      "Epoch 45/50\n",
      "339/339 [==============================] - 90s 266ms/step - loss: 0.1244 - gender_loss: 0.0608 - race_loss: 0.3669 - age_loss: 0.8164 - gender_sparse_categorical_accuracy: 0.9789 - race_sparse_categorical_accuracy: 0.8723 - age_sparse_categorical_accuracy: 0.6498 - val_loss: 0.1994 - val_gender_loss: 0.2402 - val_race_loss: 0.6798 - val_age_loss: 1.0739 - val_gender_sparse_categorical_accuracy: 0.9250 - val_race_sparse_categorical_accuracy: 0.7677 - val_age_sparse_categorical_accuracy: 0.5659\n",
      "Epoch 46/50\n",
      "339/339 [==============================] - 89s 263ms/step - loss: 0.1243 - gender_loss: 0.0603 - race_loss: 0.3657 - age_loss: 0.8168 - gender_sparse_categorical_accuracy: 0.9792 - race_sparse_categorical_accuracy: 0.8719 - age_sparse_categorical_accuracy: 0.6486 - val_loss: 0.2038 - val_gender_loss: 0.2654 - val_race_loss: 0.7086 - val_age_loss: 1.0639 - val_gender_sparse_categorical_accuracy: 0.9256 - val_race_sparse_categorical_accuracy: 0.7684 - val_age_sparse_categorical_accuracy: 0.5676\n",
      "Epoch 47/50\n",
      "339/339 [==============================] - 90s 267ms/step - loss: 0.1240 - gender_loss: 0.0613 - race_loss: 0.3651 - age_loss: 0.8138 - gender_sparse_categorical_accuracy: 0.9788 - race_sparse_categorical_accuracy: 0.8726 - age_sparse_categorical_accuracy: 0.6499 - val_loss: 0.2011 - val_gender_loss: 0.2447 - val_race_loss: 0.6929 - val_age_loss: 1.0733 - val_gender_sparse_categorical_accuracy: 0.9253 - val_race_sparse_categorical_accuracy: 0.7661 - val_age_sparse_categorical_accuracy: 0.5616\n",
      "Epoch 48/50\n",
      "339/339 [==============================] - 90s 264ms/step - loss: 0.1237 - gender_loss: 0.0605 - race_loss: 0.3655 - age_loss: 0.8112 - gender_sparse_categorical_accuracy: 0.9792 - race_sparse_categorical_accuracy: 0.8727 - age_sparse_categorical_accuracy: 0.6515 - val_loss: 0.2021 - val_gender_loss: 0.2529 - val_race_loss: 0.6945 - val_age_loss: 1.0732 - val_gender_sparse_categorical_accuracy: 0.9236 - val_race_sparse_categorical_accuracy: 0.7680 - val_age_sparse_categorical_accuracy: 0.5650\n",
      "Epoch 49/50\n",
      "339/339 [==============================] - 89s 264ms/step - loss: 0.1237 - gender_loss: 0.0605 - race_loss: 0.3644 - age_loss: 0.8121 - gender_sparse_categorical_accuracy: 0.9794 - race_sparse_categorical_accuracy: 0.8720 - age_sparse_categorical_accuracy: 0.6519 - val_loss: 0.2020 - val_gender_loss: 0.2407 - val_race_loss: 0.7017 - val_age_loss: 1.0775 - val_gender_sparse_categorical_accuracy: 0.9250 - val_race_sparse_categorical_accuracy: 0.7674 - val_age_sparse_categorical_accuracy: 0.5671\n",
      "Epoch 50/50\n",
      "339/339 [==============================] - 89s 263ms/step - loss: 0.1235 - gender_loss: 0.0609 - race_loss: 0.3646 - age_loss: 0.8095 - gender_sparse_categorical_accuracy: 0.9792 - race_sparse_categorical_accuracy: 0.8721 - age_sparse_categorical_accuracy: 0.6517 - val_loss: 0.2015 - val_gender_loss: 0.2388 - val_race_loss: 0.7000 - val_age_loss: 1.0765 - val_gender_sparse_categorical_accuracy: 0.9262 - val_race_sparse_categorical_accuracy: 0.7686 - val_age_sparse_categorical_accuracy: 0.5624\n"
     ]
    }
   ],
   "metadata": {}
  },
  {
   "cell_type": "code",
   "execution_count": 23,
   "source": [
    "res = []\r\n",
    "names = []\r\n",
    "for stage in stages:\r\n",
    "    names.append(script_name_template.format(version, dataset, net, stage) + '-{}.h5')\r\n",
    "for name in names:\r\n",
    "    for col in target_col + ['last']:\r\n",
    "        model_file = 'ckpt/' + name.format(col)\r\n",
    "        model = keras.models.load_model(model_file)\r\n",
    "        eval_res = model.evaluate(val_iter)\r\n",
    "        eval_res = [name.format(col)] + eval_res\r\n",
    "        res.append(eval_res)\r\n",
    "columns = ['name', 'total_loss']\r\n",
    "if len(target_col) == 1:\r\n",
    "    columns.append('acc')\r\n",
    "else:\r\n",
    "    for m in ['loss', 'acc']:\r\n",
    "        for col in target_col:\r\n",
    "            columns.append('{}_{}'.format(col, m))\r\n",
    "df_res = pd.DataFrame(res, columns = columns)\r\n",
    "df_res.to_csv('Compare - Scratch - SupCon - {} - {}.csv'.format(version, dataset))"
   ],
   "outputs": [
    {
     "output_type": "stream",
     "name": "stdout",
     "text": [
      "43/43 [==============================] - 12s 257ms/step - loss: 0.1895 - gender_loss: 0.2021 - race_loss: 0.6500 - age_loss: 1.0431 - gender_sparse_categorical_accuracy: 0.9194 - race_sparse_categorical_accuracy: 0.7579 - age_sparse_categorical_accuracy: 0.5637\n",
      "43/43 [==============================] - 12s 249ms/step - loss: 0.1871 - gender_loss: 0.2015 - race_loss: 0.6432 - age_loss: 1.0263 - gender_sparse_categorical_accuracy: 0.9183 - race_sparse_categorical_accuracy: 0.7590 - age_sparse_categorical_accuracy: 0.5662\n",
      "43/43 [==============================] - 12s 247ms/step - loss: 0.1881 - gender_loss: 0.2020 - race_loss: 0.6447 - age_loss: 1.0345 - gender_sparse_categorical_accuracy: 0.9201 - race_sparse_categorical_accuracy: 0.7598 - age_sparse_categorical_accuracy: 0.5685\n",
      "43/43 [==============================] - 12s 245ms/step - loss: 0.1941 - gender_loss: 0.2096 - race_loss: 0.6755 - age_loss: 1.0561 - gender_sparse_categorical_accuracy: 0.9177 - race_sparse_categorical_accuracy: 0.7583 - age_sparse_categorical_accuracy: 0.5641\n",
      "43/43 [==============================] - 11s 238ms/step - loss: 0.1983 - gender_loss: 0.2405 - race_loss: 0.6858 - age_loss: 1.0564 - gender_sparse_categorical_accuracy: 0.9264 - race_sparse_categorical_accuracy: 0.7680 - age_sparse_categorical_accuracy: 0.5664\n",
      "43/43 [==============================] - 11s 235ms/step - loss: 0.1995 - gender_loss: 0.2357 - race_loss: 0.6893 - age_loss: 1.0705 - gender_sparse_categorical_accuracy: 0.9238 - race_sparse_categorical_accuracy: 0.7708 - age_sparse_categorical_accuracy: 0.5667\n",
      "43/43 [==============================] - 11s 236ms/step - loss: 0.2013 - gender_loss: 0.2446 - race_loss: 0.7036 - age_loss: 1.0650 - gender_sparse_categorical_accuracy: 0.9242 - race_sparse_categorical_accuracy: 0.7647 - age_sparse_categorical_accuracy: 0.5717\n",
      "WARNING:tensorflow:Error in loading the saved optimizer state. As a result, your model is starting with a freshly initialized optimizer.\n",
      "43/43 [==============================] - 11s 233ms/step - loss: 0.2015 - gender_loss: 0.2388 - race_loss: 0.7000 - age_loss: 1.0765 - gender_sparse_categorical_accuracy: 0.9262 - race_sparse_categorical_accuracy: 0.7686 - age_sparse_categorical_accuracy: 0.5624\n"
     ]
    }
   ],
   "metadata": {}
  }
 ],
 "metadata": {
  "kernelspec": {
   "display_name": "Python 3",
   "language": "python",
   "name": "python3"
  },
  "language_info": {
   "codemirror_mode": {
    "name": "ipython",
    "version": 3
   },
   "file_extension": ".py",
   "mimetype": "text/x-python",
   "name": "python",
   "nbconvert_exporter": "python",
   "pygments_lexer": "ipython3",
   "version": "3.6.9"
  }
 },
 "nbformat": 4,
 "nbformat_minor": 2
}