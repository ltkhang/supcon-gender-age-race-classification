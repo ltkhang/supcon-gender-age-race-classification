{
 "cells": [
  {
   "cell_type": "code",
   "execution_count": 1,
   "source": [
    "import tensorflow as tf\r\n",
    "import tensorflow_addons as tfa\r\n",
    "import numpy as np\r\n",
    "from tensorflow import keras\r\n",
    "from tensorflow.keras import layers\r\n",
    "\r\n",
    "import pickle as pkl\r\n",
    "import pandas as pd\r\n",
    "import os\r\n",
    "import requests as r\r\n",
    "from sklearn.metrics import accuracy_score\r\n",
    "import random\r\n",
    "\r\n",
    "np.random.seed(37)\r\n",
    "\r\n",
    "random.seed(1254)\r\n",
    "\r\n",
    "tf.random.set_seed(89)\r\n",
    "\r\n",
    "\r\n",
    "gpus = tf.config.list_physical_devices('GPU')\r\n",
    "if gpus:\r\n",
    "    try:\r\n",
    "        for gpu in gpus:\r\n",
    "            tf.config.experimental.set_memory_growth(gpu, True)\r\n",
    "    except RuntimeError as e:\r\n",
    "        print(e)\r\n",
    "\r\n",
    "script_name = 'Scratch-AFAD-Full-Age-R50-MultiOutput'\r\n",
    "\r\n"
   ],
   "outputs": [],
   "metadata": {}
  },
  {
   "cell_type": "code",
   "execution_count": 2,
   "source": [
    "def encode(data, mask):\r\n",
    "    labels = []\r\n",
    "    for item in data:\r\n",
    "        labels.append(mask[item])\r\n",
    "    return labels"
   ],
   "outputs": [],
   "metadata": {}
  },
  {
   "cell_type": "code",
   "execution_count": 3,
   "source": [
    "csv_target_train = 'AFAD-Full/train.csv'\r\n",
    "df_train = pd.read_csv(csv_target_train)\r\n",
    "\r\n",
    "bins = [0, 3, 10, 20, 30, 40, 50, 60, 70, np.inf]\r\n",
    "names = ['0-2', '3-9', '10-19', '20-29', '30-39', '40-49', '50-59', '60-69', '70+']\r\n",
    "\r\n",
    "df_train['age'] = pd.cut(df_train['age_abs'], bins, labels=names)\r\n"
   ],
   "outputs": [],
   "metadata": {}
  },
  {
   "cell_type": "code",
   "execution_count": 4,
   "source": [
    "df_train"
   ],
   "outputs": [
    {
     "output_type": "execute_result",
     "data": {
      "text/plain": [
       "                       file  gender  age_abs    age\n",
       "0       23/112/190424-1.jpg  Female       23  20-29\n",
       "1       27/111/139620-0.jpg    Male       27  20-29\n",
       "2       36/111/306718-2.jpg    Male       36  30-39\n",
       "3       38/111/579575-0.jpg    Male       38  30-39\n",
       "4       20/111/195051-0.jpg    Male       20  10-19\n",
       "...                     ...     ...      ...    ...\n",
       "165496  20/112/108659-0.jpg  Female       20  10-19\n",
       "165497  36/111/482001-1.jpg    Male       36  30-39\n",
       "165498   19/111/42720-0.jpg    Male       19  10-19\n",
       "165499  24/111/161789-0.jpg    Male       24  20-29\n",
       "165500  20/111/103951-0.jpg    Male       20  10-19\n",
       "\n",
       "[165501 rows x 4 columns]"
      ],
      "text/html": [
       "<div>\n",
       "<style scoped>\n",
       "    .dataframe tbody tr th:only-of-type {\n",
       "        vertical-align: middle;\n",
       "    }\n",
       "\n",
       "    .dataframe tbody tr th {\n",
       "        vertical-align: top;\n",
       "    }\n",
       "\n",
       "    .dataframe thead th {\n",
       "        text-align: right;\n",
       "    }\n",
       "</style>\n",
       "<table border=\"1\" class=\"dataframe\">\n",
       "  <thead>\n",
       "    <tr style=\"text-align: right;\">\n",
       "      <th></th>\n",
       "      <th>file</th>\n",
       "      <th>gender</th>\n",
       "      <th>age_abs</th>\n",
       "      <th>age</th>\n",
       "    </tr>\n",
       "  </thead>\n",
       "  <tbody>\n",
       "    <tr>\n",
       "      <th>0</th>\n",
       "      <td>23/112/190424-1.jpg</td>\n",
       "      <td>Female</td>\n",
       "      <td>23</td>\n",
       "      <td>20-29</td>\n",
       "    </tr>\n",
       "    <tr>\n",
       "      <th>1</th>\n",
       "      <td>27/111/139620-0.jpg</td>\n",
       "      <td>Male</td>\n",
       "      <td>27</td>\n",
       "      <td>20-29</td>\n",
       "    </tr>\n",
       "    <tr>\n",
       "      <th>2</th>\n",
       "      <td>36/111/306718-2.jpg</td>\n",
       "      <td>Male</td>\n",
       "      <td>36</td>\n",
       "      <td>30-39</td>\n",
       "    </tr>\n",
       "    <tr>\n",
       "      <th>3</th>\n",
       "      <td>38/111/579575-0.jpg</td>\n",
       "      <td>Male</td>\n",
       "      <td>38</td>\n",
       "      <td>30-39</td>\n",
       "    </tr>\n",
       "    <tr>\n",
       "      <th>4</th>\n",
       "      <td>20/111/195051-0.jpg</td>\n",
       "      <td>Male</td>\n",
       "      <td>20</td>\n",
       "      <td>10-19</td>\n",
       "    </tr>\n",
       "    <tr>\n",
       "      <th>...</th>\n",
       "      <td>...</td>\n",
       "      <td>...</td>\n",
       "      <td>...</td>\n",
       "      <td>...</td>\n",
       "    </tr>\n",
       "    <tr>\n",
       "      <th>165496</th>\n",
       "      <td>20/112/108659-0.jpg</td>\n",
       "      <td>Female</td>\n",
       "      <td>20</td>\n",
       "      <td>10-19</td>\n",
       "    </tr>\n",
       "    <tr>\n",
       "      <th>165497</th>\n",
       "      <td>36/111/482001-1.jpg</td>\n",
       "      <td>Male</td>\n",
       "      <td>36</td>\n",
       "      <td>30-39</td>\n",
       "    </tr>\n",
       "    <tr>\n",
       "      <th>165498</th>\n",
       "      <td>19/111/42720-0.jpg</td>\n",
       "      <td>Male</td>\n",
       "      <td>19</td>\n",
       "      <td>10-19</td>\n",
       "    </tr>\n",
       "    <tr>\n",
       "      <th>165499</th>\n",
       "      <td>24/111/161789-0.jpg</td>\n",
       "      <td>Male</td>\n",
       "      <td>24</td>\n",
       "      <td>20-29</td>\n",
       "    </tr>\n",
       "    <tr>\n",
       "      <th>165500</th>\n",
       "      <td>20/111/103951-0.jpg</td>\n",
       "      <td>Male</td>\n",
       "      <td>20</td>\n",
       "      <td>10-19</td>\n",
       "    </tr>\n",
       "  </tbody>\n",
       "</table>\n",
       "<p>165501 rows × 4 columns</p>\n",
       "</div>"
      ]
     },
     "metadata": {},
     "execution_count": 4
    }
   ],
   "metadata": {}
  },
  {
   "cell_type": "code",
   "execution_count": 5,
   "source": [
    "def label2dict(df):\r\n",
    "    values = df.unique()\r\n",
    "    d = {}\r\n",
    "    for idx, v in enumerate(values):\r\n",
    "        d[v] = idx\r\n",
    "    return d\r\n",
    "def apply_encode(map_dict, col, row):\r\n",
    "    return map_dict[row[col]]"
   ],
   "outputs": [],
   "metadata": {}
  },
  {
   "cell_type": "code",
   "execution_count": 6,
   "source": [
    "target_col = ['gender', 'age']\r\n",
    "num_classes = []\r\n",
    "for col in target_col:\r\n",
    "    num_classes.append(df_train[col].nunique())\r\n",
    "input_shape = (112, 112, 3)\r\n",
    "batch_size = 64\r\n",
    "learning_rate = 0.001\r\n",
    "hidden_units = 512\r\n",
    "projection_units = 128\r\n",
    "num_epochs = 50\r\n",
    "dropout_rate = 0.5\r\n",
    "temperature = 0.05\r\n",
    "validation_split = 0.2"
   ],
   "outputs": [],
   "metadata": {}
  },
  {
   "cell_type": "code",
   "execution_count": 7,
   "source": [
    "target_col_data = []\r\n",
    "for col in target_col:\r\n",
    "    col2 = col + '_sparse'\r\n",
    "    target_col_data.append(col2)\r\n",
    "    map_dict = label2dict(df_train[col])\r\n",
    "    df_train[col2] = df_train.apply(lambda row: apply_encode(map_dict, col, row), axis=1)"
   ],
   "outputs": [],
   "metadata": {}
  },
  {
   "cell_type": "code",
   "execution_count": 8,
   "source": [
    "x_col = 'file'\r\n",
    "y_col = target_col_data\r\n",
    "from tensorflow.keras.applications.resnet50 import preprocess_input\r\n",
    "train_generator = keras.preprocessing.image.ImageDataGenerator(\r\n",
    "    preprocessing_function=preprocess_input,\r\n",
    "    validation_split=validation_split\r\n",
    ")\r\n",
    "val_generator = keras.preprocessing.image.ImageDataGenerator(\r\n",
    "    preprocessing_function=preprocess_input\r\n",
    ")\r\n",
    "\r\n",
    "train_iter = train_generator.flow_from_dataframe(\r\n",
    "    df_train,\r\n",
    "    directory='./AFAD-Full',\r\n",
    "    x_col=x_col,\r\n",
    "    y_col=y_col,\r\n",
    "    class_mode=\"multi_output\",\r\n",
    "    target_size=(input_shape[0], input_shape[1]),\r\n",
    "    batch_size=batch_size,\r\n",
    "    subset='training'\r\n",
    ")\r\n",
    "\r\n",
    "val_iter = train_generator.flow_from_dataframe(\r\n",
    "    df_train,\r\n",
    "    directory='./AFAD-Full',\r\n",
    "    x_col=x_col,\r\n",
    "    y_col=y_col,\r\n",
    "    class_mode=\"multi_output\",\r\n",
    "    target_size=(input_shape[0], input_shape[1]),\r\n",
    "    batch_size=batch_size,\r\n",
    "    subset='validation'\r\n",
    ")"
   ],
   "outputs": [
    {
     "output_type": "stream",
     "name": "stdout",
     "text": [
      "Found 132401 validated image filenames.\n",
      "Found 33100 validated image filenames.\n"
     ]
    }
   ],
   "metadata": {}
  },
  {
   "cell_type": "code",
   "execution_count": 9,
   "source": [
    "data_augmentation = keras.Sequential(\r\n",
    "    [\r\n",
    "        layers.experimental.preprocessing.RandomFlip(\"horizontal\"),\r\n",
    "        layers.experimental.preprocessing.RandomRotation(0.02),\r\n",
    "        layers.experimental.preprocessing.RandomWidth(0.2),\r\n",
    "        layers.experimental.preprocessing.RandomHeight(0.2),\r\n",
    "    ]\r\n",
    ")"
   ],
   "outputs": [],
   "metadata": {}
  },
  {
   "cell_type": "code",
   "execution_count": 10,
   "source": [
    "callbacks = []\r\n",
    "for col in target_col:\r\n",
    "    model_checkpoint_callback = tf.keras.callbacks.ModelCheckpoint(\r\n",
    "        filepath='./ckpt/{}-{}.h5'.format(script_name, col),\r\n",
    "        monitor='val_{}_sparse_categorical_accuracy'.format(col),\r\n",
    "        mode='max',\r\n",
    "        save_best_only=True)\r\n",
    "    callbacks.append(model_checkpoint_callback)"
   ],
   "outputs": [],
   "metadata": {}
  },
  {
   "cell_type": "code",
   "execution_count": 11,
   "source": [
    "def create_encoder():\r\n",
    "    resnet = keras.applications.ResNet50V2(\r\n",
    "        include_top=False, weights=None, input_shape=input_shape, pooling=\"avg\"\r\n",
    "    )\r\n",
    "\r\n",
    "    inputs = keras.Input(shape=input_shape)\r\n",
    "    augmented = data_augmentation(inputs)\r\n",
    "    outputs = resnet(augmented)\r\n",
    "    model = keras.Model(inputs=inputs, outputs=outputs, name=\"encoder\")\r\n",
    "    return model\r\n",
    "\r\n",
    "\r\n",
    "encoder = create_encoder()\r\n",
    "encoder.summary()"
   ],
   "outputs": [
    {
     "output_type": "stream",
     "name": "stdout",
     "text": [
      "Model: \"encoder\"\n",
      "_________________________________________________________________\n",
      "Layer (type)                 Output Shape              Param #   \n",
      "=================================================================\n",
      "input_2 (InputLayer)         [(None, 112, 112, 3)]     0         \n",
      "_________________________________________________________________\n",
      "sequential (Sequential)      (None, None, None, 3)     0         \n",
      "_________________________________________________________________\n",
      "resnet50v2 (Functional)      (None, 2048)              23564800  \n",
      "=================================================================\n",
      "Total params: 23,564,800\n",
      "Trainable params: 23,519,360\n",
      "Non-trainable params: 45,440\n",
      "_________________________________________________________________\n"
     ]
    }
   ],
   "metadata": {}
  },
  {
   "cell_type": "code",
   "execution_count": 12,
   "source": [
    "def create_classifier(encoder, trainable=True, training=True):\r\n",
    "\r\n",
    "    encoder.trainable = trainable\r\n",
    "\r\n",
    "    inputs = keras.Input(shape=input_shape, name=\"input\")\r\n",
    "    features = encoder(inputs, training=training)\r\n",
    "    outputs = []\r\n",
    "    for idx, num_class in enumerate(num_classes):\r\n",
    "        _features = layers.Dropout(dropout_rate, name=\"dropout_\" + target_col[idx])(features)\r\n",
    "        _features = layers.Dense(hidden_units, activation=\"relu\", name = \"features\"+ target_col[idx])(_features)\r\n",
    "        _features = layers.Dropout(dropout_rate, name=\"dropout2_\" + target_col[idx])(_features)\r\n",
    "        outputs.append(layers.Dense(num_class, activation=\"softmax\", name=target_col[idx])(_features))\r\n",
    "\r\n",
    "    model = keras.Model(inputs=inputs, outputs=outputs, name=\"classifier\")\r\n",
    "    metrics = {}\r\n",
    "    loss = []\r\n",
    "    for col in target_col:\r\n",
    "        metrics[col] = keras.metrics.SparseCategoricalAccuracy()\r\n",
    "        loss.append(keras.losses.SparseCategoricalCrossentropy())\r\n",
    "    model.compile(\r\n",
    "        optimizer=keras.optimizers.Adam(learning_rate),\r\n",
    "        loss=loss,\r\n",
    "        metrics=metrics\r\n",
    "    )\r\n",
    "    return model"
   ],
   "outputs": [],
   "metadata": {}
  },
  {
   "cell_type": "code",
   "execution_count": 13,
   "source": [
    "encoder = create_encoder()\r\n",
    "classifier = create_classifier(encoder)\r\n",
    "classifier.summary()"
   ],
   "outputs": [
    {
     "output_type": "stream",
     "name": "stdout",
     "text": [
      "Model: \"classifier\"\n",
      "__________________________________________________________________________________________________\n",
      "Layer (type)                    Output Shape         Param #     Connected to                     \n",
      "==================================================================================================\n",
      "input (InputLayer)              [(None, 112, 112, 3) 0                                            \n",
      "__________________________________________________________________________________________________\n",
      "encoder (Functional)            (None, 2048)         23564800    input[0][0]                      \n",
      "__________________________________________________________________________________________________\n",
      "dropout_gender (Dropout)        (None, 2048)         0           encoder[0][0]                    \n",
      "__________________________________________________________________________________________________\n",
      "dropout_age (Dropout)           (None, 2048)         0           encoder[0][0]                    \n",
      "__________________________________________________________________________________________________\n",
      "featuresgender (Dense)          (None, 512)          1049088     dropout_gender[0][0]             \n",
      "__________________________________________________________________________________________________\n",
      "featuresage (Dense)             (None, 512)          1049088     dropout_age[0][0]                \n",
      "__________________________________________________________________________________________________\n",
      "dropout2_gender (Dropout)       (None, 512)          0           featuresgender[0][0]             \n",
      "__________________________________________________________________________________________________\n",
      "dropout2_age (Dropout)          (None, 512)          0           featuresage[0][0]                \n",
      "__________________________________________________________________________________________________\n",
      "gender (Dense)                  (None, 2)            1026        dropout2_gender[0][0]            \n",
      "__________________________________________________________________________________________________\n",
      "age (Dense)                     (None, 7)            3591        dropout2_age[0][0]               \n",
      "==================================================================================================\n",
      "Total params: 25,667,593\n",
      "Trainable params: 25,622,153\n",
      "Non-trainable params: 45,440\n",
      "__________________________________________________________________________________________________\n"
     ]
    }
   ],
   "metadata": {}
  },
  {
   "cell_type": "code",
   "execution_count": 14,
   "source": [
    "keras.utils.plot_model(classifier)"
   ],
   "outputs": [
    {
     "output_type": "execute_result",
     "data": {
      "text/plain": [
       "<IPython.core.display.Image object>"
      ],
      "image/png": "[encoded data removed]"
     },
     "metadata": {},
     "execution_count": 14
    }
   ],
   "metadata": {}
  },
  {
   "cell_type": "code",
   "execution_count": 15,
   "source": [
    "history = classifier.fit(train_iter, batch_size=batch_size, epochs=num_epochs, validation_data=val_iter, callbacks=callbacks)\r\n"
   ],
   "outputs": [
    {
     "output_type": "stream",
     "name": "stdout",
     "text": [
      "Epoch 1/50\n",
      "2069/2069 [==============================] - 221s 103ms/step - loss: 1.3421 - gender_loss: 0.3139 - age_loss: 1.0282 - gender_sparse_categorical_accuracy: 0.8641 - age_sparse_categorical_accuracy: 0.5413 - val_loss: 1.1714 - val_gender_loss: 0.1917 - val_age_loss: 0.9797 - val_gender_sparse_categorical_accuracy: 0.9234 - val_age_sparse_categorical_accuracy: 0.5511\n"
     ]
    },
    {
     "output_type": "stream",
     "name": "stderr",
     "text": [
      "/usr/local/lib/python3.6/dist-packages/tensorflow/python/keras/utils/generic_utils.py:497: CustomMaskWarning: Custom mask layers require a config and must override get_config. When loading, the custom mask layer must be passed to the custom_objects argument.\n",
      "  category=CustomMaskWarning)\n"
     ]
    },
    {
     "output_type": "stream",
     "name": "stdout",
     "text": [
      "Epoch 2/50\n",
      "2069/2069 [==============================] - 177s 85ms/step - loss: 1.1366 - gender_loss: 0.1782 - age_loss: 0.9584 - gender_sparse_categorical_accuracy: 0.9311 - age_sparse_categorical_accuracy: 0.5607 - val_loss: 1.0821 - val_gender_loss: 0.1589 - val_age_loss: 0.9232 - val_gender_sparse_categorical_accuracy: 0.9399 - val_age_sparse_categorical_accuracy: 0.5755\n",
      "Epoch 3/50\n",
      "2069/2069 [==============================] - 173s 83ms/step - loss: 1.0782 - gender_loss: 0.1518 - age_loss: 0.9264 - gender_sparse_categorical_accuracy: 0.9431 - age_sparse_categorical_accuracy: 0.5751 - val_loss: 1.0557 - val_gender_loss: 0.1503 - val_age_loss: 0.9054 - val_gender_sparse_categorical_accuracy: 0.9408 - val_age_sparse_categorical_accuracy: 0.5853\n",
      "Epoch 4/50\n",
      "2069/2069 [==============================] - 171s 83ms/step - loss: 1.0433 - gender_loss: 0.1375 - age_loss: 0.9059 - gender_sparse_categorical_accuracy: 0.9496 - age_sparse_categorical_accuracy: 0.5847 - val_loss: 1.0077 - val_gender_loss: 0.1224 - val_age_loss: 0.8853 - val_gender_sparse_categorical_accuracy: 0.9565 - val_age_sparse_categorical_accuracy: 0.5963\n",
      "Epoch 5/50\n",
      "2069/2069 [==============================] - 170s 82ms/step - loss: 1.0066 - gender_loss: 0.1218 - age_loss: 0.8848 - gender_sparse_categorical_accuracy: 0.9556 - age_sparse_categorical_accuracy: 0.5946 - val_loss: 0.9960 - val_gender_loss: 0.1170 - val_age_loss: 0.8789 - val_gender_sparse_categorical_accuracy: 0.9575 - val_age_sparse_categorical_accuracy: 0.5962\n",
      "Epoch 6/50\n",
      "2069/2069 [==============================] - 170s 82ms/step - loss: 0.9879 - gender_loss: 0.1167 - age_loss: 0.8711 - gender_sparse_categorical_accuracy: 0.9581 - age_sparse_categorical_accuracy: 0.6028 - val_loss: 0.9769 - val_gender_loss: 0.1120 - val_age_loss: 0.8650 - val_gender_sparse_categorical_accuracy: 0.9624 - val_age_sparse_categorical_accuracy: 0.5989\n",
      "Epoch 7/50\n",
      "2069/2069 [==============================] - 170s 82ms/step - loss: 0.9635 - gender_loss: 0.1067 - age_loss: 0.8568 - gender_sparse_categorical_accuracy: 0.9626 - age_sparse_categorical_accuracy: 0.6095 - val_loss: 0.9486 - val_gender_loss: 0.1014 - val_age_loss: 0.8472 - val_gender_sparse_categorical_accuracy: 0.9647 - val_age_sparse_categorical_accuracy: 0.6134\n",
      "Epoch 8/50\n",
      "2069/2069 [==============================] - 170s 82ms/step - loss: 0.9445 - gender_loss: 0.1000 - age_loss: 0.8445 - gender_sparse_categorical_accuracy: 0.9647 - age_sparse_categorical_accuracy: 0.6158 - val_loss: 0.9326 - val_gender_loss: 0.0965 - val_age_loss: 0.8361 - val_gender_sparse_categorical_accuracy: 0.9676 - val_age_sparse_categorical_accuracy: 0.6207\n",
      "Epoch 9/50\n",
      "2069/2069 [==============================] - 170s 82ms/step - loss: 0.9286 - gender_loss: 0.0946 - age_loss: 0.8340 - gender_sparse_categorical_accuracy: 0.9674 - age_sparse_categorical_accuracy: 0.6198 - val_loss: 0.9065 - val_gender_loss: 0.0883 - val_age_loss: 0.8182 - val_gender_sparse_categorical_accuracy: 0.9698 - val_age_sparse_categorical_accuracy: 0.6266\n",
      "Epoch 10/50\n",
      "2069/2069 [==============================] - 170s 82ms/step - loss: 0.9207 - gender_loss: 0.0929 - age_loss: 0.8279 - gender_sparse_categorical_accuracy: 0.9680 - age_sparse_categorical_accuracy: 0.6245 - val_loss: 0.9080 - val_gender_loss: 0.0888 - val_age_loss: 0.8192 - val_gender_sparse_categorical_accuracy: 0.9688 - val_age_sparse_categorical_accuracy: 0.6311\n",
      "Epoch 11/50\n",
      "2069/2069 [==============================] - 170s 82ms/step - loss: 0.9071 - gender_loss: 0.0871 - age_loss: 0.8200 - gender_sparse_categorical_accuracy: 0.9703 - age_sparse_categorical_accuracy: 0.6272 - val_loss: 0.9006 - val_gender_loss: 0.0832 - val_age_loss: 0.8174 - val_gender_sparse_categorical_accuracy: 0.9717 - val_age_sparse_categorical_accuracy: 0.6256\n",
      "Epoch 12/50\n",
      "2069/2069 [==============================] - 170s 82ms/step - loss: 0.9012 - gender_loss: 0.0859 - age_loss: 0.8153 - gender_sparse_categorical_accuracy: 0.9706 - age_sparse_categorical_accuracy: 0.6319 - val_loss: 0.9017 - val_gender_loss: 0.0887 - val_age_loss: 0.8130 - val_gender_sparse_categorical_accuracy: 0.9690 - val_age_sparse_categorical_accuracy: 0.6350\n",
      "Epoch 13/50\n",
      "2069/2069 [==============================] - 170s 82ms/step - loss: 0.8854 - gender_loss: 0.0795 - age_loss: 0.8059 - gender_sparse_categorical_accuracy: 0.9732 - age_sparse_categorical_accuracy: 0.6362 - val_loss: 0.8869 - val_gender_loss: 0.0859 - val_age_loss: 0.8011 - val_gender_sparse_categorical_accuracy: 0.9712 - val_age_sparse_categorical_accuracy: 0.6356\n",
      "Epoch 14/50\n",
      "2069/2069 [==============================] - 171s 82ms/step - loss: 0.8918 - gender_loss: 0.0850 - age_loss: 0.8068 - gender_sparse_categorical_accuracy: 0.9711 - age_sparse_categorical_accuracy: 0.6363 - val_loss: 0.8913 - val_gender_loss: 0.0855 - val_age_loss: 0.8058 - val_gender_sparse_categorical_accuracy: 0.9711 - val_age_sparse_categorical_accuracy: 0.6364\n",
      "Epoch 15/50\n",
      "2069/2069 [==============================] - 171s 82ms/step - loss: 0.8719 - gender_loss: 0.0769 - age_loss: 0.7950 - gender_sparse_categorical_accuracy: 0.9739 - age_sparse_categorical_accuracy: 0.6421 - val_loss: 0.8707 - val_gender_loss: 0.0791 - val_age_loss: 0.7916 - val_gender_sparse_categorical_accuracy: 0.9736 - val_age_sparse_categorical_accuracy: 0.6439\n",
      "Epoch 16/50\n",
      "2069/2069 [==============================] - 170s 82ms/step - loss: 0.8679 - gender_loss: 0.0754 - age_loss: 0.7925 - gender_sparse_categorical_accuracy: 0.9748 - age_sparse_categorical_accuracy: 0.6444 - val_loss: 0.8797 - val_gender_loss: 0.0824 - val_age_loss: 0.7973 - val_gender_sparse_categorical_accuracy: 0.9725 - val_age_sparse_categorical_accuracy: 0.6399\n",
      "Epoch 17/50\n",
      "2069/2069 [==============================] - 170s 82ms/step - loss: 0.8634 - gender_loss: 0.0752 - age_loss: 0.7881 - gender_sparse_categorical_accuracy: 0.9750 - age_sparse_categorical_accuracy: 0.6464 - val_loss: 0.8628 - val_gender_loss: 0.0783 - val_age_loss: 0.7844 - val_gender_sparse_categorical_accuracy: 0.9742 - val_age_sparse_categorical_accuracy: 0.6487\n",
      "Epoch 18/50\n",
      "2069/2069 [==============================] - 170s 82ms/step - loss: 0.8507 - gender_loss: 0.0706 - age_loss: 0.7801 - gender_sparse_categorical_accuracy: 0.9768 - age_sparse_categorical_accuracy: 0.6502 - val_loss: 0.8564 - val_gender_loss: 0.0784 - val_age_loss: 0.7780 - val_gender_sparse_categorical_accuracy: 0.9754 - val_age_sparse_categorical_accuracy: 0.6501\n",
      "Epoch 19/50\n",
      "2069/2069 [==============================] - 170s 82ms/step - loss: 0.8428 - gender_loss: 0.0686 - age_loss: 0.7742 - gender_sparse_categorical_accuracy: 0.9775 - age_sparse_categorical_accuracy: 0.6554 - val_loss: 0.8591 - val_gender_loss: 0.0779 - val_age_loss: 0.7812 - val_gender_sparse_categorical_accuracy: 0.9743 - val_age_sparse_categorical_accuracy: 0.6504\n",
      "Epoch 20/50\n",
      "2069/2069 [==============================] - 170s 82ms/step - loss: 0.8406 - gender_loss: 0.0679 - age_loss: 0.7727 - gender_sparse_categorical_accuracy: 0.9775 - age_sparse_categorical_accuracy: 0.6545 - val_loss: 0.8535 - val_gender_loss: 0.0752 - val_age_loss: 0.7783 - val_gender_sparse_categorical_accuracy: 0.9751 - val_age_sparse_categorical_accuracy: 0.6500\n",
      "Epoch 21/50\n",
      "2069/2069 [==============================] - 169s 82ms/step - loss: 0.8351 - gender_loss: 0.0674 - age_loss: 0.7677 - gender_sparse_categorical_accuracy: 0.9782 - age_sparse_categorical_accuracy: 0.6591 - val_loss: 0.8507 - val_gender_loss: 0.0723 - val_age_loss: 0.7785 - val_gender_sparse_categorical_accuracy: 0.9763 - val_age_sparse_categorical_accuracy: 0.6544\n",
      "Epoch 22/50\n",
      "2069/2069 [==============================] - 170s 82ms/step - loss: 0.8311 - gender_loss: 0.0663 - age_loss: 0.7648 - gender_sparse_categorical_accuracy: 0.9780 - age_sparse_categorical_accuracy: 0.6602 - val_loss: 0.8529 - val_gender_loss: 0.0734 - val_age_loss: 0.7795 - val_gender_sparse_categorical_accuracy: 0.9763 - val_age_sparse_categorical_accuracy: 0.6498\n",
      "Epoch 23/50\n"
     ]
    },
    {
     "output_type": "stream",
     "name": "stdout",
     "text": [
      "2069/2069 [==============================] - 169s 82ms/step - loss: 0.8211 - gender_loss: 0.0627 - age_loss: 0.7584 - gender_sparse_categorical_accuracy: 0.9797 - age_sparse_categorical_accuracy: 0.6632 - val_loss: 0.8523 - val_gender_loss: 0.0719 - val_age_loss: 0.7805 - val_gender_sparse_categorical_accuracy: 0.9769 - val_age_sparse_categorical_accuracy: 0.6520\n",
      "Epoch 24/50\n",
      "2069/2069 [==============================] - 170s 82ms/step - loss: 0.8164 - gender_loss: 0.0624 - age_loss: 0.7539 - gender_sparse_categorical_accuracy: 0.9797 - age_sparse_categorical_accuracy: 0.6658 - val_loss: 0.8413 - val_gender_loss: 0.0749 - val_age_loss: 0.7664 - val_gender_sparse_categorical_accuracy: 0.9754 - val_age_sparse_categorical_accuracy: 0.6568\n",
      "Epoch 25/50\n",
      "2069/2069 [==============================] - 169s 82ms/step - loss: 0.8174 - gender_loss: 0.0634 - age_loss: 0.7540 - gender_sparse_categorical_accuracy: 0.9794 - age_sparse_categorical_accuracy: 0.6652 - val_loss: 0.8390 - val_gender_loss: 0.0728 - val_age_loss: 0.7662 - val_gender_sparse_categorical_accuracy: 0.9759 - val_age_sparse_categorical_accuracy: 0.6574\n",
      "Epoch 26/50\n",
      "2069/2069 [==============================] - 170s 82ms/step - loss: 0.8076 - gender_loss: 0.0607 - age_loss: 0.7470 - gender_sparse_categorical_accuracy: 0.9812 - age_sparse_categorical_accuracy: 0.6684 - val_loss: 0.8374 - val_gender_loss: 0.0722 - val_age_loss: 0.7652 - val_gender_sparse_categorical_accuracy: 0.9775 - val_age_sparse_categorical_accuracy: 0.6605\n",
      "Epoch 27/50\n",
      "2069/2069 [==============================] - 170s 82ms/step - loss: 0.8040 - gender_loss: 0.0591 - age_loss: 0.7448 - gender_sparse_categorical_accuracy: 0.9808 - age_sparse_categorical_accuracy: 0.6688 - val_loss: 0.8504 - val_gender_loss: 0.0761 - val_age_loss: 0.7742 - val_gender_sparse_categorical_accuracy: 0.9765 - val_age_sparse_categorical_accuracy: 0.6532\n",
      "Epoch 28/50\n",
      "2069/2069 [==============================] - 170s 82ms/step - loss: 0.8034 - gender_loss: 0.0607 - age_loss: 0.7427 - gender_sparse_categorical_accuracy: 0.9804 - age_sparse_categorical_accuracy: 0.6720 - val_loss: 0.8389 - val_gender_loss: 0.0728 - val_age_loss: 0.7661 - val_gender_sparse_categorical_accuracy: 0.9756 - val_age_sparse_categorical_accuracy: 0.6573\n",
      "Epoch 29/50\n",
      "2069/2069 [==============================] - 170s 82ms/step - loss: 0.7964 - gender_loss: 0.0578 - age_loss: 0.7386 - gender_sparse_categorical_accuracy: 0.9815 - age_sparse_categorical_accuracy: 0.6734 - val_loss: 0.8299 - val_gender_loss: 0.0704 - val_age_loss: 0.7595 - val_gender_sparse_categorical_accuracy: 0.9776 - val_age_sparse_categorical_accuracy: 0.6646\n",
      "Epoch 30/50\n",
      "2069/2069 [==============================] - 170s 82ms/step - loss: 0.7907 - gender_loss: 0.0572 - age_loss: 0.7335 - gender_sparse_categorical_accuracy: 0.9820 - age_sparse_categorical_accuracy: 0.6768 - val_loss: 0.8315 - val_gender_loss: 0.0682 - val_age_loss: 0.7633 - val_gender_sparse_categorical_accuracy: 0.9786 - val_age_sparse_categorical_accuracy: 0.6613\n",
      "Epoch 31/50\n",
      "2069/2069 [==============================] - 169s 82ms/step - loss: 0.7886 - gender_loss: 0.0566 - age_loss: 0.7320 - gender_sparse_categorical_accuracy: 0.9819 - age_sparse_categorical_accuracy: 0.6765 - val_loss: 0.8269 - val_gender_loss: 0.0697 - val_age_loss: 0.7572 - val_gender_sparse_categorical_accuracy: 0.9782 - val_age_sparse_categorical_accuracy: 0.6631\n",
      "Epoch 32/50\n",
      "2069/2069 [==============================] - 170s 82ms/step - loss: 0.7820 - gender_loss: 0.0545 - age_loss: 0.7275 - gender_sparse_categorical_accuracy: 0.9828 - age_sparse_categorical_accuracy: 0.6798 - val_loss: 0.8310 - val_gender_loss: 0.0710 - val_age_loss: 0.7600 - val_gender_sparse_categorical_accuracy: 0.9766 - val_age_sparse_categorical_accuracy: 0.6634\n",
      "Epoch 33/50\n",
      "2069/2069 [==============================] - 170s 82ms/step - loss: 0.7788 - gender_loss: 0.0543 - age_loss: 0.7246 - gender_sparse_categorical_accuracy: 0.9826 - age_sparse_categorical_accuracy: 0.6813 - val_loss: 0.8253 - val_gender_loss: 0.0671 - val_age_loss: 0.7582 - val_gender_sparse_categorical_accuracy: 0.9790 - val_age_sparse_categorical_accuracy: 0.6598\n",
      "Epoch 34/50\n",
      "2069/2069 [==============================] - 170s 82ms/step - loss: 0.7775 - gender_loss: 0.0551 - age_loss: 0.7224 - gender_sparse_categorical_accuracy: 0.9826 - age_sparse_categorical_accuracy: 0.6824 - val_loss: 0.8284 - val_gender_loss: 0.0710 - val_age_loss: 0.7574 - val_gender_sparse_categorical_accuracy: 0.9766 - val_age_sparse_categorical_accuracy: 0.6650\n",
      "Epoch 35/50\n",
      "2069/2069 [==============================] - 170s 82ms/step - loss: 0.7700 - gender_loss: 0.0526 - age_loss: 0.7175 - gender_sparse_categorical_accuracy: 0.9829 - age_sparse_categorical_accuracy: 0.6857 - val_loss: 0.8408 - val_gender_loss: 0.0737 - val_age_loss: 0.7671 - val_gender_sparse_categorical_accuracy: 0.9760 - val_age_sparse_categorical_accuracy: 0.6614\n",
      "Epoch 36/50\n",
      "2069/2069 [==============================] - 170s 82ms/step - loss: 0.7759 - gender_loss: 0.0552 - age_loss: 0.7208 - gender_sparse_categorical_accuracy: 0.9822 - age_sparse_categorical_accuracy: 0.6828 - val_loss: 0.8327 - val_gender_loss: 0.0739 - val_age_loss: 0.7588 - val_gender_sparse_categorical_accuracy: 0.9766 - val_age_sparse_categorical_accuracy: 0.6616\n",
      "Epoch 37/50\n",
      "2069/2069 [==============================] - 169s 82ms/step - loss: 0.7687 - gender_loss: 0.0529 - age_loss: 0.7158 - gender_sparse_categorical_accuracy: 0.9833 - age_sparse_categorical_accuracy: 0.6855 - val_loss: 0.8277 - val_gender_loss: 0.0717 - val_age_loss: 0.7560 - val_gender_sparse_categorical_accuracy: 0.9779 - val_age_sparse_categorical_accuracy: 0.6616\n",
      "Epoch 38/50\n",
      "2069/2069 [==============================] - 171s 83ms/step - loss: 0.7622 - gender_loss: 0.0516 - age_loss: 0.7105 - gender_sparse_categorical_accuracy: 0.9836 - age_sparse_categorical_accuracy: 0.6887 - val_loss: 0.8257 - val_gender_loss: 0.0691 - val_age_loss: 0.7566 - val_gender_sparse_categorical_accuracy: 0.9787 - val_age_sparse_categorical_accuracy: 0.6639\n",
      "Epoch 39/50\n",
      "2069/2069 [==============================] - 169s 82ms/step - loss: 0.7583 - gender_loss: 0.0506 - age_loss: 0.7077 - gender_sparse_categorical_accuracy: 0.9839 - age_sparse_categorical_accuracy: 0.6904 - val_loss: 0.8362 - val_gender_loss: 0.0743 - val_age_loss: 0.7619 - val_gender_sparse_categorical_accuracy: 0.9775 - val_age_sparse_categorical_accuracy: 0.6613\n",
      "Epoch 40/50\n",
      "2069/2069 [==============================] - 170s 82ms/step - loss: 0.7565 - gender_loss: 0.0509 - age_loss: 0.7057 - gender_sparse_categorical_accuracy: 0.9840 - age_sparse_categorical_accuracy: 0.6902 - val_loss: 0.8286 - val_gender_loss: 0.0674 - val_age_loss: 0.7612 - val_gender_sparse_categorical_accuracy: 0.9792 - val_age_sparse_categorical_accuracy: 0.6640\n",
      "Epoch 41/50\n",
      "2069/2069 [==============================] - 170s 82ms/step - loss: 0.7465 - gender_loss: 0.0467 - age_loss: 0.6997 - gender_sparse_categorical_accuracy: 0.9856 - age_sparse_categorical_accuracy: 0.6937 - val_loss: 0.8232 - val_gender_loss: 0.0700 - val_age_loss: 0.7532 - val_gender_sparse_categorical_accuracy: 0.9785 - val_age_sparse_categorical_accuracy: 0.6677\n",
      "Epoch 42/50\n",
      "2069/2069 [==============================] - 170s 82ms/step - loss: 0.7531 - gender_loss: 0.0495 - age_loss: 0.7036 - gender_sparse_categorical_accuracy: 0.9845 - age_sparse_categorical_accuracy: 0.6921 - val_loss: 0.8554 - val_gender_loss: 0.0738 - val_age_loss: 0.7816 - val_gender_sparse_categorical_accuracy: 0.9775 - val_age_sparse_categorical_accuracy: 0.6572\n",
      "Epoch 43/50\n",
      "2069/2069 [==============================] - 169s 82ms/step - loss: 0.7645 - gender_loss: 0.0535 - age_loss: 0.7110 - gender_sparse_categorical_accuracy: 0.9833 - age_sparse_categorical_accuracy: 0.6894 - val_loss: 0.8246 - val_gender_loss: 0.0717 - val_age_loss: 0.7529 - val_gender_sparse_categorical_accuracy: 0.9786 - val_age_sparse_categorical_accuracy: 0.6649\n",
      "Epoch 44/50\n"
     ]
    },
    {
     "output_type": "stream",
     "name": "stdout",
     "text": [
      "2069/2069 [==============================] - 170s 82ms/step - loss: 0.7390 - gender_loss: 0.0465 - age_loss: 0.6926 - gender_sparse_categorical_accuracy: 0.9853 - age_sparse_categorical_accuracy: 0.6969 - val_loss: 0.8325 - val_gender_loss: 0.0753 - val_age_loss: 0.7572 - val_gender_sparse_categorical_accuracy: 0.9770 - val_age_sparse_categorical_accuracy: 0.6679\n",
      "Epoch 45/50\n",
      "2069/2069 [==============================] - 170s 82ms/step - loss: 0.7365 - gender_loss: 0.0462 - age_loss: 0.6903 - gender_sparse_categorical_accuracy: 0.9858 - age_sparse_categorical_accuracy: 0.6993 - val_loss: 0.8360 - val_gender_loss: 0.0762 - val_age_loss: 0.7598 - val_gender_sparse_categorical_accuracy: 0.9783 - val_age_sparse_categorical_accuracy: 0.6645\n",
      "Epoch 46/50\n",
      "2069/2069 [==============================] - 170s 82ms/step - loss: 0.7360 - gender_loss: 0.0464 - age_loss: 0.6896 - gender_sparse_categorical_accuracy: 0.9852 - age_sparse_categorical_accuracy: 0.6989 - val_loss: 0.8475 - val_gender_loss: 0.0813 - val_age_loss: 0.7663 - val_gender_sparse_categorical_accuracy: 0.9754 - val_age_sparse_categorical_accuracy: 0.6603\n",
      "Epoch 47/50\n",
      "2069/2069 [==============================] - 170s 82ms/step - loss: 0.7295 - gender_loss: 0.0445 - age_loss: 0.6849 - gender_sparse_categorical_accuracy: 0.9863 - age_sparse_categorical_accuracy: 0.7016 - val_loss: 0.8323 - val_gender_loss: 0.0696 - val_age_loss: 0.7627 - val_gender_sparse_categorical_accuracy: 0.9796 - val_age_sparse_categorical_accuracy: 0.6637\n",
      "Epoch 48/50\n",
      "2069/2069 [==============================] - 171s 83ms/step - loss: 0.7321 - gender_loss: 0.0462 - age_loss: 0.6859 - gender_sparse_categorical_accuracy: 0.9856 - age_sparse_categorical_accuracy: 0.7031 - val_loss: 0.8235 - val_gender_loss: 0.0705 - val_age_loss: 0.7530 - val_gender_sparse_categorical_accuracy: 0.9784 - val_age_sparse_categorical_accuracy: 0.6664\n",
      "Epoch 49/50\n",
      "2069/2069 [==============================] - 169s 82ms/step - loss: 0.7306 - gender_loss: 0.0452 - age_loss: 0.6854 - gender_sparse_categorical_accuracy: 0.9861 - age_sparse_categorical_accuracy: 0.7015 - val_loss: 0.8192 - val_gender_loss: 0.0686 - val_age_loss: 0.7506 - val_gender_sparse_categorical_accuracy: 0.9780 - val_age_sparse_categorical_accuracy: 0.6704\n",
      "Epoch 50/50\n",
      "2069/2069 [==============================] - 170s 82ms/step - loss: 0.7233 - gender_loss: 0.0434 - age_loss: 0.6799 - gender_sparse_categorical_accuracy: 0.9865 - age_sparse_categorical_accuracy: 0.7053 - val_loss: 0.8314 - val_gender_loss: 0.0761 - val_age_loss: 0.7553 - val_gender_sparse_categorical_accuracy: 0.9776 - val_age_sparse_categorical_accuracy: 0.6718\n"
     ]
    },
    {
     "output_type": "execute_result",
     "data": {
      "text/plain": [
       "<Response [200]>"
      ]
     },
     "metadata": {},
     "execution_count": 15
    }
   ],
   "metadata": {}
  },
  {
   "cell_type": "code",
   "execution_count": 16,
   "source": [
    "classifier.save('./ckpt/{}-{}.h5'.format(script_name, 'last'))"
   ],
   "outputs": [],
   "metadata": {}
  },
  {
   "cell_type": "code",
   "execution_count": 17,
   "source": [
    "class SupervisedContrastiveLoss(keras.losses.Loss):\r\n",
    "    def __init__(self, temperature=1, name=None):\r\n",
    "        super(SupervisedContrastiveLoss, self).__init__(name=name)\r\n",
    "        self.temperature = temperature\r\n",
    "\r\n",
    "    def __call__(self, labels, feature_vectors, sample_weight=None):\r\n",
    "        # Normalize feature vectors\r\n",
    "        feature_vectors_normalized = tf.math.l2_normalize(feature_vectors, axis=1)\r\n",
    "        # Compute logits\r\n",
    "        logits = tf.divide(\r\n",
    "            tf.matmul(\r\n",
    "                feature_vectors_normalized, tf.transpose(feature_vectors_normalized)\r\n",
    "            ),\r\n",
    "            self.temperature,\r\n",
    "        )\r\n",
    "        return tfa.losses.npairs_loss(tf.squeeze(labels), logits)\r\n",
    "\r\n",
    "\r\n",
    "def add_projection_head(encoder):\r\n",
    "    inputs = keras.Input(shape=input_shape)\r\n",
    "    features = encoder(inputs)\r\n",
    "    outputs = []\r\n",
    "    for col in target_col:\r\n",
    "        outputs.append(layers.Dense(projection_units, activation=\"relu\", name=\"features_\" + col)(features))\r\n",
    "    model = keras.Model(\r\n",
    "        inputs=inputs, outputs=outputs, name=\"encoder_with_projection-head\"\r\n",
    "    )\r\n",
    "    return model"
   ],
   "outputs": [],
   "metadata": {}
  },
  {
   "cell_type": "code",
   "execution_count": 18,
   "source": [
    "script_name = 'SupCon-AFAD-Full-Age-R50-MultiOutput'"
   ],
   "outputs": [],
   "metadata": {}
  },
  {
   "cell_type": "code",
   "execution_count": 19,
   "source": [
    "encoder = create_encoder()\r\n",
    "loss = []\r\n",
    "for col in target_col:\r\n",
    "    loss.append(SupervisedContrastiveLoss(temperature))\r\n",
    "encoder_with_projection_head = add_projection_head(encoder)\r\n",
    "encoder_with_projection_head.compile(\r\n",
    "    optimizer=keras.optimizers.Adam(learning_rate),\r\n",
    "    loss=loss,\r\n",
    ")\r\n",
    "\r\n",
    "encoder_with_projection_head.summary()\r\n",
    "keras.utils.plot_model(encoder_with_projection_head)"
   ],
   "outputs": [
    {
     "output_type": "stream",
     "name": "stdout",
     "text": [
      "Model: \"encoder_with_projection-head\"\n",
      "__________________________________________________________________________________________________\n",
      "Layer (type)                    Output Shape         Param #     Connected to                     \n",
      "==================================================================================================\n",
      "input_7 (InputLayer)            [(None, 112, 112, 3) 0                                            \n",
      "__________________________________________________________________________________________________\n",
      "encoder (Functional)            (None, 2048)         23564800    input_7[0][0]                    \n",
      "__________________________________________________________________________________________________\n",
      "features_gender (Dense)         (None, 128)          262272      encoder[0][0]                    \n",
      "__________________________________________________________________________________________________\n",
      "features_age (Dense)            (None, 128)          262272      encoder[0][0]                    \n",
      "==================================================================================================\n",
      "Total params: 24,089,344\n",
      "Trainable params: 24,043,904\n",
      "Non-trainable params: 45,440\n",
      "__________________________________________________________________________________________________\n"
     ]
    },
    {
     "output_type": "execute_result",
     "data": {
      "text/plain": [
       "<IPython.core.display.Image object>"
      ],
      "image/png": "[encoded data removed]"
     },
     "metadata": {},
     "execution_count": 19
    }
   ],
   "metadata": {}
  },
  {
   "cell_type": "code",
   "execution_count": 20,
   "source": [
    "history = encoder_with_projection_head.fit(\r\n",
    "    train_iter, batch_size=batch_size, epochs=num_epochs\r\n",
    ")\r\n"
   ],
   "outputs": [
    {
     "output_type": "stream",
     "name": "stdout",
     "text": [
      "Epoch 1/50\n",
      "2069/2069 [==============================] - 144s 68ms/step - loss: 8.0441 - features_gender_loss: 3.8907 - features_age_loss: 4.1534\n",
      "Epoch 2/50\n",
      "2069/2069 [==============================] - 139s 67ms/step - loss: 7.9195 - features_gender_loss: 3.7733 - features_age_loss: 4.1461\n",
      "Epoch 3/50\n",
      "2069/2069 [==============================] - 139s 67ms/step - loss: 7.8771 - features_gender_loss: 3.7369 - features_age_loss: 4.1402\n",
      "Epoch 4/50\n",
      "2069/2069 [==============================] - 139s 67ms/step - loss: 7.8484 - features_gender_loss: 3.7146 - features_age_loss: 4.1337\n",
      "Epoch 5/50\n",
      "2069/2069 [==============================] - 139s 67ms/step - loss: 7.8237 - features_gender_loss: 3.6974 - features_age_loss: 4.1263\n",
      "Epoch 6/50\n",
      "2069/2069 [==============================] - 140s 68ms/step - loss: 7.8022 - features_gender_loss: 3.6823 - features_age_loss: 4.1199\n",
      "Epoch 7/50\n",
      "2069/2069 [==============================] - 139s 67ms/step - loss: 7.7845 - features_gender_loss: 3.6704 - features_age_loss: 4.1141\n",
      "Epoch 8/50\n",
      "2069/2069 [==============================] - 139s 67ms/step - loss: 7.7666 - features_gender_loss: 3.6588 - features_age_loss: 4.1078\n",
      "Epoch 9/50\n",
      "2069/2069 [==============================] - 140s 68ms/step - loss: 7.7562 - features_gender_loss: 3.6539 - features_age_loss: 4.1024\n",
      "Epoch 10/50\n",
      "2069/2069 [==============================] - 139s 67ms/step - loss: 7.7423 - features_gender_loss: 3.6451 - features_age_loss: 4.0972\n",
      "Epoch 11/50\n",
      "2069/2069 [==============================] - 139s 67ms/step - loss: 7.7334 - features_gender_loss: 3.6397 - features_age_loss: 4.0937\n",
      "Epoch 12/50\n",
      "2069/2069 [==============================] - 139s 67ms/step - loss: 7.7258 - features_gender_loss: 3.6358 - features_age_loss: 4.0900\n",
      "Epoch 13/50\n",
      "2069/2069 [==============================] - 139s 67ms/step - loss: 7.7160 - features_gender_loss: 3.6298 - features_age_loss: 4.0863\n",
      "Epoch 14/50\n",
      "2069/2069 [==============================] - 139s 67ms/step - loss: 7.7073 - features_gender_loss: 3.6248 - features_age_loss: 4.0826\n",
      "Epoch 15/50\n",
      "2069/2069 [==============================] - 139s 67ms/step - loss: 7.7011 - features_gender_loss: 3.6224 - features_age_loss: 4.0787\n",
      "Epoch 16/50\n",
      "2069/2069 [==============================] - 139s 67ms/step - loss: 7.6947 - features_gender_loss: 3.6181 - features_age_loss: 4.0766s - loss: 7.6949 - features_gender_loss: 3.6182 -\n",
      "Epoch 17/50\n",
      "2069/2069 [==============================] - 140s 68ms/step - loss: 7.6894 - features_gender_loss: 3.6162 - features_age_loss: 4.0731\n",
      "Epoch 18/50\n",
      "2069/2069 [==============================] - 140s 68ms/step - loss: 7.6835 - features_gender_loss: 3.6129 - features_age_loss: 4.0706\n",
      "Epoch 19/50\n",
      "2069/2069 [==============================] - 140s 67ms/step - loss: 7.6778 - features_gender_loss: 3.6100 - features_age_loss: 4.0679\n",
      "Epoch 20/50\n",
      "2069/2069 [==============================] - 139s 67ms/step - loss: 7.6742 - features_gender_loss: 3.6089 - features_age_loss: 4.0653\n",
      "Epoch 21/50\n",
      "2069/2069 [==============================] - 140s 67ms/step - loss: 7.6685 - features_gender_loss: 3.6059 - features_age_loss: 4.0626\n",
      "Epoch 22/50\n",
      "2069/2069 [==============================] - 139s 67ms/step - loss: 7.6624 - features_gender_loss: 3.6022 - features_age_loss: 4.0602\n",
      "Epoch 23/50\n",
      "2069/2069 [==============================] - 139s 67ms/step - loss: 7.6599 - features_gender_loss: 3.6007 - features_age_loss: 4.0592\n",
      "Epoch 24/50\n",
      "2069/2069 [==============================] - 140s 67ms/step - loss: 7.6575 - features_gender_loss: 3.6005 - features_age_loss: 4.0570\n",
      "Epoch 25/50\n",
      "2069/2069 [==============================] - 139s 67ms/step - loss: 7.6524 - features_gender_loss: 3.5974 - features_age_loss: 4.0550\n",
      "Epoch 26/50\n",
      "2069/2069 [==============================] - 139s 67ms/step - loss: 7.6474 - features_gender_loss: 3.5948 - features_age_loss: 4.0526\n",
      "Epoch 27/50\n",
      "2069/2069 [==============================] - 139s 67ms/step - loss: 7.6444 - features_gender_loss: 3.5938 - features_age_loss: 4.0506\n",
      "Epoch 28/50\n",
      "2069/2069 [==============================] - 139s 67ms/step - loss: 7.6394 - features_gender_loss: 3.5905 - features_age_loss: 4.0489\n",
      "Epoch 29/50\n",
      "2069/2069 [==============================] - 139s 67ms/step - loss: 7.6380 - features_gender_loss: 3.5915 - features_age_loss: 4.0465\n",
      "Epoch 30/50\n",
      "2069/2069 [==============================] - 139s 67ms/step - loss: 7.6346 - features_gender_loss: 3.5896 - features_age_loss: 4.0450\n",
      "Epoch 31/50\n",
      "2069/2069 [==============================] - 139s 67ms/step - loss: 7.6302 - features_gender_loss: 3.5862 - features_age_loss: 4.0439\n",
      "Epoch 32/50\n",
      "2069/2069 [==============================] - 139s 67ms/step - loss: 7.6270 - features_gender_loss: 3.5859 - features_age_loss: 4.0410\n",
      "Epoch 33/50\n",
      "2069/2069 [==============================] - 140s 67ms/step - loss: 7.6231 - features_gender_loss: 3.5829 - features_age_loss: 4.0402\n",
      "Epoch 34/50\n",
      "2069/2069 [==============================] - 140s 67ms/step - loss: 7.6179 - features_gender_loss: 3.5802 - features_age_loss: 4.0377\n",
      "Epoch 35/50\n",
      "2069/2069 [==============================] - 139s 67ms/step - loss: 7.6161 - features_gender_loss: 3.5801 - features_age_loss: 4.0359\n",
      "Epoch 36/50\n",
      "2069/2069 [==============================] - 140s 68ms/step - loss: 7.6142 - features_gender_loss: 3.5795 - features_age_loss: 4.0347\n",
      "Epoch 37/50\n",
      "2069/2069 [==============================] - 140s 67ms/step - loss: 7.6112 - features_gender_loss: 3.5779 - features_age_loss: 4.0333\n",
      "Epoch 38/50\n",
      "2069/2069 [==============================] - 140s 67ms/step - loss: 7.6090 - features_gender_loss: 3.5768 - features_age_loss: 4.0322\n",
      "Epoch 39/50\n",
      "2069/2069 [==============================] - 140s 67ms/step - loss: 7.6053 - features_gender_loss: 3.5758 - features_age_loss: 4.0295\n",
      "Epoch 40/50\n",
      "2069/2069 [==============================] - 139s 67ms/step - loss: 7.6036 - features_gender_loss: 3.5750 - features_age_loss: 4.0286\n",
      "Epoch 41/50\n",
      "2069/2069 [==============================] - 139s 67ms/step - loss: 7.6007 - features_gender_loss: 3.5731 - features_age_loss: 4.0276\n",
      "Epoch 42/50\n",
      "2069/2069 [==============================] - 140s 68ms/step - loss: 7.5967 - features_gender_loss: 3.5720 - features_age_loss: 4.0247\n",
      "Epoch 43/50\n",
      "2069/2069 [==============================] - 139s 67ms/step - loss: 7.5960 - features_gender_loss: 3.5720 - features_age_loss: 4.0240\n",
      "Epoch 44/50\n",
      "2069/2069 [==============================] - 139s 67ms/step - loss: 7.5929 - features_gender_loss: 3.5700 - features_age_loss: 4.0228\n",
      "Epoch 45/50\n",
      "2069/2069 [==============================] - 140s 68ms/step - loss: 7.5896 - features_gender_loss: 3.5684 - features_age_loss: 4.0212\n",
      "Epoch 46/50\n",
      "2069/2069 [==============================] - 139s 67ms/step - loss: 7.5884 - features_gender_loss: 3.5687 - features_age_loss: 4.0197\n",
      "Epoch 47/50\n",
      "2069/2069 [==============================] - 139s 67ms/step - loss: 7.5839 - features_gender_loss: 3.5661 - features_age_loss: 4.0178\n",
      "Epoch 48/50\n",
      "2069/2069 [==============================] - 139s 67ms/step - loss: 7.5836 - features_gender_loss: 3.5665 - features_age_loss: 4.0171\n",
      "Epoch 49/50\n",
      "2069/2069 [==============================] - 139s 67ms/step - loss: 7.5796 - features_gender_loss: 3.5647 - features_age_loss: 4.0149\n",
      "Epoch 50/50\n",
      "2069/2069 [==============================] - 139s 67ms/step - loss: 7.5774 - features_gender_loss: 3.5633 - features_age_loss: 4.0141\n"
     ]
    },
    {
     "output_type": "execute_result",
     "data": {
      "text/plain": [
       "<Response [200]>"
      ]
     },
     "metadata": {},
     "execution_count": 20
    }
   ],
   "metadata": {}
  },
  {
   "cell_type": "code",
   "execution_count": 21,
   "source": [
    "callbacks = []\r\n",
    "for col in target_col:\r\n",
    "    model_checkpoint_callback = tf.keras.callbacks.ModelCheckpoint(\r\n",
    "        filepath='./ckpt/{}-{}.h5'.format(script_name, col),\r\n",
    "        monitor='val_{}_sparse_categorical_accuracy'.format(col),\r\n",
    "        mode='max',\r\n",
    "        save_best_only=True)\r\n",
    "    callbacks.append(model_checkpoint_callback)"
   ],
   "outputs": [],
   "metadata": {}
  },
  {
   "cell_type": "code",
   "execution_count": 22,
   "source": [
    "classifier = create_classifier(encoder, trainable=False, training=False)\r\n",
    "classifier.summary()\r\n",
    "history = classifier.fit(train_iter, batch_size=batch_size, epochs=10, validation_data=val_iter, callbacks=callbacks)"
   ],
   "outputs": [
    {
     "output_type": "stream",
     "name": "stdout",
     "text": [
      "Model: \"classifier\"\n",
      "__________________________________________________________________________________________________\n",
      "Layer (type)                    Output Shape         Param #     Connected to                     \n",
      "==================================================================================================\n",
      "input (InputLayer)              [(None, 112, 112, 3) 0                                            \n",
      "__________________________________________________________________________________________________\n",
      "encoder (Functional)            (None, 2048)         23564800    input[0][0]                      \n",
      "__________________________________________________________________________________________________\n",
      "dropout_gender (Dropout)        (None, 2048)         0           encoder[1][0]                    \n",
      "__________________________________________________________________________________________________\n",
      "dropout_age (Dropout)           (None, 2048)         0           encoder[1][0]                    \n",
      "__________________________________________________________________________________________________\n",
      "featuresgender (Dense)          (None, 512)          1049088     dropout_gender[0][0]             \n",
      "__________________________________________________________________________________________________\n",
      "featuresage (Dense)             (None, 512)          1049088     dropout_age[0][0]                \n",
      "__________________________________________________________________________________________________\n",
      "dropout2_gender (Dropout)       (None, 512)          0           featuresgender[0][0]             \n",
      "__________________________________________________________________________________________________\n",
      "dropout2_age (Dropout)          (None, 512)          0           featuresage[0][0]                \n",
      "__________________________________________________________________________________________________\n",
      "gender (Dense)                  (None, 2)            1026        dropout2_gender[0][0]            \n",
      "__________________________________________________________________________________________________\n",
      "age (Dense)                     (None, 7)            3591        dropout2_age[0][0]               \n",
      "==================================================================================================\n",
      "Total params: 25,667,593\n",
      "Trainable params: 2,102,793\n",
      "Non-trainable params: 23,564,800\n",
      "__________________________________________________________________________________________________\n",
      "Epoch 1/10\n",
      "2069/2069 [==============================] - 162s 77ms/step - loss: 0.7844 - gender_loss: 0.0385 - age_loss: 0.7459 - gender_sparse_categorical_accuracy: 0.9911 - age_sparse_categorical_accuracy: 0.6867 - val_loss: 0.8380 - val_gender_loss: 0.0677 - val_age_loss: 0.7703 - val_gender_sparse_categorical_accuracy: 0.9808 - val_age_sparse_categorical_accuracy: 0.6626\n"
     ]
    },
    {
     "output_type": "stream",
     "name": "stderr",
     "text": [
      "/usr/local/lib/python3.6/dist-packages/tensorflow/python/keras/utils/generic_utils.py:497: CustomMaskWarning: Custom mask layers require a config and must override get_config. When loading, the custom mask layer must be passed to the custom_objects argument.\n",
      "  category=CustomMaskWarning)\n"
     ]
    },
    {
     "output_type": "stream",
     "name": "stdout",
     "text": [
      "Epoch 2/10\n",
      "2069/2069 [==============================] - 158s 76ms/step - loss: 0.7657 - gender_loss: 0.0351 - age_loss: 0.7306 - gender_sparse_categorical_accuracy: 0.9919 - age_sparse_categorical_accuracy: 0.6914 - val_loss: 0.8424 - val_gender_loss: 0.0741 - val_age_loss: 0.7682 - val_gender_sparse_categorical_accuracy: 0.9808 - val_age_sparse_categorical_accuracy: 0.6622\n",
      "Epoch 3/10\n",
      "2069/2069 [==============================] - 158s 76ms/step - loss: 0.7627 - gender_loss: 0.0345 - age_loss: 0.7282 - gender_sparse_categorical_accuracy: 0.9920 - age_sparse_categorical_accuracy: 0.6909 - val_loss: 0.8350 - val_gender_loss: 0.0730 - val_age_loss: 0.7620 - val_gender_sparse_categorical_accuracy: 0.9807 - val_age_sparse_categorical_accuracy: 0.6657\n",
      "Epoch 4/10\n",
      "2069/2069 [==============================] - 157s 76ms/step - loss: 0.7621 - gender_loss: 0.0342 - age_loss: 0.7279 - gender_sparse_categorical_accuracy: 0.9922 - age_sparse_categorical_accuracy: 0.6906 - val_loss: 0.8437 - val_gender_loss: 0.0834 - val_age_loss: 0.7603 - val_gender_sparse_categorical_accuracy: 0.9805 - val_age_sparse_categorical_accuracy: 0.6631\n",
      "Epoch 5/10\n",
      "2069/2069 [==============================] - 158s 76ms/step - loss: 0.7610 - gender_loss: 0.0338 - age_loss: 0.7272 - gender_sparse_categorical_accuracy: 0.9923 - age_sparse_categorical_accuracy: 0.6907 - val_loss: 0.8396 - val_gender_loss: 0.0763 - val_age_loss: 0.7633 - val_gender_sparse_categorical_accuracy: 0.9809 - val_age_sparse_categorical_accuracy: 0.6645\n",
      "Epoch 6/10\n",
      "2069/2069 [==============================] - 159s 77ms/step - loss: 0.7606 - gender_loss: 0.0342 - age_loss: 0.7264 - gender_sparse_categorical_accuracy: 0.9921 - age_sparse_categorical_accuracy: 0.6889 - val_loss: 0.8319 - val_gender_loss: 0.0715 - val_age_loss: 0.7604 - val_gender_sparse_categorical_accuracy: 0.9807 - val_age_sparse_categorical_accuracy: 0.6653\n",
      "Epoch 7/10\n",
      "2069/2069 [==============================] - 158s 76ms/step - loss: 0.7602 - gender_loss: 0.0332 - age_loss: 0.7270 - gender_sparse_categorical_accuracy: 0.9923 - age_sparse_categorical_accuracy: 0.6895 - val_loss: 0.8287 - val_gender_loss: 0.0659 - val_age_loss: 0.7628 - val_gender_sparse_categorical_accuracy: 0.9810 - val_age_sparse_categorical_accuracy: 0.6638\n",
      "Epoch 8/10\n",
      "2069/2069 [==============================] - 158s 76ms/step - loss: 0.7618 - gender_loss: 0.0346 - age_loss: 0.7272 - gender_sparse_categorical_accuracy: 0.9922 - age_sparse_categorical_accuracy: 0.6907 - val_loss: 0.8311 - val_gender_loss: 0.0665 - val_age_loss: 0.7646 - val_gender_sparse_categorical_accuracy: 0.9810 - val_age_sparse_categorical_accuracy: 0.6636\n",
      "Epoch 9/10\n",
      "2069/2069 [==============================] - 159s 77ms/step - loss: 0.7598 - gender_loss: 0.0340 - age_loss: 0.7258 - gender_sparse_categorical_accuracy: 0.9921 - age_sparse_categorical_accuracy: 0.6908 - val_loss: 0.8361 - val_gender_loss: 0.0742 - val_age_loss: 0.7619 - val_gender_sparse_categorical_accuracy: 0.9806 - val_age_sparse_categorical_accuracy: 0.6650\n",
      "Epoch 10/10\n",
      "2069/2069 [==============================] - 158s 76ms/step - loss: 0.7593 - gender_loss: 0.0341 - age_loss: 0.7252 - gender_sparse_categorical_accuracy: 0.9923 - age_sparse_categorical_accuracy: 0.6902 - val_loss: 0.8456 - val_gender_loss: 0.0810 - val_age_loss: 0.7646 - val_gender_sparse_categorical_accuracy: 0.9809 - val_age_sparse_categorical_accuracy: 0.6631\n"
     ]
    },
    {
     "output_type": "execute_result",
     "data": {
      "text/plain": [
       "<Response [200]>"
      ]
     },
     "metadata": {},
     "execution_count": 22
    }
   ],
   "metadata": {}
  },
  {
   "cell_type": "code",
   "execution_count": 23,
   "source": [
    "classifier.trainable = True\r\n",
    "classifier.summary()\r\n",
    "history = classifier.fit(train_iter, batch_size=batch_size, epochs=40, initial_epoch=10, validation_data=val_iter, callbacks=callbacks)"
   ],
   "outputs": [
    {
     "output_type": "stream",
     "name": "stdout",
     "text": [
      "Model: \"classifier\"\n",
      "__________________________________________________________________________________________________\n",
      "Layer (type)                    Output Shape         Param #     Connected to                     \n",
      "==================================================================================================\n",
      "input (InputLayer)              [(None, 112, 112, 3) 0                                            \n",
      "__________________________________________________________________________________________________\n",
      "encoder (Functional)            (None, 2048)         23564800    input[0][0]                      \n",
      "__________________________________________________________________________________________________\n",
      "dropout_gender (Dropout)        (None, 2048)         0           encoder[1][0]                    \n",
      "__________________________________________________________________________________________________\n",
      "dropout_age (Dropout)           (None, 2048)         0           encoder[1][0]                    \n",
      "__________________________________________________________________________________________________\n",
      "featuresgender (Dense)          (None, 512)          1049088     dropout_gender[0][0]             \n",
      "__________________________________________________________________________________________________\n",
      "featuresage (Dense)             (None, 512)          1049088     dropout_age[0][0]                \n",
      "__________________________________________________________________________________________________\n",
      "dropout2_gender (Dropout)       (None, 512)          0           featuresgender[0][0]             \n",
      "__________________________________________________________________________________________________\n",
      "dropout2_age (Dropout)          (None, 512)          0           featuresage[0][0]                \n",
      "__________________________________________________________________________________________________\n",
      "gender (Dense)                  (None, 2)            1026        dropout2_gender[0][0]            \n",
      "__________________________________________________________________________________________________\n",
      "age (Dense)                     (None, 7)            3591        dropout2_age[0][0]               \n",
      "==================================================================================================\n",
      "Total params: 25,667,593\n",
      "Trainable params: 25,622,153\n",
      "Non-trainable params: 45,440\n",
      "__________________________________________________________________________________________________\n",
      "Epoch 11/40\n",
      "2069/2069 [==============================] - 159s 77ms/step - loss: 0.7585 - gender_loss: 0.0333 - age_loss: 0.7252 - gender_sparse_categorical_accuracy: 0.9921 - age_sparse_categorical_accuracy: 0.6907 - val_loss: 0.8387 - val_gender_loss: 0.0753 - val_age_loss: 0.7634 - val_gender_sparse_categorical_accuracy: 0.9810 - val_age_sparse_categorical_accuracy: 0.6646\n",
      "Epoch 12/40\n",
      "2069/2069 [==============================] - 159s 77ms/step - loss: 0.7593 - gender_loss: 0.0337 - age_loss: 0.7257 - gender_sparse_categorical_accuracy: 0.9923 - age_sparse_categorical_accuracy: 0.6910 - val_loss: 0.8417 - val_gender_loss: 0.0771 - val_age_loss: 0.7646 - val_gender_sparse_categorical_accuracy: 0.9812 - val_age_sparse_categorical_accuracy: 0.6624\n",
      "Epoch 13/40\n",
      "2069/2069 [==============================] - 159s 77ms/step - loss: 0.7602 - gender_loss: 0.0337 - age_loss: 0.7264 - gender_sparse_categorical_accuracy: 0.9924 - age_sparse_categorical_accuracy: 0.6890 - val_loss: 0.8318 - val_gender_loss: 0.0698 - val_age_loss: 0.7620 - val_gender_sparse_categorical_accuracy: 0.9811 - val_age_sparse_categorical_accuracy: 0.6655\n",
      "Epoch 14/40\n",
      "2069/2069 [==============================] - 159s 77ms/step - loss: 0.7589 - gender_loss: 0.0337 - age_loss: 0.7252 - gender_sparse_categorical_accuracy: 0.9922 - age_sparse_categorical_accuracy: 0.6905 - val_loss: 0.8372 - val_gender_loss: 0.0799 - val_age_loss: 0.7573 - val_gender_sparse_categorical_accuracy: 0.9809 - val_age_sparse_categorical_accuracy: 0.6635\n",
      "Epoch 15/40\n",
      "2069/2069 [==============================] - 159s 77ms/step - loss: 0.7592 - gender_loss: 0.0340 - age_loss: 0.7252 - gender_sparse_categorical_accuracy: 0.9922 - age_sparse_categorical_accuracy: 0.6906 - val_loss: 0.8345 - val_gender_loss: 0.0755 - val_age_loss: 0.7590 - val_gender_sparse_categorical_accuracy: 0.9804 - val_age_sparse_categorical_accuracy: 0.6646\n",
      "Epoch 16/40\n",
      "2069/2069 [==============================] - 159s 77ms/step - loss: 0.7584 - gender_loss: 0.0335 - age_loss: 0.7249 - gender_sparse_categorical_accuracy: 0.9923 - age_sparse_categorical_accuracy: 0.6898 - val_loss: 0.8423 - val_gender_loss: 0.0775 - val_age_loss: 0.7648 - val_gender_sparse_categorical_accuracy: 0.9808 - val_age_sparse_categorical_accuracy: 0.6650\n",
      "Epoch 17/40\n",
      "2069/2069 [==============================] - 159s 77ms/step - loss: 0.7573 - gender_loss: 0.0337 - age_loss: 0.7236 - gender_sparse_categorical_accuracy: 0.9924 - age_sparse_categorical_accuracy: 0.6902 - val_loss: 0.8441 - val_gender_loss: 0.0795 - val_age_loss: 0.7646 - val_gender_sparse_categorical_accuracy: 0.9808 - val_age_sparse_categorical_accuracy: 0.6640\n",
      "Epoch 18/40\n",
      "2069/2069 [==============================] - 159s 77ms/step - loss: 0.7570 - gender_loss: 0.0331 - age_loss: 0.7239 - gender_sparse_categorical_accuracy: 0.9925 - age_sparse_categorical_accuracy: 0.6896 - val_loss: 0.8345 - val_gender_loss: 0.0714 - val_age_loss: 0.7631 - val_gender_sparse_categorical_accuracy: 0.9811 - val_age_sparse_categorical_accuracy: 0.6641\n",
      "Epoch 19/40\n",
      "2069/2069 [==============================] - 159s 77ms/step - loss: 0.7572 - gender_loss: 0.0334 - age_loss: 0.7238 - gender_sparse_categorical_accuracy: 0.9923 - age_sparse_categorical_accuracy: 0.6895 - val_loss: 0.8279 - val_gender_loss: 0.0699 - val_age_loss: 0.7580 - val_gender_sparse_categorical_accuracy: 0.9813 - val_age_sparse_categorical_accuracy: 0.6655\n",
      "Epoch 20/40\n",
      "2069/2069 [==============================] - 159s 77ms/step - loss: 0.7567 - gender_loss: 0.0331 - age_loss: 0.7236 - gender_sparse_categorical_accuracy: 0.9923 - age_sparse_categorical_accuracy: 0.6889 - val_loss: 0.8397 - val_gender_loss: 0.0721 - val_age_loss: 0.7675 - val_gender_sparse_categorical_accuracy: 0.9812 - val_age_sparse_categorical_accuracy: 0.6663\n",
      "Epoch 21/40\n",
      "2069/2069 [==============================] - 159s 77ms/step - loss: 0.7581 - gender_loss: 0.0335 - age_loss: 0.7245 - gender_sparse_categorical_accuracy: 0.9922 - age_sparse_categorical_accuracy: 0.6884 - val_loss: 0.8333 - val_gender_loss: 0.0744 - val_age_loss: 0.7588 - val_gender_sparse_categorical_accuracy: 0.9810 - val_age_sparse_categorical_accuracy: 0.6650\n",
      "Epoch 22/40\n",
      "2069/2069 [==============================] - 158s 77ms/step - loss: 0.7580 - gender_loss: 0.0333 - age_loss: 0.7246 - gender_sparse_categorical_accuracy: 0.9922 - age_sparse_categorical_accuracy: 0.6894 - val_loss: 0.8426 - val_gender_loss: 0.0777 - val_age_loss: 0.7649 - val_gender_sparse_categorical_accuracy: 0.9808 - val_age_sparse_categorical_accuracy: 0.6653\n",
      "Epoch 23/40\n",
      "2069/2069 [==============================] - 159s 77ms/step - loss: 0.7585 - gender_loss: 0.0340 - age_loss: 0.7246 - gender_sparse_categorical_accuracy: 0.9923 - age_sparse_categorical_accuracy: 0.6903 - val_loss: 0.8301 - val_gender_loss: 0.0658 - val_age_loss: 0.7643 - val_gender_sparse_categorical_accuracy: 0.9806 - val_age_sparse_categorical_accuracy: 0.6654\n",
      "Epoch 24/40\n",
      "2069/2069 [==============================] - 159s 77ms/step - loss: 0.7562 - gender_loss: 0.0333 - age_loss: 0.7229 - gender_sparse_categorical_accuracy: 0.9922 - age_sparse_categorical_accuracy: 0.6893 - val_loss: 0.8410 - val_gender_loss: 0.0776 - val_age_loss: 0.7634 - val_gender_sparse_categorical_accuracy: 0.9802 - val_age_sparse_categorical_accuracy: 0.6655\n",
      "Epoch 25/40\n",
      "2069/2069 [==============================] - 158s 76ms/step - loss: 0.7581 - gender_loss: 0.0333 - age_loss: 0.7249 - gender_sparse_categorical_accuracy: 0.9923 - age_sparse_categorical_accuracy: 0.6898 - val_loss: 0.8393 - val_gender_loss: 0.0738 - val_age_loss: 0.7655 - val_gender_sparse_categorical_accuracy: 0.9811 - val_age_sparse_categorical_accuracy: 0.6637\n",
      "Epoch 26/40\n"
     ]
    },
    {
     "output_type": "stream",
     "name": "stdout",
     "text": [
      "2069/2069 [==============================] - 158s 77ms/step - loss: 0.7562 - gender_loss: 0.0332 - age_loss: 0.7230 - gender_sparse_categorical_accuracy: 0.9923 - age_sparse_categorical_accuracy: 0.6904 - val_loss: 0.8442 - val_gender_loss: 0.0775 - val_age_loss: 0.7667 - val_gender_sparse_categorical_accuracy: 0.9806 - val_age_sparse_categorical_accuracy: 0.6638\n",
      "Epoch 27/40\n",
      "2069/2069 [==============================] - 158s 76ms/step - loss: 0.7579 - gender_loss: 0.0332 - age_loss: 0.7247 - gender_sparse_categorical_accuracy: 0.9922 - age_sparse_categorical_accuracy: 0.6885 - val_loss: 0.8383 - val_gender_loss: 0.0787 - val_age_loss: 0.7596 - val_gender_sparse_categorical_accuracy: 0.9810 - val_age_sparse_categorical_accuracy: 0.6650\n",
      "Epoch 28/40\n",
      "2069/2069 [==============================] - 159s 77ms/step - loss: 0.7567 - gender_loss: 0.0330 - age_loss: 0.7236 - gender_sparse_categorical_accuracy: 0.9923 - age_sparse_categorical_accuracy: 0.6886 - val_loss: 0.8501 - val_gender_loss: 0.0872 - val_age_loss: 0.7629 - val_gender_sparse_categorical_accuracy: 0.9810 - val_age_sparse_categorical_accuracy: 0.6615\n",
      "Epoch 29/40\n",
      "2069/2069 [==============================] - 159s 77ms/step - loss: 0.7575 - gender_loss: 0.0327 - age_loss: 0.7247 - gender_sparse_categorical_accuracy: 0.9923 - age_sparse_categorical_accuracy: 0.6891 - val_loss: 0.8437 - val_gender_loss: 0.0827 - val_age_loss: 0.7610 - val_gender_sparse_categorical_accuracy: 0.9811 - val_age_sparse_categorical_accuracy: 0.6630\n",
      "Epoch 30/40\n",
      "2069/2069 [==============================] - 159s 77ms/step - loss: 0.7571 - gender_loss: 0.0334 - age_loss: 0.7237 - gender_sparse_categorical_accuracy: 0.9922 - age_sparse_categorical_accuracy: 0.6882 - val_loss: 0.8277 - val_gender_loss: 0.0686 - val_age_loss: 0.7591 - val_gender_sparse_categorical_accuracy: 0.9806 - val_age_sparse_categorical_accuracy: 0.6663\n",
      "Epoch 31/40\n",
      "2069/2069 [==============================] - 159s 77ms/step - loss: 0.7571 - gender_loss: 0.0337 - age_loss: 0.7234 - gender_sparse_categorical_accuracy: 0.9923 - age_sparse_categorical_accuracy: 0.6896 - val_loss: 0.8338 - val_gender_loss: 0.0729 - val_age_loss: 0.7610 - val_gender_sparse_categorical_accuracy: 0.9810 - val_age_sparse_categorical_accuracy: 0.6663\n",
      "Epoch 32/40\n",
      "2069/2069 [==============================] - 159s 77ms/step - loss: 0.7578 - gender_loss: 0.0333 - age_loss: 0.7245 - gender_sparse_categorical_accuracy: 0.9924 - age_sparse_categorical_accuracy: 0.6898 - val_loss: 0.8413 - val_gender_loss: 0.0740 - val_age_loss: 0.7673 - val_gender_sparse_categorical_accuracy: 0.9805 - val_age_sparse_categorical_accuracy: 0.6634\n",
      "Epoch 33/40\n",
      "2069/2069 [==============================] - 158s 76ms/step - loss: 0.7582 - gender_loss: 0.0338 - age_loss: 0.7243 - gender_sparse_categorical_accuracy: 0.9924 - age_sparse_categorical_accuracy: 0.6885 - val_loss: 0.8443 - val_gender_loss: 0.0781 - val_age_loss: 0.7662 - val_gender_sparse_categorical_accuracy: 0.9808 - val_age_sparse_categorical_accuracy: 0.6662\n",
      "Epoch 34/40\n",
      "2069/2069 [==============================] - 159s 77ms/step - loss: 0.7572 - gender_loss: 0.0326 - age_loss: 0.7246 - gender_sparse_categorical_accuracy: 0.9922 - age_sparse_categorical_accuracy: 0.6896 - val_loss: 0.8465 - val_gender_loss: 0.0836 - val_age_loss: 0.7630 - val_gender_sparse_categorical_accuracy: 0.9810 - val_age_sparse_categorical_accuracy: 0.6634\n",
      "Epoch 35/40\n",
      "2069/2069 [==============================] - 158s 76ms/step - loss: 0.7576 - gender_loss: 0.0329 - age_loss: 0.7248 - gender_sparse_categorical_accuracy: 0.9923 - age_sparse_categorical_accuracy: 0.6873 - val_loss: 0.8304 - val_gender_loss: 0.0722 - val_age_loss: 0.7583 - val_gender_sparse_categorical_accuracy: 0.9815 - val_age_sparse_categorical_accuracy: 0.6640\n",
      "Epoch 36/40\n",
      "2069/2069 [==============================] - 159s 77ms/step - loss: 0.7584 - gender_loss: 0.0331 - age_loss: 0.7253 - gender_sparse_categorical_accuracy: 0.9924 - age_sparse_categorical_accuracy: 0.6883 - val_loss: 0.8414 - val_gender_loss: 0.0804 - val_age_loss: 0.7610 - val_gender_sparse_categorical_accuracy: 0.9809 - val_age_sparse_categorical_accuracy: 0.6661\n",
      "Epoch 37/40\n",
      "2069/2069 [==============================] - 158s 76ms/step - loss: 0.7568 - gender_loss: 0.0334 - age_loss: 0.7234 - gender_sparse_categorical_accuracy: 0.9922 - age_sparse_categorical_accuracy: 0.6888 - val_loss: 0.8320 - val_gender_loss: 0.0709 - val_age_loss: 0.7611 - val_gender_sparse_categorical_accuracy: 0.9810 - val_age_sparse_categorical_accuracy: 0.6651\n",
      "Epoch 38/40\n",
      "2069/2069 [==============================] - 159s 77ms/step - loss: 0.7571 - gender_loss: 0.0334 - age_loss: 0.7237 - gender_sparse_categorical_accuracy: 0.9923 - age_sparse_categorical_accuracy: 0.6881 - val_loss: 0.8373 - val_gender_loss: 0.0743 - val_age_loss: 0.7629 - val_gender_sparse_categorical_accuracy: 0.9809 - val_age_sparse_categorical_accuracy: 0.6651\n",
      "Epoch 39/40\n",
      "2069/2069 [==============================] - 159s 77ms/step - loss: 0.7575 - gender_loss: 0.0333 - age_loss: 0.7242 - gender_sparse_categorical_accuracy: 0.9923 - age_sparse_categorical_accuracy: 0.6884 - val_loss: 0.8348 - val_gender_loss: 0.0768 - val_age_loss: 0.7580 - val_gender_sparse_categorical_accuracy: 0.9805 - val_age_sparse_categorical_accuracy: 0.6637\n",
      "Epoch 40/40\n",
      "2069/2069 [==============================] - 160s 77ms/step - loss: 0.7573 - gender_loss: 0.0333 - age_loss: 0.7240 - gender_sparse_categorical_accuracy: 0.9923 - age_sparse_categorical_accuracy: 0.6888 - val_loss: 0.8401 - val_gender_loss: 0.0790 - val_age_loss: 0.7611 - val_gender_sparse_categorical_accuracy: 0.9809 - val_age_sparse_categorical_accuracy: 0.6637\n"
     ]
    },
    {
     "output_type": "execute_result",
     "data": {
      "text/plain": [
       "<Response [200]>"
      ]
     },
     "metadata": {},
     "execution_count": 23
    }
   ],
   "metadata": {}
  },
  {
   "cell_type": "code",
   "execution_count": 24,
   "source": [
    "classifier.save('./ckpt/{}-{}.h5'.format(script_name, 'last'))"
   ],
   "outputs": [],
   "metadata": {}
  },
  {
   "cell_type": "code",
   "execution_count": 25,
   "source": [
    "res = []\r\n",
    "names = ['Scratch-AFAD-Full-Age-R50-MultiOutput-{}.h5', 'SupCon-AFAD-Full-Age-R50-MultiOutput-{}.h5']\r\n",
    "for name in names:\r\n",
    "    for col in target_col + ['last']:\r\n",
    "        model_file = 'ckpt/' + name.format(col)\r\n",
    "        model = keras.models.load_model(model_file)\r\n",
    "        eval_res = model.evaluate(val_iter)\r\n",
    "        eval_res = [name.format(col)] + eval_res\r\n",
    "        res.append(eval_res)          \r\n",
    "df_res = pd.DataFrame(res, columns = ['name', 'total_loss', 'gender_loss', 'age_loss', 'gender_acc', 'age_acc'])\r\n",
    "df_res.to_csv('Compare - Scratch - SupCon - AFAD-Full.csv')"
   ],
   "outputs": [
    {
     "output_type": "stream",
     "name": "stdout",
     "text": [
      "518/518 [==============================] - 33s 62ms/step - loss: 0.8309 - gender_loss: 0.0693 - age_loss: 0.7616 - gender_sparse_categorical_accuracy: 0.9792 - age_sparse_categorical_accuracy: 0.6673\n",
      "518/518 [==============================] - 34s 62ms/step - loss: 0.8338 - gender_loss: 0.0776 - age_loss: 0.7561 - gender_sparse_categorical_accuracy: 0.9778 - age_sparse_categorical_accuracy: 0.6721\n",
      "518/518 [==============================] - 33s 62ms/step - loss: 0.8328 - gender_loss: 0.0763 - age_loss: 0.7565 - gender_sparse_categorical_accuracy: 0.9777 - age_sparse_categorical_accuracy: 0.6692\n",
      "518/518 [==============================] - 33s 63ms/step - loss: 0.8304 - gender_loss: 0.0722 - age_loss: 0.7583 - gender_sparse_categorical_accuracy: 0.9815 - age_sparse_categorical_accuracy: 0.6640\n",
      "518/518 [==============================] - 33s 61ms/step - loss: 0.8397 - gender_loss: 0.0721 - age_loss: 0.7675 - gender_sparse_categorical_accuracy: 0.9812 - age_sparse_categorical_accuracy: 0.6663\n",
      "WARNING:tensorflow:Error in loading the saved optimizer state. As a result, your model is starting with a freshly initialized optimizer.\n",
      "518/518 [==============================] - 33s 63ms/step - loss: 0.8401 - gender_loss: 0.0790 - age_loss: 0.7611 - gender_sparse_categorical_accuracy: 0.9809 - age_sparse_categorical_accuracy: 0.6637\n"
     ]
    }
   ],
   "metadata": {}
  }
 ],
 "metadata": {
  "kernelspec": {
   "display_name": "Python 3",
   "language": "python",
   "name": "python3"
  },
  "language_info": {
   "codemirror_mode": {
    "name": "ipython",
    "version": 3
   },
   "file_extension": ".py",
   "mimetype": "text/x-python",
   "name": "python",
   "nbconvert_exporter": "python",
   "pygments_lexer": "ipython3",
   "version": "3.6.9"
  }
 },
 "nbformat": 4,
 "nbformat_minor": 2
}