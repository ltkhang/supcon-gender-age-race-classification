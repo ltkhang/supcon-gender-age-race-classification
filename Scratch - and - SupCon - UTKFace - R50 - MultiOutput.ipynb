{
 "cells": [
  {
   "cell_type": "code",
   "execution_count": 1,
   "source": [
    "import tensorflow as tf\r\n",
    "import tensorflow_addons as tfa\r\n",
    "import numpy as np\r\n",
    "from tensorflow import keras\r\n",
    "from tensorflow.keras import layers\r\n",
    "\r\n",
    "import pickle as pkl\r\n",
    "import pandas as pd\r\n",
    "import os\r\n",
    "import requests as r\r\n",
    "from sklearn.metrics import accuracy_score\r\n",
    "import random\r\n",
    "\r\n",
    "np.random.seed(37)\r\n",
    "\r\n",
    "random.seed(1254)\r\n",
    "\r\n",
    "tf.random.set_seed(89)\r\n",
    "\r\n",
    "\r\n",
    "gpus = tf.config.list_physical_devices('GPU')\r\n",
    "if gpus:\r\n",
    "    try:\r\n",
    "        for gpu in gpus:\r\n",
    "            tf.config.experimental.set_memory_growth(gpu, True)\r\n",
    "    except RuntimeError as e:\r\n",
    "        print(e)\r\n",
    "\r\n",
    "script_name = 'Scratch-UTKFace-Age-R50-MultiOutput'\r\n",
    "\r\n"
   ],
   "outputs": [],
   "metadata": {}
  },
  {
   "cell_type": "code",
   "execution_count": 2,
   "source": [
    "def encode(data, mask):\r\n",
    "    labels = []\r\n",
    "    for item in data:\r\n",
    "        labels.append(mask[item])\r\n",
    "    return labels"
   ],
   "outputs": [],
   "metadata": {}
  },
  {
   "cell_type": "code",
   "execution_count": 3,
   "source": [
    "csv_target_train = 'UTKFace/train.csv'\r\n",
    "df_train = pd.read_csv(csv_target_train)\r\n",
    "df_train"
   ],
   "outputs": [
    {
     "output_type": "execute_result",
     "data": {
      "text/plain": [
       "       gender   race                                               file    age\n",
       "0        Male  Asian  UTKFace/images/5_0_2_20161219192745531.jpg.chi...    3-9\n",
       "1      Female  White  UTKFace/images/60_1_0_20170110122614299.jpg.ch...  50-59\n",
       "2        Male  Black  UTKFace/images/3_0_1_20170119145547519.jpg.chi...    0-2\n",
       "3        Male  Black  UTKFace/images/26_0_1_20170117172711486.jpg.ch...  20-29\n",
       "4      Female  White  UTKFace/images/24_1_0_20170117145637012.jpg.ch...  20-29\n",
       "...       ...    ...                                                ...    ...\n",
       "23700  Female  Black  UTKFace/images/46_1_1_20170113012755554.jpg.ch...  40-49\n",
       "23701  Female  Asian  UTKFace/images/24_1_2_20170116171604159.jpg.ch...  20-29\n",
       "23702    Male  White  UTKFace/images/40_0_0_20170117185304858.jpg.ch...  30-39\n",
       "23703  Female  Black  UTKFace/images/31_1_1_20170116224134208.jpg.ch...  30-39\n",
       "23704    Male  Black  UTKFace/images/26_0_1_20170116182128259.jpg.ch...  20-29\n",
       "\n",
       "[23705 rows x 4 columns]"
      ],
      "text/html": [
       "<div>\n",
       "<style scoped>\n",
       "    .dataframe tbody tr th:only-of-type {\n",
       "        vertical-align: middle;\n",
       "    }\n",
       "\n",
       "    .dataframe tbody tr th {\n",
       "        vertical-align: top;\n",
       "    }\n",
       "\n",
       "    .dataframe thead th {\n",
       "        text-align: right;\n",
       "    }\n",
       "</style>\n",
       "<table border=\"1\" class=\"dataframe\">\n",
       "  <thead>\n",
       "    <tr style=\"text-align: right;\">\n",
       "      <th></th>\n",
       "      <th>gender</th>\n",
       "      <th>race</th>\n",
       "      <th>file</th>\n",
       "      <th>age</th>\n",
       "    </tr>\n",
       "  </thead>\n",
       "  <tbody>\n",
       "    <tr>\n",
       "      <th>0</th>\n",
       "      <td>Male</td>\n",
       "      <td>Asian</td>\n",
       "      <td>UTKFace/images/5_0_2_20161219192745531.jpg.chi...</td>\n",
       "      <td>3-9</td>\n",
       "    </tr>\n",
       "    <tr>\n",
       "      <th>1</th>\n",
       "      <td>Female</td>\n",
       "      <td>White</td>\n",
       "      <td>UTKFace/images/60_1_0_20170110122614299.jpg.ch...</td>\n",
       "      <td>50-59</td>\n",
       "    </tr>\n",
       "    <tr>\n",
       "      <th>2</th>\n",
       "      <td>Male</td>\n",
       "      <td>Black</td>\n",
       "      <td>UTKFace/images/3_0_1_20170119145547519.jpg.chi...</td>\n",
       "      <td>0-2</td>\n",
       "    </tr>\n",
       "    <tr>\n",
       "      <th>3</th>\n",
       "      <td>Male</td>\n",
       "      <td>Black</td>\n",
       "      <td>UTKFace/images/26_0_1_20170117172711486.jpg.ch...</td>\n",
       "      <td>20-29</td>\n",
       "    </tr>\n",
       "    <tr>\n",
       "      <th>4</th>\n",
       "      <td>Female</td>\n",
       "      <td>White</td>\n",
       "      <td>UTKFace/images/24_1_0_20170117145637012.jpg.ch...</td>\n",
       "      <td>20-29</td>\n",
       "    </tr>\n",
       "    <tr>\n",
       "      <th>...</th>\n",
       "      <td>...</td>\n",
       "      <td>...</td>\n",
       "      <td>...</td>\n",
       "      <td>...</td>\n",
       "    </tr>\n",
       "    <tr>\n",
       "      <th>23700</th>\n",
       "      <td>Female</td>\n",
       "      <td>Black</td>\n",
       "      <td>UTKFace/images/46_1_1_20170113012755554.jpg.ch...</td>\n",
       "      <td>40-49</td>\n",
       "    </tr>\n",
       "    <tr>\n",
       "      <th>23701</th>\n",
       "      <td>Female</td>\n",
       "      <td>Asian</td>\n",
       "      <td>UTKFace/images/24_1_2_20170116171604159.jpg.ch...</td>\n",
       "      <td>20-29</td>\n",
       "    </tr>\n",
       "    <tr>\n",
       "      <th>23702</th>\n",
       "      <td>Male</td>\n",
       "      <td>White</td>\n",
       "      <td>UTKFace/images/40_0_0_20170117185304858.jpg.ch...</td>\n",
       "      <td>30-39</td>\n",
       "    </tr>\n",
       "    <tr>\n",
       "      <th>23703</th>\n",
       "      <td>Female</td>\n",
       "      <td>Black</td>\n",
       "      <td>UTKFace/images/31_1_1_20170116224134208.jpg.ch...</td>\n",
       "      <td>30-39</td>\n",
       "    </tr>\n",
       "    <tr>\n",
       "      <th>23704</th>\n",
       "      <td>Male</td>\n",
       "      <td>Black</td>\n",
       "      <td>UTKFace/images/26_0_1_20170116182128259.jpg.ch...</td>\n",
       "      <td>20-29</td>\n",
       "    </tr>\n",
       "  </tbody>\n",
       "</table>\n",
       "<p>23705 rows × 4 columns</p>\n",
       "</div>"
      ]
     },
     "metadata": {},
     "execution_count": 3
    }
   ],
   "metadata": {}
  },
  {
   "cell_type": "code",
   "execution_count": 4,
   "source": [
    "def label2dict(df):\n",
    "    values = df.unique()\n",
    "    d = {}\n",
    "    for idx, v in enumerate(values):\n",
    "        d[v] = idx\n",
    "    return d\n",
    "def apply_encode(map_dict, col, row):\n",
    "    return map_dict[row[col]]"
   ],
   "outputs": [],
   "metadata": {}
  },
  {
   "cell_type": "code",
   "execution_count": 5,
   "source": [
    "target_col = ['gender', 'race', 'age']\n",
    "num_classes = []\n",
    "for col in target_col:\n",
    "    num_classes.append(df_train[col].nunique())\n",
    "input_shape = (112, 112, 3)\n",
    "batch_size = 64\n",
    "learning_rate = 0.001\n",
    "hidden_units = 512\n",
    "projection_units = 128\n",
    "num_epochs = 50\n",
    "dropout_rate = 0.5\n",
    "temperature = 0.05\n",
    "validation_split = 0.2"
   ],
   "outputs": [],
   "metadata": {}
  },
  {
   "cell_type": "code",
   "execution_count": 6,
   "source": [
    "target_col_data = []\n",
    "for col in target_col:\n",
    "    col2 = col + '_sparse'\n",
    "    target_col_data.append(col2)\n",
    "    map_dict = label2dict(df_train[col])\n",
    "    df_train[col2] = df_train.apply(lambda row: apply_encode(map_dict, col, row), axis=1)"
   ],
   "outputs": [],
   "metadata": {}
  },
  {
   "cell_type": "code",
   "execution_count": 7,
   "source": [
    "x_col = 'file'\n",
    "y_col = target_col_data\n",
    "from tensorflow.keras.applications.resnet50 import preprocess_input\n",
    "train_generator = keras.preprocessing.image.ImageDataGenerator(\n",
    "    preprocessing_function=preprocess_input,\n",
    "    validation_split=validation_split\n",
    ")\n",
    "val_generator = keras.preprocessing.image.ImageDataGenerator(\n",
    "    preprocessing_function=preprocess_input\n",
    ")\n",
    "\n",
    "train_iter = train_generator.flow_from_dataframe(\n",
    "    df_train,\n",
    "    directory='./',\n",
    "    x_col=x_col,\n",
    "    y_col=y_col,\n",
    "    class_mode=\"multi_output\",\n",
    "    target_size=(input_shape[0], input_shape[1]),\n",
    "    batch_size=batch_size,\n",
    "    subset='training'\n",
    ")\n",
    "\n",
    "val_iter = train_generator.flow_from_dataframe(\n",
    "    df_train,\n",
    "    directory='./',\n",
    "    x_col=x_col,\n",
    "    y_col=y_col,\n",
    "    class_mode=\"multi_output\",\n",
    "    target_size=(input_shape[0], input_shape[1]),\n",
    "    batch_size=batch_size,\n",
    "    subset='validation'\n",
    ")"
   ],
   "outputs": [
    {
     "output_type": "stream",
     "name": "stdout",
     "text": [
      "Found 18964 validated image filenames.\n",
      "Found 4741 validated image filenames.\n"
     ]
    }
   ],
   "metadata": {}
  },
  {
   "cell_type": "code",
   "execution_count": 8,
   "source": [
    "data_augmentation = keras.Sequential(\n",
    "    [\n",
    "        layers.experimental.preprocessing.RandomFlip(\"horizontal\"),\n",
    "        layers.experimental.preprocessing.RandomRotation(0.02),\n",
    "        layers.experimental.preprocessing.RandomWidth(0.2),\n",
    "        layers.experimental.preprocessing.RandomHeight(0.2),\n",
    "    ]\n",
    ")"
   ],
   "outputs": [],
   "metadata": {}
  },
  {
   "cell_type": "code",
   "execution_count": 9,
   "source": [
    "callbacks = []\n",
    "for col in target_col:\n",
    "    model_checkpoint_callback = tf.keras.callbacks.ModelCheckpoint(\n",
    "        filepath='./ckpt/{}-{}.h5'.format(script_name, col),\n",
    "        monitor='val_{}_sparse_categorical_accuracy'.format(col),\n",
    "        mode='max',\n",
    "        save_best_only=True)\n",
    "    callbacks.append(model_checkpoint_callback)"
   ],
   "outputs": [],
   "metadata": {}
  },
  {
   "cell_type": "code",
   "execution_count": 10,
   "source": [
    "def create_encoder():\n",
    "    resnet = keras.applications.ResNet50V2(\n",
    "        include_top=False, weights=None, input_shape=input_shape, pooling=\"avg\"\n",
    "    )\n",
    "\n",
    "    inputs = keras.Input(shape=input_shape)\n",
    "    augmented = data_augmentation(inputs)\n",
    "    outputs = resnet(augmented)\n",
    "    model = keras.Model(inputs=inputs, outputs=outputs, name=\"utkface-encoder\")\n",
    "    return model\n",
    "\n",
    "\n",
    "encoder = create_encoder()\n",
    "encoder.summary()"
   ],
   "outputs": [
    {
     "output_type": "stream",
     "name": "stdout",
     "text": [
      "Model: \"utkface-encoder\"\n",
      "_________________________________________________________________\n",
      "Layer (type)                 Output Shape              Param #   \n",
      "=================================================================\n",
      "input_2 (InputLayer)         [(None, 112, 112, 3)]     0         \n",
      "_________________________________________________________________\n",
      "sequential (Sequential)      (None, None, None, 3)     0         \n",
      "_________________________________________________________________\n",
      "resnet50v2 (Functional)      (None, 2048)              23564800  \n",
      "=================================================================\n",
      "Total params: 23,564,800\n",
      "Trainable params: 23,519,360\n",
      "Non-trainable params: 45,440\n",
      "_________________________________________________________________\n"
     ]
    }
   ],
   "metadata": {}
  },
  {
   "cell_type": "code",
   "execution_count": 11,
   "source": [
    "def create_classifier(encoder, trainable=True, training=True):\r\n",
    "\r\n",
    "    encoder.trainable = trainable\r\n",
    "\r\n",
    "    inputs = keras.Input(shape=input_shape, name=\"input\")\r\n",
    "    features = encoder(inputs, training=training)\r\n",
    "    outputs = []\r\n",
    "    for idx, num_class in enumerate(num_classes):\r\n",
    "        _features = layers.Dropout(dropout_rate, name=\"dropout_\" + target_col[idx])(features)\r\n",
    "        _features = layers.Dense(hidden_units, activation=\"relu\", name = \"features\"+ target_col[idx])(_features)\r\n",
    "        _features = layers.Dropout(dropout_rate, name=\"dropout2_\" + target_col[idx])(_features)\r\n",
    "        outputs.append(layers.Dense(num_class, activation=\"softmax\", name=target_col[idx])(_features))\r\n",
    "\r\n",
    "    model = keras.Model(inputs=inputs, outputs=outputs, name=\"utkface-classifier\")\r\n",
    "    metrics = {}\r\n",
    "    loss = []\r\n",
    "    for col in target_col:\r\n",
    "        metrics[col] = keras.metrics.SparseCategoricalAccuracy()\r\n",
    "        loss.append(keras.losses.SparseCategoricalCrossentropy())\r\n",
    "    model.compile(\r\n",
    "        optimizer=keras.optimizers.Adam(learning_rate),\r\n",
    "        loss=loss,\r\n",
    "        metrics=metrics\r\n",
    "    )\r\n",
    "    return model"
   ],
   "outputs": [],
   "metadata": {}
  },
  {
   "cell_type": "code",
   "execution_count": 12,
   "source": [
    "encoder = create_encoder()\r\n",
    "classifier = create_classifier(encoder)\r\n",
    "classifier.summary()"
   ],
   "outputs": [
    {
     "output_type": "stream",
     "name": "stdout",
     "text": [
      "Model: \"utkface-classifier\"\n",
      "__________________________________________________________________________________________________\n",
      "Layer (type)                    Output Shape         Param #     Connected to                     \n",
      "==================================================================================================\n",
      "input (InputLayer)              [(None, 112, 112, 3) 0                                            \n",
      "__________________________________________________________________________________________________\n",
      "utkface-encoder (Functional)    (None, 2048)         23564800    input[0][0]                      \n",
      "__________________________________________________________________________________________________\n",
      "dropout_gender (Dropout)        (None, 2048)         0           utkface-encoder[0][0]            \n",
      "__________________________________________________________________________________________________\n",
      "dropout_race (Dropout)          (None, 2048)         0           utkface-encoder[0][0]            \n",
      "__________________________________________________________________________________________________\n",
      "dropout_age (Dropout)           (None, 2048)         0           utkface-encoder[0][0]            \n",
      "__________________________________________________________________________________________________\n",
      "featuresgender (Dense)          (None, 512)          1049088     dropout_gender[0][0]             \n",
      "__________________________________________________________________________________________________\n",
      "featuresrace (Dense)            (None, 512)          1049088     dropout_race[0][0]               \n",
      "__________________________________________________________________________________________________\n",
      "featuresage (Dense)             (None, 512)          1049088     dropout_age[0][0]                \n",
      "__________________________________________________________________________________________________\n",
      "dropout2_gender (Dropout)       (None, 512)          0           featuresgender[0][0]             \n",
      "__________________________________________________________________________________________________\n",
      "dropout2_race (Dropout)         (None, 512)          0           featuresrace[0][0]               \n",
      "__________________________________________________________________________________________________\n",
      "dropout2_age (Dropout)          (None, 512)          0           featuresage[0][0]                \n",
      "__________________________________________________________________________________________________\n",
      "gender (Dense)                  (None, 2)            1026        dropout2_gender[0][0]            \n",
      "__________________________________________________________________________________________________\n",
      "race (Dense)                    (None, 5)            2565        dropout2_race[0][0]              \n",
      "__________________________________________________________________________________________________\n",
      "age (Dense)                     (None, 9)            4617        dropout2_age[0][0]               \n",
      "==================================================================================================\n",
      "Total params: 26,720,272\n",
      "Trainable params: 26,674,832\n",
      "Non-trainable params: 45,440\n",
      "__________________________________________________________________________________________________\n"
     ]
    }
   ],
   "metadata": {}
  },
  {
   "cell_type": "code",
   "execution_count": 13,
   "source": [
    "keras.utils.plot_model(classifier)"
   ],
   "outputs": [
    {
     "output_type": "execute_result",
     "data": {
      "text/plain": [
       "<IPython.core.display.Image object>"
      ],
      "image/png": "[encoded data removed]"
     },
     "metadata": {},
     "execution_count": 13
    }
   ],
   "metadata": {}
  },
  {
   "cell_type": "code",
   "execution_count": 14,
   "source": [
    "history = classifier.fit(train_iter, batch_size=batch_size, epochs=num_epochs, validation_data=val_iter, callbacks=callbacks)\r\n"
   ],
   "outputs": [
    {
     "output_type": "stream",
     "name": "stdout",
     "text": [
      "Epoch 1/50\n",
      "297/297 [==============================] - 60s 177ms/step - loss: 3.9384 - gender_loss: 0.6578 - race_loss: 1.3808 - age_loss: 1.8998 - gender_sparse_categorical_accuracy: 0.6479 - race_sparse_categorical_accuracy: 0.4791 - age_sparse_categorical_accuracy: 0.3452 - val_loss: 3.2916 - val_gender_loss: 0.4981 - val_race_loss: 1.1679 - val_age_loss: 1.6257 - val_gender_sparse_categorical_accuracy: 0.7454 - val_race_sparse_categorical_accuracy: 0.5427 - val_age_sparse_categorical_accuracy: 0.4022\n"
     ]
    },
    {
     "output_type": "stream",
     "name": "stderr",
     "text": [
      "/usr/local/lib/python3.6/dist-packages/tensorflow/python/keras/utils/generic_utils.py:497: CustomMaskWarning: Custom mask layers require a config and must override get_config. When loading, the custom mask layer must be passed to the custom_objects argument.\n",
      "  category=CustomMaskWarning)\n"
     ]
    },
    {
     "output_type": "stream",
     "name": "stdout",
     "text": [
      "Epoch 2/50\n",
      "297/297 [==============================] - 32s 108ms/step - loss: 3.2735 - gender_loss: 0.4794 - race_loss: 1.1762 - age_loss: 1.6180 - gender_sparse_categorical_accuracy: 0.7704 - race_sparse_categorical_accuracy: 0.5510 - age_sparse_categorical_accuracy: 0.4046 - val_loss: 3.0594 - val_gender_loss: 0.4530 - val_race_loss: 1.1015 - val_age_loss: 1.5048 - val_gender_sparse_categorical_accuracy: 0.7830 - val_race_sparse_categorical_accuracy: 0.5792 - val_age_sparse_categorical_accuracy: 0.4278\n",
      "Epoch 3/50\n",
      "297/297 [==============================] - 29s 99ms/step - loss: 2.9439 - gender_loss: 0.4029 - race_loss: 1.0464 - age_loss: 1.4946 - gender_sparse_categorical_accuracy: 0.8141 - race_sparse_categorical_accuracy: 0.6096 - age_sparse_categorical_accuracy: 0.4356 - val_loss: 2.7595 - val_gender_loss: 0.3730 - val_race_loss: 0.9601 - val_age_loss: 1.4265 - val_gender_sparse_categorical_accuracy: 0.8285 - val_race_sparse_categorical_accuracy: 0.6355 - val_age_sparse_categorical_accuracy: 0.4501\n",
      "Epoch 4/50\n",
      "297/297 [==============================] - 29s 98ms/step - loss: 2.7493 - gender_loss: 0.3652 - race_loss: 0.9476 - age_loss: 1.4364 - gender_sparse_categorical_accuracy: 0.8350 - race_sparse_categorical_accuracy: 0.6578 - age_sparse_categorical_accuracy: 0.4513 - val_loss: 2.5320 - val_gender_loss: 0.3502 - val_race_loss: 0.8348 - val_age_loss: 1.3471 - val_gender_sparse_categorical_accuracy: 0.8376 - val_race_sparse_categorical_accuracy: 0.6969 - val_age_sparse_categorical_accuracy: 0.4773\n",
      "Epoch 5/50\n",
      "297/297 [==============================] - 29s 96ms/step - loss: 2.5612 - gender_loss: 0.3306 - race_loss: 0.8576 - age_loss: 1.3730 - gender_sparse_categorical_accuracy: 0.8531 - race_sparse_categorical_accuracy: 0.6979 - age_sparse_categorical_accuracy: 0.4688 - val_loss: 2.3933 - val_gender_loss: 0.3159 - val_race_loss: 0.7842 - val_age_loss: 1.2933 - val_gender_sparse_categorical_accuracy: 0.8561 - val_race_sparse_categorical_accuracy: 0.7182 - val_age_sparse_categorical_accuracy: 0.4820\n",
      "Epoch 6/50\n",
      "297/297 [==============================] - 28s 95ms/step - loss: 2.4419 - gender_loss: 0.3055 - race_loss: 0.8165 - age_loss: 1.3199 - gender_sparse_categorical_accuracy: 0.8652 - race_sparse_categorical_accuracy: 0.7121 - age_sparse_categorical_accuracy: 0.4851 - val_loss: 2.2722 - val_gender_loss: 0.2967 - val_race_loss: 0.7480 - val_age_loss: 1.2276 - val_gender_sparse_categorical_accuracy: 0.8675 - val_race_sparse_categorical_accuracy: 0.7283 - val_age_sparse_categorical_accuracy: 0.5113\n",
      "Epoch 7/50\n",
      "297/297 [==============================] - 28s 94ms/step - loss: 2.3285 - gender_loss: 0.2861 - race_loss: 0.7701 - age_loss: 1.2723 - gender_sparse_categorical_accuracy: 0.8742 - race_sparse_categorical_accuracy: 0.7329 - age_sparse_categorical_accuracy: 0.4992 - val_loss: 2.2531 - val_gender_loss: 0.2817 - val_race_loss: 0.7492 - val_age_loss: 1.2221 - val_gender_sparse_categorical_accuracy: 0.8737 - val_race_sparse_categorical_accuracy: 0.7321 - val_age_sparse_categorical_accuracy: 0.5121\n",
      "Epoch 8/50\n",
      "297/297 [==============================] - 27s 91ms/step - loss: 2.2642 - gender_loss: 0.2792 - race_loss: 0.7408 - age_loss: 1.2443 - gender_sparse_categorical_accuracy: 0.8773 - race_sparse_categorical_accuracy: 0.7436 - age_sparse_categorical_accuracy: 0.5021 - val_loss: 2.1704 - val_gender_loss: 0.2895 - val_race_loss: 0.7155 - val_age_loss: 1.1654 - val_gender_sparse_categorical_accuracy: 0.8696 - val_race_sparse_categorical_accuracy: 0.7460 - val_age_sparse_categorical_accuracy: 0.5288\n",
      "Epoch 9/50\n",
      "297/297 [==============================] - 27s 91ms/step - loss: 2.1977 - gender_loss: 0.2702 - race_loss: 0.7131 - age_loss: 1.2144 - gender_sparse_categorical_accuracy: 0.8823 - race_sparse_categorical_accuracy: 0.7536 - age_sparse_categorical_accuracy: 0.5130 - val_loss: 2.0948 - val_gender_loss: 0.2666 - val_race_loss: 0.6780 - val_age_loss: 1.1502 - val_gender_sparse_categorical_accuracy: 0.8789 - val_race_sparse_categorical_accuracy: 0.7636 - val_age_sparse_categorical_accuracy: 0.5328\n",
      "Epoch 10/50\n",
      "297/297 [==============================] - 27s 90ms/step - loss: 2.1438 - gender_loss: 0.2566 - race_loss: 0.6965 - age_loss: 1.1907 - gender_sparse_categorical_accuracy: 0.8886 - race_sparse_categorical_accuracy: 0.7590 - age_sparse_categorical_accuracy: 0.5233 - val_loss: 2.0691 - val_gender_loss: 0.2637 - val_race_loss: 0.6566 - val_age_loss: 1.1487 - val_gender_sparse_categorical_accuracy: 0.8850 - val_race_sparse_categorical_accuracy: 0.7695 - val_age_sparse_categorical_accuracy: 0.5417\n",
      "Epoch 11/50\n",
      "297/297 [==============================] - 27s 90ms/step - loss: 2.1252 - gender_loss: 0.2582 - race_loss: 0.6814 - age_loss: 1.1856 - gender_sparse_categorical_accuracy: 0.8882 - race_sparse_categorical_accuracy: 0.7673 - age_sparse_categorical_accuracy: 0.5229 - val_loss: 2.1094 - val_gender_loss: 0.2683 - val_race_loss: 0.6615 - val_age_loss: 1.1796 - val_gender_sparse_categorical_accuracy: 0.8874 - val_race_sparse_categorical_accuracy: 0.7673 - val_age_sparse_categorical_accuracy: 0.5330\n",
      "Epoch 12/50\n",
      "297/297 [==============================] - 27s 90ms/step - loss: 2.0907 - gender_loss: 0.2481 - race_loss: 0.6708 - age_loss: 1.1718 - gender_sparse_categorical_accuracy: 0.8937 - race_sparse_categorical_accuracy: 0.7694 - age_sparse_categorical_accuracy: 0.5312 - val_loss: 2.0348 - val_gender_loss: 0.2602 - val_race_loss: 0.6445 - val_age_loss: 1.1302 - val_gender_sparse_categorical_accuracy: 0.8903 - val_race_sparse_categorical_accuracy: 0.7733 - val_age_sparse_categorical_accuracy: 0.5412\n",
      "Epoch 13/50\n",
      "297/297 [==============================] - 27s 89ms/step - loss: 2.0357 - gender_loss: 0.2378 - race_loss: 0.6511 - age_loss: 1.1467 - gender_sparse_categorical_accuracy: 0.8959 - race_sparse_categorical_accuracy: 0.7769 - age_sparse_categorical_accuracy: 0.5359 - val_loss: 2.0168 - val_gender_loss: 0.2528 - val_race_loss: 0.6254 - val_age_loss: 1.1386 - val_gender_sparse_categorical_accuracy: 0.8935 - val_race_sparse_categorical_accuracy: 0.7836 - val_age_sparse_categorical_accuracy: 0.5412\n",
      "Epoch 14/50\n",
      "297/297 [==============================] - 26s 89ms/step - loss: 1.9804 - gender_loss: 0.2321 - race_loss: 0.6255 - age_loss: 1.1229 - gender_sparse_categorical_accuracy: 0.9015 - race_sparse_categorical_accuracy: 0.7892 - age_sparse_categorical_accuracy: 0.5457 - val_loss: 1.9973 - val_gender_loss: 0.2539 - val_race_loss: 0.6375 - val_age_loss: 1.1058 - val_gender_sparse_categorical_accuracy: 0.8848 - val_race_sparse_categorical_accuracy: 0.7739 - val_age_sparse_categorical_accuracy: 0.5452\n",
      "Epoch 15/50\n",
      "297/297 [==============================] - 26s 89ms/step - loss: 1.9920 - gender_loss: 0.2320 - race_loss: 0.6355 - age_loss: 1.1245 - gender_sparse_categorical_accuracy: 0.8996 - race_sparse_categorical_accuracy: 0.7861 - age_sparse_categorical_accuracy: 0.5406 - val_loss: 1.9575 - val_gender_loss: 0.2510 - val_race_loss: 0.6050 - val_age_loss: 1.1015 - val_gender_sparse_categorical_accuracy: 0.8945 - val_race_sparse_categorical_accuracy: 0.7918 - val_age_sparse_categorical_accuracy: 0.5533\n",
      "Epoch 16/50\n",
      "297/297 [==============================] - 26s 89ms/step - loss: 1.9380 - gender_loss: 0.2258 - race_loss: 0.6085 - age_loss: 1.1036 - gender_sparse_categorical_accuracy: 0.9015 - race_sparse_categorical_accuracy: 0.7912 - age_sparse_categorical_accuracy: 0.5481 - val_loss: 1.9387 - val_gender_loss: 0.2348 - val_race_loss: 0.6247 - val_age_loss: 1.0791 - val_gender_sparse_categorical_accuracy: 0.9011 - val_race_sparse_categorical_accuracy: 0.7893 - val_age_sparse_categorical_accuracy: 0.5556\n",
      "Epoch 17/50\n",
      "297/297 [==============================] - 27s 89ms/step - loss: 1.9182 - gender_loss: 0.2206 - race_loss: 0.6056 - age_loss: 1.0920 - gender_sparse_categorical_accuracy: 0.9076 - race_sparse_categorical_accuracy: 0.7948 - age_sparse_categorical_accuracy: 0.5571 - val_loss: 1.8952 - val_gender_loss: 0.2365 - val_race_loss: 0.5801 - val_age_loss: 1.0786 - val_gender_sparse_categorical_accuracy: 0.9009 - val_race_sparse_categorical_accuracy: 0.7996 - val_age_sparse_categorical_accuracy: 0.5530\n",
      "Epoch 18/50\n"
     ]
    },
    {
     "output_type": "stream",
     "name": "stdout",
     "text": [
      "297/297 [==============================] - 26s 88ms/step - loss: 1.8862 - gender_loss: 0.2152 - race_loss: 0.5889 - age_loss: 1.0821 - gender_sparse_categorical_accuracy: 0.9091 - race_sparse_categorical_accuracy: 0.8014 - age_sparse_categorical_accuracy: 0.5567 - val_loss: 1.9282 - val_gender_loss: 0.2362 - val_race_loss: 0.6118 - val_age_loss: 1.0802 - val_gender_sparse_categorical_accuracy: 0.8983 - val_race_sparse_categorical_accuracy: 0.7908 - val_age_sparse_categorical_accuracy: 0.5678\n",
      "Epoch 19/50\n",
      "297/297 [==============================] - 26s 88ms/step - loss: 1.8683 - gender_loss: 0.2145 - race_loss: 0.5807 - age_loss: 1.0731 - gender_sparse_categorical_accuracy: 0.9091 - race_sparse_categorical_accuracy: 0.8029 - age_sparse_categorical_accuracy: 0.5627 - val_loss: 1.9206 - val_gender_loss: 0.2556 - val_race_loss: 0.5903 - val_age_loss: 1.0747 - val_gender_sparse_categorical_accuracy: 0.8897 - val_race_sparse_categorical_accuracy: 0.7986 - val_age_sparse_categorical_accuracy: 0.5636\n",
      "Epoch 20/50\n",
      "297/297 [==============================] - 27s 90ms/step - loss: 1.8452 - gender_loss: 0.2074 - race_loss: 0.5718 - age_loss: 1.0660 - gender_sparse_categorical_accuracy: 0.9116 - race_sparse_categorical_accuracy: 0.8065 - age_sparse_categorical_accuracy: 0.5615 - val_loss: 1.8828 - val_gender_loss: 0.2337 - val_race_loss: 0.5848 - val_age_loss: 1.0642 - val_gender_sparse_categorical_accuracy: 0.9013 - val_race_sparse_categorical_accuracy: 0.7973 - val_age_sparse_categorical_accuracy: 0.5680\n",
      "Epoch 21/50\n",
      "297/297 [==============================] - 26s 87ms/step - loss: 1.8216 - gender_loss: 0.2030 - race_loss: 0.5675 - age_loss: 1.0511 - gender_sparse_categorical_accuracy: 0.9157 - race_sparse_categorical_accuracy: 0.8075 - age_sparse_categorical_accuracy: 0.5689 - val_loss: 1.8756 - val_gender_loss: 0.2365 - val_race_loss: 0.5755 - val_age_loss: 1.0637 - val_gender_sparse_categorical_accuracy: 0.9023 - val_race_sparse_categorical_accuracy: 0.8036 - val_age_sparse_categorical_accuracy: 0.5632\n",
      "Epoch 22/50\n",
      "297/297 [==============================] - 26s 88ms/step - loss: 1.8265 - gender_loss: 0.2040 - race_loss: 0.5671 - age_loss: 1.0554 - gender_sparse_categorical_accuracy: 0.9139 - race_sparse_categorical_accuracy: 0.8103 - age_sparse_categorical_accuracy: 0.5701 - val_loss: 1.8749 - val_gender_loss: 0.2492 - val_race_loss: 0.5756 - val_age_loss: 1.0501 - val_gender_sparse_categorical_accuracy: 0.8933 - val_race_sparse_categorical_accuracy: 0.8072 - val_age_sparse_categorical_accuracy: 0.5744\n",
      "Epoch 23/50\n",
      "297/297 [==============================] - 26s 88ms/step - loss: 1.7992 - gender_loss: 0.2031 - race_loss: 0.5517 - age_loss: 1.0444 - gender_sparse_categorical_accuracy: 0.9161 - race_sparse_categorical_accuracy: 0.8141 - age_sparse_categorical_accuracy: 0.5730 - val_loss: 1.8161 - val_gender_loss: 0.2359 - val_race_loss: 0.5521 - val_age_loss: 1.0281 - val_gender_sparse_categorical_accuracy: 0.8931 - val_race_sparse_categorical_accuracy: 0.8083 - val_age_sparse_categorical_accuracy: 0.5824\n",
      "Epoch 24/50\n",
      "297/297 [==============================] - 26s 87ms/step - loss: 1.7587 - gender_loss: 0.1955 - race_loss: 0.5357 - age_loss: 1.0275 - gender_sparse_categorical_accuracy: 0.9195 - race_sparse_categorical_accuracy: 0.8181 - age_sparse_categorical_accuracy: 0.5812 - val_loss: 1.8039 - val_gender_loss: 0.2284 - val_race_loss: 0.5504 - val_age_loss: 1.0251 - val_gender_sparse_categorical_accuracy: 0.9072 - val_race_sparse_categorical_accuracy: 0.8074 - val_age_sparse_categorical_accuracy: 0.5824\n",
      "Epoch 25/50\n",
      "297/297 [==============================] - 26s 88ms/step - loss: 1.7333 - gender_loss: 0.1961 - race_loss: 0.5224 - age_loss: 1.0148 - gender_sparse_categorical_accuracy: 0.9181 - race_sparse_categorical_accuracy: 0.8226 - age_sparse_categorical_accuracy: 0.5844 - val_loss: 1.8005 - val_gender_loss: 0.2262 - val_race_loss: 0.5532 - val_age_loss: 1.0211 - val_gender_sparse_categorical_accuracy: 0.9078 - val_race_sparse_categorical_accuracy: 0.8116 - val_age_sparse_categorical_accuracy: 0.5828\n",
      "Epoch 26/50\n",
      "297/297 [==============================] - 26s 86ms/step - loss: 1.7140 - gender_loss: 0.1886 - race_loss: 0.5135 - age_loss: 1.0119 - gender_sparse_categorical_accuracy: 0.9222 - race_sparse_categorical_accuracy: 0.8237 - age_sparse_categorical_accuracy: 0.5864 - val_loss: 1.8157 - val_gender_loss: 0.2297 - val_race_loss: 0.5634 - val_age_loss: 1.0226 - val_gender_sparse_categorical_accuracy: 0.9055 - val_race_sparse_categorical_accuracy: 0.8038 - val_age_sparse_categorical_accuracy: 0.5860\n",
      "Epoch 27/50\n",
      "297/297 [==============================] - 26s 88ms/step - loss: 1.7109 - gender_loss: 0.1879 - race_loss: 0.5191 - age_loss: 1.0038 - gender_sparse_categorical_accuracy: 0.9220 - race_sparse_categorical_accuracy: 0.8223 - age_sparse_categorical_accuracy: 0.5880 - val_loss: 1.8275 - val_gender_loss: 0.2368 - val_race_loss: 0.5650 - val_age_loss: 1.0256 - val_gender_sparse_categorical_accuracy: 0.9059 - val_race_sparse_categorical_accuracy: 0.8066 - val_age_sparse_categorical_accuracy: 0.5773\n",
      "Epoch 28/50\n",
      "297/297 [==============================] - 26s 87ms/step - loss: 1.6914 - gender_loss: 0.1836 - race_loss: 0.5083 - age_loss: 0.9995 - gender_sparse_categorical_accuracy: 0.9245 - race_sparse_categorical_accuracy: 0.8281 - age_sparse_categorical_accuracy: 0.5904 - val_loss: 1.7637 - val_gender_loss: 0.2159 - val_race_loss: 0.5476 - val_age_loss: 1.0002 - val_gender_sparse_categorical_accuracy: 0.9095 - val_race_sparse_categorical_accuracy: 0.8144 - val_age_sparse_categorical_accuracy: 0.5965\n",
      "Epoch 29/50\n",
      "297/297 [==============================] - 25s 86ms/step - loss: 1.6458 - gender_loss: 0.1771 - race_loss: 0.4936 - age_loss: 0.9752 - gender_sparse_categorical_accuracy: 0.9265 - race_sparse_categorical_accuracy: 0.8342 - age_sparse_categorical_accuracy: 0.5947 - val_loss: 1.7597 - val_gender_loss: 0.2033 - val_race_loss: 0.5489 - val_age_loss: 1.0075 - val_gender_sparse_categorical_accuracy: 0.9175 - val_race_sparse_categorical_accuracy: 0.8184 - val_age_sparse_categorical_accuracy: 0.5914\n",
      "Epoch 30/50\n",
      "297/297 [==============================] - 26s 87ms/step - loss: 1.6776 - gender_loss: 0.1857 - race_loss: 0.5019 - age_loss: 0.9901 - gender_sparse_categorical_accuracy: 0.9236 - race_sparse_categorical_accuracy: 0.8303 - age_sparse_categorical_accuracy: 0.5931 - val_loss: 1.8230 - val_gender_loss: 0.2137 - val_race_loss: 0.5729 - val_age_loss: 1.0364 - val_gender_sparse_categorical_accuracy: 0.9093 - val_race_sparse_categorical_accuracy: 0.8095 - val_age_sparse_categorical_accuracy: 0.5822\n",
      "Epoch 31/50\n",
      "297/297 [==============================] - 26s 88ms/step - loss: 1.6273 - gender_loss: 0.1750 - race_loss: 0.4846 - age_loss: 0.9677 - gender_sparse_categorical_accuracy: 0.9303 - race_sparse_categorical_accuracy: 0.8362 - age_sparse_categorical_accuracy: 0.5995 - val_loss: 1.7428 - val_gender_loss: 0.2118 - val_race_loss: 0.5265 - val_age_loss: 1.0044 - val_gender_sparse_categorical_accuracy: 0.9137 - val_race_sparse_categorical_accuracy: 0.8222 - val_age_sparse_categorical_accuracy: 0.5862\n",
      "Epoch 32/50\n",
      "297/297 [==============================] - 26s 87ms/step - loss: 1.6123 - gender_loss: 0.1764 - race_loss: 0.4716 - age_loss: 0.9642 - gender_sparse_categorical_accuracy: 0.9291 - race_sparse_categorical_accuracy: 0.8406 - age_sparse_categorical_accuracy: 0.6046 - val_loss: 1.7631 - val_gender_loss: 0.2072 - val_race_loss: 0.5474 - val_age_loss: 1.0086 - val_gender_sparse_categorical_accuracy: 0.9179 - val_race_sparse_categorical_accuracy: 0.8241 - val_age_sparse_categorical_accuracy: 0.5908\n",
      "Epoch 33/50\n",
      "297/297 [==============================] - 26s 86ms/step - loss: 1.5703 - gender_loss: 0.1687 - race_loss: 0.4557 - age_loss: 0.9459 - gender_sparse_categorical_accuracy: 0.9300 - race_sparse_categorical_accuracy: 0.8455 - age_sparse_categorical_accuracy: 0.6070 - val_loss: 1.7643 - val_gender_loss: 0.2298 - val_race_loss: 0.5386 - val_age_loss: 0.9959 - val_gender_sparse_categorical_accuracy: 0.9131 - val_race_sparse_categorical_accuracy: 0.8291 - val_age_sparse_categorical_accuracy: 0.5927\n",
      "Epoch 34/50\n"
     ]
    },
    {
     "output_type": "stream",
     "name": "stdout",
     "text": [
      "297/297 [==============================] - 26s 86ms/step - loss: 1.5728 - gender_loss: 0.1724 - race_loss: 0.4561 - age_loss: 0.9443 - gender_sparse_categorical_accuracy: 0.9304 - race_sparse_categorical_accuracy: 0.8477 - age_sparse_categorical_accuracy: 0.6049 - val_loss: 1.7547 - val_gender_loss: 0.2217 - val_race_loss: 0.5455 - val_age_loss: 0.9875 - val_gender_sparse_categorical_accuracy: 0.9184 - val_race_sparse_categorical_accuracy: 0.8159 - val_age_sparse_categorical_accuracy: 0.5984\n",
      "Epoch 35/50\n",
      "297/297 [==============================] - 26s 89ms/step - loss: 1.5453 - gender_loss: 0.1676 - race_loss: 0.4458 - age_loss: 0.9319 - gender_sparse_categorical_accuracy: 0.9318 - race_sparse_categorical_accuracy: 0.8474 - age_sparse_categorical_accuracy: 0.6188 - val_loss: 1.7651 - val_gender_loss: 0.2124 - val_race_loss: 0.5480 - val_age_loss: 1.0047 - val_gender_sparse_categorical_accuracy: 0.9110 - val_race_sparse_categorical_accuracy: 0.8131 - val_age_sparse_categorical_accuracy: 0.5851\n",
      "Epoch 36/50\n",
      "297/297 [==============================] - 26s 89ms/step - loss: 1.5398 - gender_loss: 0.1648 - race_loss: 0.4452 - age_loss: 0.9299 - gender_sparse_categorical_accuracy: 0.9326 - race_sparse_categorical_accuracy: 0.8491 - age_sparse_categorical_accuracy: 0.6148 - val_loss: 1.7796 - val_gender_loss: 0.2182 - val_race_loss: 0.5591 - val_age_loss: 1.0024 - val_gender_sparse_categorical_accuracy: 0.9146 - val_race_sparse_categorical_accuracy: 0.8184 - val_age_sparse_categorical_accuracy: 0.5910\n",
      "Epoch 37/50\n",
      "297/297 [==============================] - 26s 88ms/step - loss: 1.5193 - gender_loss: 0.1582 - race_loss: 0.4389 - age_loss: 0.9222 - gender_sparse_categorical_accuracy: 0.9349 - race_sparse_categorical_accuracy: 0.8539 - age_sparse_categorical_accuracy: 0.6164 - val_loss: 1.7021 - val_gender_loss: 0.2039 - val_race_loss: 0.5075 - val_age_loss: 0.9907 - val_gender_sparse_categorical_accuracy: 0.9260 - val_race_sparse_categorical_accuracy: 0.8283 - val_age_sparse_categorical_accuracy: 0.5990\n",
      "Epoch 38/50\n",
      "297/297 [==============================] - 26s 87ms/step - loss: 1.5052 - gender_loss: 0.1577 - race_loss: 0.4282 - age_loss: 0.9193 - gender_sparse_categorical_accuracy: 0.9355 - race_sparse_categorical_accuracy: 0.8528 - age_sparse_categorical_accuracy: 0.6191 - val_loss: 1.7131 - val_gender_loss: 0.2120 - val_race_loss: 0.5152 - val_age_loss: 0.9859 - val_gender_sparse_categorical_accuracy: 0.9173 - val_race_sparse_categorical_accuracy: 0.8268 - val_age_sparse_categorical_accuracy: 0.5944\n",
      "Epoch 39/50\n",
      "297/297 [==============================] - 26s 87ms/step - loss: 1.4808 - gender_loss: 0.1578 - race_loss: 0.4170 - age_loss: 0.9059 - gender_sparse_categorical_accuracy: 0.9359 - race_sparse_categorical_accuracy: 0.8609 - age_sparse_categorical_accuracy: 0.6212 - val_loss: 1.7345 - val_gender_loss: 0.2023 - val_race_loss: 0.5376 - val_age_loss: 0.9946 - val_gender_sparse_categorical_accuracy: 0.9188 - val_race_sparse_categorical_accuracy: 0.8249 - val_age_sparse_categorical_accuracy: 0.5938\n",
      "Epoch 40/50\n",
      "297/297 [==============================] - 26s 87ms/step - loss: 1.4728 - gender_loss: 0.1549 - race_loss: 0.4140 - age_loss: 0.9039 - gender_sparse_categorical_accuracy: 0.9376 - race_sparse_categorical_accuracy: 0.8573 - age_sparse_categorical_accuracy: 0.6192 - val_loss: 1.7292 - val_gender_loss: 0.2068 - val_race_loss: 0.5276 - val_age_loss: 0.9947 - val_gender_sparse_categorical_accuracy: 0.9207 - val_race_sparse_categorical_accuracy: 0.8262 - val_age_sparse_categorical_accuracy: 0.6028\n",
      "Epoch 41/50\n",
      "297/297 [==============================] - 26s 88ms/step - loss: 1.4493 - gender_loss: 0.1492 - race_loss: 0.4078 - age_loss: 0.8922 - gender_sparse_categorical_accuracy: 0.9391 - race_sparse_categorical_accuracy: 0.8635 - age_sparse_categorical_accuracy: 0.6272 - val_loss: 1.7213 - val_gender_loss: 0.2128 - val_race_loss: 0.5216 - val_age_loss: 0.9869 - val_gender_sparse_categorical_accuracy: 0.9175 - val_race_sparse_categorical_accuracy: 0.8258 - val_age_sparse_categorical_accuracy: 0.5902\n",
      "Epoch 42/50\n",
      "297/297 [==============================] - 26s 87ms/step - loss: 1.4416 - gender_loss: 0.1493 - race_loss: 0.4034 - age_loss: 0.8889 - gender_sparse_categorical_accuracy: 0.9377 - race_sparse_categorical_accuracy: 0.8627 - age_sparse_categorical_accuracy: 0.6346 - val_loss: 1.7398 - val_gender_loss: 0.2270 - val_race_loss: 0.5162 - val_age_loss: 0.9966 - val_gender_sparse_categorical_accuracy: 0.9150 - val_race_sparse_categorical_accuracy: 0.8291 - val_age_sparse_categorical_accuracy: 0.5957\n",
      "Epoch 43/50\n",
      "297/297 [==============================] - 26s 87ms/step - loss: 1.4116 - gender_loss: 0.1429 - race_loss: 0.3938 - age_loss: 0.8749 - gender_sparse_categorical_accuracy: 0.9422 - race_sparse_categorical_accuracy: 0.8656 - age_sparse_categorical_accuracy: 0.6369 - val_loss: 1.7413 - val_gender_loss: 0.2254 - val_race_loss: 0.5254 - val_age_loss: 0.9905 - val_gender_sparse_categorical_accuracy: 0.9169 - val_race_sparse_categorical_accuracy: 0.8338 - val_age_sparse_categorical_accuracy: 0.6051\n",
      "Epoch 44/50\n",
      "297/297 [==============================] - 26s 87ms/step - loss: 1.4016 - gender_loss: 0.1451 - race_loss: 0.3859 - age_loss: 0.8706 - gender_sparse_categorical_accuracy: 0.9424 - race_sparse_categorical_accuracy: 0.8656 - age_sparse_categorical_accuracy: 0.6397 - val_loss: 1.7730 - val_gender_loss: 0.2304 - val_race_loss: 0.5272 - val_age_loss: 1.0154 - val_gender_sparse_categorical_accuracy: 0.9158 - val_race_sparse_categorical_accuracy: 0.8302 - val_age_sparse_categorical_accuracy: 0.5870\n",
      "Epoch 45/50\n",
      "297/297 [==============================] - 26s 87ms/step - loss: 1.3981 - gender_loss: 0.1440 - race_loss: 0.3885 - age_loss: 0.8657 - gender_sparse_categorical_accuracy: 0.9424 - race_sparse_categorical_accuracy: 0.8637 - age_sparse_categorical_accuracy: 0.6399 - val_loss: 1.7492 - val_gender_loss: 0.2103 - val_race_loss: 0.5497 - val_age_loss: 0.9891 - val_gender_sparse_categorical_accuracy: 0.9211 - val_race_sparse_categorical_accuracy: 0.8277 - val_age_sparse_categorical_accuracy: 0.5912\n",
      "Epoch 46/50\n",
      "297/297 [==============================] - 26s 87ms/step - loss: 1.3661 - gender_loss: 0.1415 - race_loss: 0.3698 - age_loss: 0.8549 - gender_sparse_categorical_accuracy: 0.9415 - race_sparse_categorical_accuracy: 0.8713 - age_sparse_categorical_accuracy: 0.6442 - val_loss: 1.7665 - val_gender_loss: 0.2324 - val_race_loss: 0.5315 - val_age_loss: 1.0026 - val_gender_sparse_categorical_accuracy: 0.9169 - val_race_sparse_categorical_accuracy: 0.8338 - val_age_sparse_categorical_accuracy: 0.5942\n",
      "Epoch 47/50\n",
      "297/297 [==============================] - 26s 86ms/step - loss: 1.3638 - gender_loss: 0.1394 - race_loss: 0.3705 - age_loss: 0.8538 - gender_sparse_categorical_accuracy: 0.9438 - race_sparse_categorical_accuracy: 0.8729 - age_sparse_categorical_accuracy: 0.6455 - val_loss: 1.7234 - val_gender_loss: 0.2100 - val_race_loss: 0.5189 - val_age_loss: 0.9945 - val_gender_sparse_categorical_accuracy: 0.9220 - val_race_sparse_categorical_accuracy: 0.8287 - val_age_sparse_categorical_accuracy: 0.5976\n",
      "Epoch 48/50\n",
      "297/297 [==============================] - 26s 87ms/step - loss: 1.3329 - gender_loss: 0.1352 - race_loss: 0.3567 - age_loss: 0.8410 - gender_sparse_categorical_accuracy: 0.9461 - race_sparse_categorical_accuracy: 0.8754 - age_sparse_categorical_accuracy: 0.6475 - val_loss: 1.7165 - val_gender_loss: 0.2153 - val_race_loss: 0.5323 - val_age_loss: 0.9688 - val_gender_sparse_categorical_accuracy: 0.9211 - val_race_sparse_categorical_accuracy: 0.8296 - val_age_sparse_categorical_accuracy: 0.6020\n",
      "Epoch 49/50\n",
      "297/297 [==============================] - 26s 87ms/step - loss: 1.3220 - gender_loss: 0.1335 - race_loss: 0.3551 - age_loss: 0.8334 - gender_sparse_categorical_accuracy: 0.9470 - race_sparse_categorical_accuracy: 0.8791 - age_sparse_categorical_accuracy: 0.6480 - val_loss: 1.7417 - val_gender_loss: 0.2086 - val_race_loss: 0.5298 - val_age_loss: 1.0033 - val_gender_sparse_categorical_accuracy: 0.9171 - val_race_sparse_categorical_accuracy: 0.8296 - val_age_sparse_categorical_accuracy: 0.5988\n",
      "Epoch 50/50\n"
     ]
    },
    {
     "output_type": "stream",
     "name": "stdout",
     "text": [
      "297/297 [==============================] - 26s 86ms/step - loss: 1.3094 - gender_loss: 0.1308 - race_loss: 0.3521 - age_loss: 0.8265 - gender_sparse_categorical_accuracy: 0.9465 - race_sparse_categorical_accuracy: 0.8805 - age_sparse_categorical_accuracy: 0.6538 - val_loss: 1.7590 - val_gender_loss: 0.2152 - val_race_loss: 0.5383 - val_age_loss: 1.0055 - val_gender_sparse_categorical_accuracy: 0.9182 - val_race_sparse_categorical_accuracy: 0.8260 - val_age_sparse_categorical_accuracy: 0.6035\n"
     ]
    },
    {
     "output_type": "execute_result",
     "data": {
      "text/plain": [
       "<Response [200]>"
      ]
     },
     "metadata": {},
     "execution_count": 14
    }
   ],
   "metadata": {}
  },
  {
   "cell_type": "code",
   "execution_count": 15,
   "source": [
    "classifier.save('./ckpt/{}-{}.h5'.format(script_name, 'last'))"
   ],
   "outputs": [],
   "metadata": {}
  },
  {
   "cell_type": "code",
   "execution_count": 16,
   "source": [
    "class SupervisedContrastiveLoss(keras.losses.Loss):\r\n",
    "    def __init__(self, temperature=1, name=None):\r\n",
    "        super(SupervisedContrastiveLoss, self).__init__(name=name)\r\n",
    "        self.temperature = temperature\r\n",
    "\r\n",
    "    def __call__(self, labels, feature_vectors, sample_weight=None):\r\n",
    "        # Normalize feature vectors\r\n",
    "        feature_vectors_normalized = tf.math.l2_normalize(feature_vectors, axis=1)\r\n",
    "        # Compute logits\r\n",
    "        logits = tf.divide(\r\n",
    "            tf.matmul(\r\n",
    "                feature_vectors_normalized, tf.transpose(feature_vectors_normalized)\r\n",
    "            ),\r\n",
    "            self.temperature,\r\n",
    "        )\r\n",
    "        return tfa.losses.npairs_loss(tf.squeeze(labels), logits)\r\n",
    "\r\n",
    "\r\n",
    "def add_projection_head(encoder):\r\n",
    "    inputs = keras.Input(shape=input_shape)\r\n",
    "    features = encoder(inputs)\r\n",
    "    outputs = []\r\n",
    "    for col in target_col:\r\n",
    "        outputs.append(layers.Dense(projection_units, activation=\"relu\", name=\"features_\" + col)(features))\r\n",
    "    model = keras.Model(\r\n",
    "        inputs=inputs, outputs=outputs, name=\"utkface-encoder_with_projection-head\"\r\n",
    "    )\r\n",
    "    return model"
   ],
   "outputs": [],
   "metadata": {}
  },
  {
   "cell_type": "code",
   "execution_count": 17,
   "source": [
    "script_name = 'SupCon-UTKFace-Age-R50-MultiOutput'"
   ],
   "outputs": [],
   "metadata": {}
  },
  {
   "cell_type": "code",
   "execution_count": 18,
   "source": [
    "encoder = create_encoder()\n",
    "loss = []\n",
    "for col in target_col:\n",
    "    loss.append(SupervisedContrastiveLoss(temperature))\n",
    "encoder_with_projection_head = add_projection_head(encoder)\n",
    "encoder_with_projection_head.compile(\n",
    "    optimizer=keras.optimizers.Adam(learning_rate),\n",
    "    loss=loss,\n",
    ")\n",
    "\n",
    "encoder_with_projection_head.summary()\n",
    "keras.utils.plot_model(encoder_with_projection_head)"
   ],
   "outputs": [
    {
     "output_type": "stream",
     "name": "stdout",
     "text": [
      "Model: \"utkface-encoder_with_projection-head\"\n",
      "__________________________________________________________________________________________________\n",
      "Layer (type)                    Output Shape         Param #     Connected to                     \n",
      "==================================================================================================\n",
      "input_7 (InputLayer)            [(None, 112, 112, 3) 0                                            \n",
      "__________________________________________________________________________________________________\n",
      "utkface-encoder (Functional)    (None, 2048)         23564800    input_7[0][0]                    \n",
      "__________________________________________________________________________________________________\n",
      "features_gender (Dense)         (None, 128)          262272      utkface-encoder[0][0]            \n",
      "__________________________________________________________________________________________________\n",
      "features_race (Dense)           (None, 128)          262272      utkface-encoder[0][0]            \n",
      "__________________________________________________________________________________________________\n",
      "features_age (Dense)            (None, 128)          262272      utkface-encoder[0][0]            \n",
      "==================================================================================================\n",
      "Total params: 24,351,616\n",
      "Trainable params: 24,306,176\n",
      "Non-trainable params: 45,440\n",
      "__________________________________________________________________________________________________\n"
     ]
    },
    {
     "output_type": "execute_result",
     "data": {
      "text/plain": [
       "<IPython.core.display.Image object>"
      ],
      "image/png": "[encoded data removed]"
     },
     "metadata": {},
     "execution_count": 18
    }
   ],
   "metadata": {}
  },
  {
   "cell_type": "code",
   "execution_count": 19,
   "source": [
    "history = encoder_with_projection_head.fit(\r\n",
    "    train_iter, batch_size=batch_size, epochs=num_epochs\r\n",
    ")\r\n"
   ],
   "outputs": [
    {
     "output_type": "stream",
     "name": "stdout",
     "text": [
      "Epoch 1/50\n",
      "297/297 [==============================] - 26s 71ms/step - loss: 12.2281 - features_gender_loss: 4.1313 - features_race_loss: 4.1071 - features_age_loss: 3.9898\n",
      "Epoch 2/50\n",
      "297/297 [==============================] - 21s 71ms/step - loss: 11.8928 - features_gender_loss: 4.0442 - features_race_loss: 4.0185 - features_age_loss: 3.8300\n",
      "Epoch 3/50\n",
      "297/297 [==============================] - 21s 72ms/step - loss: 11.7002 - features_gender_loss: 3.9956 - features_race_loss: 3.9489 - features_age_loss: 3.7556\n",
      "Epoch 4/50\n",
      "297/297 [==============================] - 21s 70ms/step - loss: 11.5363 - features_gender_loss: 3.9609 - features_race_loss: 3.8617 - features_age_loss: 3.7137\n",
      "Epoch 5/50\n",
      "297/297 [==============================] - 21s 71ms/step - loss: 11.3968 - features_gender_loss: 3.9294 - features_race_loss: 3.7912 - features_age_loss: 3.6762\n",
      "Epoch 6/50\n",
      "297/297 [==============================] - 21s 71ms/step - loss: 11.2804 - features_gender_loss: 3.9090 - features_race_loss: 3.7375 - features_age_loss: 3.6340\n",
      "Epoch 7/50\n",
      "297/297 [==============================] - 21s 72ms/step - loss: 11.1984 - features_gender_loss: 3.8917 - features_race_loss: 3.6961 - features_age_loss: 3.6107\n",
      "Epoch 8/50\n",
      "297/297 [==============================] - 21s 71ms/step - loss: 11.1391 - features_gender_loss: 3.8808 - features_race_loss: 3.6740 - features_age_loss: 3.5843\n",
      "Epoch 9/50\n",
      "297/297 [==============================] - 21s 71ms/step - loss: 11.0665 - features_gender_loss: 3.8621 - features_race_loss: 3.6497 - features_age_loss: 3.5546\n",
      "Epoch 10/50\n",
      "297/297 [==============================] - 21s 71ms/step - loss: 11.0241 - features_gender_loss: 3.8588 - features_race_loss: 3.6229 - features_age_loss: 3.5423\n",
      "Epoch 11/50\n",
      "297/297 [==============================] - 21s 71ms/step - loss: 10.9776 - features_gender_loss: 3.8453 - features_race_loss: 3.6017 - features_age_loss: 3.5306\n",
      "Epoch 12/50\n",
      "297/297 [==============================] - 21s 71ms/step - loss: 10.9294 - features_gender_loss: 3.8348 - features_race_loss: 3.5891 - features_age_loss: 3.5055\n",
      "Epoch 13/50\n",
      "297/297 [==============================] - 21s 71ms/step - loss: 10.8855 - features_gender_loss: 3.8267 - features_race_loss: 3.5608 - features_age_loss: 3.4980\n",
      "Epoch 14/50\n",
      "297/297 [==============================] - 21s 71ms/step - loss: 10.8573 - features_gender_loss: 3.8182 - features_race_loss: 3.5531 - features_age_loss: 3.4859\n",
      "Epoch 15/50\n",
      "297/297 [==============================] - 21s 72ms/step - loss: 10.8305 - features_gender_loss: 3.8171 - features_race_loss: 3.5380 - features_age_loss: 3.4754\n",
      "Epoch 16/50\n",
      "297/297 [==============================] - 21s 71ms/step - loss: 10.8001 - features_gender_loss: 3.8078 - features_race_loss: 3.5237 - features_age_loss: 3.4686\n",
      "Epoch 17/50\n",
      "297/297 [==============================] - 21s 71ms/step - loss: 10.7637 - features_gender_loss: 3.7986 - features_race_loss: 3.5095 - features_age_loss: 3.4556\n",
      "Epoch 18/50\n",
      "297/297 [==============================] - 21s 71ms/step - loss: 10.7456 - features_gender_loss: 3.7971 - features_race_loss: 3.4981 - features_age_loss: 3.4504\n",
      "Epoch 19/50\n",
      "297/297 [==============================] - 21s 71ms/step - loss: 10.7024 - features_gender_loss: 3.7892 - features_race_loss: 3.4803 - features_age_loss: 3.4329\n",
      "Epoch 20/50\n",
      "297/297 [==============================] - 21s 71ms/step - loss: 10.6867 - features_gender_loss: 3.7856 - features_race_loss: 3.4785 - features_age_loss: 3.4227\n",
      "Epoch 21/50\n",
      "297/297 [==============================] - 21s 72ms/step - loss: 10.6588 - features_gender_loss: 3.7770 - features_race_loss: 3.4607 - features_age_loss: 3.4212\n",
      "Epoch 22/50\n",
      "297/297 [==============================] - 21s 71ms/step - loss: 10.6354 - features_gender_loss: 3.7708 - features_race_loss: 3.4495 - features_age_loss: 3.4151\n",
      "Epoch 23/50\n",
      "297/297 [==============================] - 21s 71ms/step - loss: 10.6079 - features_gender_loss: 3.7662 - features_race_loss: 3.4390 - features_age_loss: 3.4026\n",
      "Epoch 24/50\n",
      "297/297 [==============================] - 21s 72ms/step - loss: 10.5812 - features_gender_loss: 3.7615 - features_race_loss: 3.4284 - features_age_loss: 3.3913\n",
      "Epoch 25/50\n",
      "297/297 [==============================] - 21s 71ms/step - loss: 10.5664 - features_gender_loss: 3.7589 - features_race_loss: 3.4203 - features_age_loss: 3.3872\n",
      "Epoch 26/50\n",
      "297/297 [==============================] - 21s 71ms/step - loss: 10.5447 - features_gender_loss: 3.7490 - features_race_loss: 3.4145 - features_age_loss: 3.3812\n",
      "Epoch 27/50\n",
      "297/297 [==============================] - 21s 71ms/step - loss: 10.5288 - features_gender_loss: 3.7465 - features_race_loss: 3.4077 - features_age_loss: 3.3746\n",
      "Epoch 28/50\n",
      "297/297 [==============================] - 21s 70ms/step - loss: 10.5153 - features_gender_loss: 3.7483 - features_race_loss: 3.4002 - features_age_loss: 3.3668\n",
      "Epoch 29/50\n",
      "297/297 [==============================] - 21s 71ms/step - loss: 10.4905 - features_gender_loss: 3.7379 - features_race_loss: 3.3885 - features_age_loss: 3.3642\n",
      "Epoch 30/50\n",
      "297/297 [==============================] - 21s 71ms/step - loss: 10.4622 - features_gender_loss: 3.7332 - features_race_loss: 3.3778 - features_age_loss: 3.3512\n",
      "Epoch 31/50\n",
      "297/297 [==============================] - 21s 71ms/step - loss: 10.4548 - features_gender_loss: 3.7388 - features_race_loss: 3.3712 - features_age_loss: 3.3448\n",
      "Epoch 32/50\n",
      "297/297 [==============================] - 21s 71ms/step - loss: 10.4291 - features_gender_loss: 3.7270 - features_race_loss: 3.3651 - features_age_loss: 3.3370\n",
      "Epoch 33/50\n",
      "297/297 [==============================] - 21s 71ms/step - loss: 10.4251 - features_gender_loss: 3.7235 - features_race_loss: 3.3566 - features_age_loss: 3.3450\n",
      "Epoch 34/50\n",
      "297/297 [==============================] - 21s 71ms/step - loss: 10.3964 - features_gender_loss: 3.7242 - features_race_loss: 3.3421 - features_age_loss: 3.3302\n",
      "Epoch 35/50\n",
      "297/297 [==============================] - 21s 71ms/step - loss: 10.3833 - features_gender_loss: 3.7158 - features_race_loss: 3.3429 - features_age_loss: 3.3246\n",
      "Epoch 36/50\n",
      "297/297 [==============================] - 21s 71ms/step - loss: 10.3583 - features_gender_loss: 3.7118 - features_race_loss: 3.3302 - features_age_loss: 3.3163\n",
      "Epoch 37/50\n",
      "297/297 [==============================] - 21s 72ms/step - loss: 10.3481 - features_gender_loss: 3.7118 - features_race_loss: 3.3209 - features_age_loss: 3.3154\n",
      "Epoch 38/50\n",
      "297/297 [==============================] - 21s 71ms/step - loss: 10.3280 - features_gender_loss: 3.7107 - features_race_loss: 3.3106 - features_age_loss: 3.3066\n",
      "Epoch 39/50\n",
      "297/297 [==============================] - 21s 71ms/step - loss: 10.3213 - features_gender_loss: 3.7000 - features_race_loss: 3.3193 - features_age_loss: 3.3020\n",
      "Epoch 40/50\n",
      "297/297 [==============================] - 21s 71ms/step - loss: 10.2927 - features_gender_loss: 3.6933 - features_race_loss: 3.3045 - features_age_loss: 3.2948\n",
      "Epoch 41/50\n",
      "297/297 [==============================] - 21s 71ms/step - loss: 10.2841 - features_gender_loss: 3.6933 - features_race_loss: 3.3040 - features_age_loss: 3.2867\n",
      "Epoch 42/50\n",
      "297/297 [==============================] - 21s 71ms/step - loss: 10.2705 - features_gender_loss: 3.6948 - features_race_loss: 3.2915 - features_age_loss: 3.2843\n",
      "Epoch 43/50\n",
      "297/297 [==============================] - 21s 71ms/step - loss: 10.2564 - features_gender_loss: 3.6936 - features_race_loss: 3.2758 - features_age_loss: 3.2871\n",
      "Epoch 44/50\n",
      "297/297 [==============================] - 21s 71ms/step - loss: 10.2390 - features_gender_loss: 3.6819 - features_race_loss: 3.2812 - features_age_loss: 3.2759\n",
      "Epoch 45/50\n",
      "297/297 [==============================] - 21s 71ms/step - loss: 10.2137 - features_gender_loss: 3.6779 - features_race_loss: 3.2670 - features_age_loss: 3.2687\n",
      "Epoch 46/50\n",
      "297/297 [==============================] - 21s 71ms/step - loss: 10.2115 - features_gender_loss: 3.6774 - features_race_loss: 3.2632 - features_age_loss: 3.2710\n",
      "Epoch 47/50\n",
      "297/297 [==============================] - 21s 71ms/step - loss: 10.1905 - features_gender_loss: 3.6730 - features_race_loss: 3.2563 - features_age_loss: 3.2612\n",
      "Epoch 48/50\n"
     ]
    },
    {
     "output_type": "stream",
     "name": "stdout",
     "text": [
      "297/297 [==============================] - 21s 71ms/step - loss: 10.1598 - features_gender_loss: 3.6652 - features_race_loss: 3.2467 - features_age_loss: 3.2479\n",
      "Epoch 49/50\n",
      "297/297 [==============================] - 21s 71ms/step - loss: 10.1541 - features_gender_loss: 3.6667 - features_race_loss: 3.2437 - features_age_loss: 3.2437\n",
      "Epoch 50/50\n",
      "297/297 [==============================] - 21s 71ms/step - loss: 10.1487 - features_gender_loss: 3.6682 - features_race_loss: 3.2382 - features_age_loss: 3.2423\n"
     ]
    },
    {
     "output_type": "execute_result",
     "data": {
      "text/plain": [
       "<Response [200]>"
      ]
     },
     "metadata": {},
     "execution_count": 19
    }
   ],
   "metadata": {}
  },
  {
   "cell_type": "code",
   "execution_count": 20,
   "source": [
    "callbacks = []\r\n",
    "for col in target_col:\r\n",
    "    model_checkpoint_callback = tf.keras.callbacks.ModelCheckpoint(\r\n",
    "        filepath='./ckpt/{}-{}.h5'.format(script_name, col),\r\n",
    "        monitor='val_{}_sparse_categorical_accuracy'.format(col),\r\n",
    "        mode='max',\r\n",
    "        save_best_only=True)\r\n",
    "    callbacks.append(model_checkpoint_callback)"
   ],
   "outputs": [],
   "metadata": {}
  },
  {
   "cell_type": "code",
   "execution_count": 21,
   "source": [
    "classifier = create_classifier(encoder, trainable=False, training=False)\r\n",
    "classifier.summary()\r\n",
    "history = classifier.fit(train_iter, batch_size=batch_size, epochs=10, validation_data=val_iter, callbacks=callbacks)"
   ],
   "outputs": [
    {
     "output_type": "stream",
     "name": "stdout",
     "text": [
      "Model: \"utkface-classifier\"\n",
      "__________________________________________________________________________________________________\n",
      "Layer (type)                    Output Shape         Param #     Connected to                     \n",
      "==================================================================================================\n",
      "input (InputLayer)              [(None, 112, 112, 3) 0                                            \n",
      "__________________________________________________________________________________________________\n",
      "utkface-encoder (Functional)    (None, 2048)         23564800    input[0][0]                      \n",
      "__________________________________________________________________________________________________\n",
      "dropout_gender (Dropout)        (None, 2048)         0           utkface-encoder[1][0]            \n",
      "__________________________________________________________________________________________________\n",
      "dropout_race (Dropout)          (None, 2048)         0           utkface-encoder[1][0]            \n",
      "__________________________________________________________________________________________________\n",
      "dropout_age (Dropout)           (None, 2048)         0           utkface-encoder[1][0]            \n",
      "__________________________________________________________________________________________________\n",
      "featuresgender (Dense)          (None, 512)          1049088     dropout_gender[0][0]             \n",
      "__________________________________________________________________________________________________\n",
      "featuresrace (Dense)            (None, 512)          1049088     dropout_race[0][0]               \n",
      "__________________________________________________________________________________________________\n",
      "featuresage (Dense)             (None, 512)          1049088     dropout_age[0][0]                \n",
      "__________________________________________________________________________________________________\n",
      "dropout2_gender (Dropout)       (None, 512)          0           featuresgender[0][0]             \n",
      "__________________________________________________________________________________________________\n",
      "dropout2_race (Dropout)         (None, 512)          0           featuresrace[0][0]               \n",
      "__________________________________________________________________________________________________\n",
      "dropout2_age (Dropout)          (None, 512)          0           featuresage[0][0]                \n",
      "__________________________________________________________________________________________________\n",
      "gender (Dense)                  (None, 2)            1026        dropout2_gender[0][0]            \n",
      "__________________________________________________________________________________________________\n",
      "race (Dense)                    (None, 5)            2565        dropout2_race[0][0]              \n",
      "__________________________________________________________________________________________________\n",
      "age (Dense)                     (None, 9)            4617        dropout2_age[0][0]               \n",
      "==================================================================================================\n",
      "Total params: 26,720,272\n",
      "Trainable params: 3,155,472\n",
      "Non-trainable params: 23,564,800\n",
      "__________________________________________________________________________________________________\n",
      "Epoch 1/10\n",
      "297/297 [==============================] - 29s 88ms/step - loss: 1.4956 - gender_loss: 0.1369 - race_loss: 0.3830 - age_loss: 0.9757 - gender_sparse_categorical_accuracy: 0.9596 - race_sparse_categorical_accuracy: 0.8848 - age_sparse_categorical_accuracy: 0.6173 - val_loss: 1.6875 - val_gender_loss: 0.1951 - val_race_loss: 0.5135 - val_age_loss: 0.9790 - val_gender_sparse_categorical_accuracy: 0.9325 - val_race_sparse_categorical_accuracy: 0.8443 - val_age_sparse_categorical_accuracy: 0.6007\n"
     ]
    },
    {
     "output_type": "stream",
     "name": "stderr",
     "text": [
      "/usr/local/lib/python3.6/dist-packages/tensorflow/python/keras/utils/generic_utils.py:497: CustomMaskWarning: Custom mask layers require a config and must override get_config. When loading, the custom mask layer must be passed to the custom_objects argument.\n",
      "  category=CustomMaskWarning)\n"
     ]
    },
    {
     "output_type": "stream",
     "name": "stdout",
     "text": [
      "Epoch 2/10\n",
      "297/297 [==============================] - 25s 84ms/step - loss: 1.2920 - gender_loss: 0.1096 - race_loss: 0.3328 - age_loss: 0.8496 - gender_sparse_categorical_accuracy: 0.9653 - race_sparse_categorical_accuracy: 0.8989 - age_sparse_categorical_accuracy: 0.6521 - val_loss: 1.6846 - val_gender_loss: 0.2165 - val_race_loss: 0.4991 - val_age_loss: 0.9690 - val_gender_sparse_categorical_accuracy: 0.9312 - val_race_sparse_categorical_accuracy: 0.8454 - val_age_sparse_categorical_accuracy: 0.6121\n",
      "Epoch 3/10\n",
      "297/297 [==============================] - 25s 84ms/step - loss: 1.2543 - gender_loss: 0.1029 - race_loss: 0.3188 - age_loss: 0.8325 - gender_sparse_categorical_accuracy: 0.9685 - race_sparse_categorical_accuracy: 0.9019 - age_sparse_categorical_accuracy: 0.6532 - val_loss: 1.6675 - val_gender_loss: 0.1850 - val_race_loss: 0.5043 - val_age_loss: 0.9781 - val_gender_sparse_categorical_accuracy: 0.9325 - val_race_sparse_categorical_accuracy: 0.8492 - val_age_sparse_categorical_accuracy: 0.6054\n",
      "Epoch 4/10\n",
      "297/297 [==============================] - 25s 84ms/step - loss: 1.2460 - gender_loss: 0.1019 - race_loss: 0.3155 - age_loss: 0.8286 - gender_sparse_categorical_accuracy: 0.9677 - race_sparse_categorical_accuracy: 0.9038 - age_sparse_categorical_accuracy: 0.6565 - val_loss: 1.6946 - val_gender_loss: 0.1922 - val_race_loss: 0.5246 - val_age_loss: 0.9779 - val_gender_sparse_categorical_accuracy: 0.9329 - val_race_sparse_categorical_accuracy: 0.8477 - val_age_sparse_categorical_accuracy: 0.6098\n",
      "Epoch 5/10\n",
      "297/297 [==============================] - 25s 84ms/step - loss: 1.2333 - gender_loss: 0.1016 - race_loss: 0.3082 - age_loss: 0.8235 - gender_sparse_categorical_accuracy: 0.9689 - race_sparse_categorical_accuracy: 0.9016 - age_sparse_categorical_accuracy: 0.6565 - val_loss: 1.7210 - val_gender_loss: 0.1975 - val_race_loss: 0.5327 - val_age_loss: 0.9908 - val_gender_sparse_categorical_accuracy: 0.9323 - val_race_sparse_categorical_accuracy: 0.8414 - val_age_sparse_categorical_accuracy: 0.6060\n",
      "Epoch 6/10\n",
      "297/297 [==============================] - 25s 84ms/step - loss: 1.2282 - gender_loss: 0.0971 - race_loss: 0.3070 - age_loss: 0.8242 - gender_sparse_categorical_accuracy: 0.9706 - race_sparse_categorical_accuracy: 0.9040 - age_sparse_categorical_accuracy: 0.6566 - val_loss: 1.7297 - val_gender_loss: 0.2192 - val_race_loss: 0.5055 - val_age_loss: 1.0050 - val_gender_sparse_categorical_accuracy: 0.9289 - val_race_sparse_categorical_accuracy: 0.8492 - val_age_sparse_categorical_accuracy: 0.6028\n",
      "Epoch 7/10\n",
      "297/297 [==============================] - 25s 84ms/step - loss: 1.2150 - gender_loss: 0.0959 - race_loss: 0.3045 - age_loss: 0.8146 - gender_sparse_categorical_accuracy: 0.9693 - race_sparse_categorical_accuracy: 0.9070 - age_sparse_categorical_accuracy: 0.6606 - val_loss: 1.7076 - val_gender_loss: 0.2056 - val_race_loss: 0.5079 - val_age_loss: 0.9941 - val_gender_sparse_categorical_accuracy: 0.9310 - val_race_sparse_categorical_accuracy: 0.8494 - val_age_sparse_categorical_accuracy: 0.6108\n",
      "Epoch 8/10\n",
      "297/297 [==============================] - 25s 84ms/step - loss: 1.2107 - gender_loss: 0.0946 - race_loss: 0.3004 - age_loss: 0.8156 - gender_sparse_categorical_accuracy: 0.9708 - race_sparse_categorical_accuracy: 0.9062 - age_sparse_categorical_accuracy: 0.6601 - val_loss: 1.7190 - val_gender_loss: 0.2201 - val_race_loss: 0.5177 - val_age_loss: 0.9813 - val_gender_sparse_categorical_accuracy: 0.9312 - val_race_sparse_categorical_accuracy: 0.8477 - val_age_sparse_categorical_accuracy: 0.5984\n",
      "Epoch 9/10\n",
      "297/297 [==============================] - 25s 84ms/step - loss: 1.2135 - gender_loss: 0.0982 - race_loss: 0.3037 - age_loss: 0.8115 - gender_sparse_categorical_accuracy: 0.9685 - race_sparse_categorical_accuracy: 0.9049 - age_sparse_categorical_accuracy: 0.6605 - val_loss: 1.7272 - val_gender_loss: 0.2089 - val_race_loss: 0.5225 - val_age_loss: 0.9958 - val_gender_sparse_categorical_accuracy: 0.9340 - val_race_sparse_categorical_accuracy: 0.8515 - val_age_sparse_categorical_accuracy: 0.6041\n",
      "Epoch 10/10\n",
      "297/297 [==============================] - 25s 84ms/step - loss: 1.2044 - gender_loss: 0.0943 - race_loss: 0.2994 - age_loss: 0.8106 - gender_sparse_categorical_accuracy: 0.9702 - race_sparse_categorical_accuracy: 0.9070 - age_sparse_categorical_accuracy: 0.6633 - val_loss: 1.7522 - val_gender_loss: 0.2236 - val_race_loss: 0.5228 - val_age_loss: 1.0058 - val_gender_sparse_categorical_accuracy: 0.9321 - val_race_sparse_categorical_accuracy: 0.8483 - val_age_sparse_categorical_accuracy: 0.6011\n"
     ]
    },
    {
     "output_type": "execute_result",
     "data": {
      "text/plain": [
       "<Response [200]>"
      ]
     },
     "metadata": {},
     "execution_count": 21
    }
   ],
   "metadata": {}
  },
  {
   "cell_type": "code",
   "execution_count": 22,
   "source": [
    "classifier.trainable = True\r\n",
    "classifier.summary()\r\n",
    "history = classifier.fit(train_iter, batch_size=batch_size, epochs=40, initial_epoch=10, validation_data=val_iter, callbacks=callbacks)"
   ],
   "outputs": [
    {
     "output_type": "stream",
     "name": "stdout",
     "text": [
      "Model: \"utkface-classifier\"\n",
      "__________________________________________________________________________________________________\n",
      "Layer (type)                    Output Shape         Param #     Connected to                     \n",
      "==================================================================================================\n",
      "input (InputLayer)              [(None, 112, 112, 3) 0                                            \n",
      "__________________________________________________________________________________________________\n",
      "utkface-encoder (Functional)    (None, 2048)         23564800    input[0][0]                      \n",
      "__________________________________________________________________________________________________\n",
      "dropout_gender (Dropout)        (None, 2048)         0           utkface-encoder[1][0]            \n",
      "__________________________________________________________________________________________________\n",
      "dropout_race (Dropout)          (None, 2048)         0           utkface-encoder[1][0]            \n",
      "__________________________________________________________________________________________________\n",
      "dropout_age (Dropout)           (None, 2048)         0           utkface-encoder[1][0]            \n",
      "__________________________________________________________________________________________________\n",
      "featuresgender (Dense)          (None, 512)          1049088     dropout_gender[0][0]             \n",
      "__________________________________________________________________________________________________\n",
      "featuresrace (Dense)            (None, 512)          1049088     dropout_race[0][0]               \n",
      "__________________________________________________________________________________________________\n",
      "featuresage (Dense)             (None, 512)          1049088     dropout_age[0][0]                \n",
      "__________________________________________________________________________________________________\n",
      "dropout2_gender (Dropout)       (None, 512)          0           featuresgender[0][0]             \n",
      "__________________________________________________________________________________________________\n",
      "dropout2_race (Dropout)         (None, 512)          0           featuresrace[0][0]               \n",
      "__________________________________________________________________________________________________\n",
      "dropout2_age (Dropout)          (None, 512)          0           featuresage[0][0]                \n",
      "__________________________________________________________________________________________________\n",
      "gender (Dense)                  (None, 2)            1026        dropout2_gender[0][0]            \n",
      "__________________________________________________________________________________________________\n",
      "race (Dense)                    (None, 5)            2565        dropout2_race[0][0]              \n",
      "__________________________________________________________________________________________________\n",
      "age (Dense)                     (None, 9)            4617        dropout2_age[0][0]               \n",
      "==================================================================================================\n",
      "Total params: 26,720,272\n",
      "Trainable params: 26,674,832\n",
      "Non-trainable params: 45,440\n",
      "__________________________________________________________________________________________________\n",
      "Epoch 11/40\n",
      "297/297 [==============================] - 25s 83ms/step - loss: 1.2047 - gender_loss: 0.0960 - race_loss: 0.2991 - age_loss: 0.8096 - gender_sparse_categorical_accuracy: 0.9696 - race_sparse_categorical_accuracy: 0.9046 - age_sparse_categorical_accuracy: 0.6625 - val_loss: 1.7314 - val_gender_loss: 0.2164 - val_race_loss: 0.5170 - val_age_loss: 0.9980 - val_gender_sparse_categorical_accuracy: 0.9314 - val_race_sparse_categorical_accuracy: 0.8481 - val_age_sparse_categorical_accuracy: 0.6094\n",
      "Epoch 12/40\n",
      "297/297 [==============================] - 25s 83ms/step - loss: 1.1933 - gender_loss: 0.0921 - race_loss: 0.2949 - age_loss: 0.8063 - gender_sparse_categorical_accuracy: 0.9707 - race_sparse_categorical_accuracy: 0.9084 - age_sparse_categorical_accuracy: 0.6685 - val_loss: 1.7351 - val_gender_loss: 0.2141 - val_race_loss: 0.5356 - val_age_loss: 0.9854 - val_gender_sparse_categorical_accuracy: 0.9304 - val_race_sparse_categorical_accuracy: 0.8477 - val_age_sparse_categorical_accuracy: 0.6045\n",
      "Epoch 13/40\n",
      "297/297 [==============================] - 25s 84ms/step - loss: 1.1977 - gender_loss: 0.0935 - race_loss: 0.2935 - age_loss: 0.8107 - gender_sparse_categorical_accuracy: 0.9696 - race_sparse_categorical_accuracy: 0.9099 - age_sparse_categorical_accuracy: 0.6624 - val_loss: 1.7116 - val_gender_loss: 0.2022 - val_race_loss: 0.5193 - val_age_loss: 0.9901 - val_gender_sparse_categorical_accuracy: 0.9331 - val_race_sparse_categorical_accuracy: 0.8505 - val_age_sparse_categorical_accuracy: 0.6119\n",
      "Epoch 14/40\n",
      "297/297 [==============================] - 25s 83ms/step - loss: 1.1859 - gender_loss: 0.0929 - race_loss: 0.2936 - age_loss: 0.7994 - gender_sparse_categorical_accuracy: 0.9702 - race_sparse_categorical_accuracy: 0.9089 - age_sparse_categorical_accuracy: 0.6646 - val_loss: 1.7327 - val_gender_loss: 0.2067 - val_race_loss: 0.5217 - val_age_loss: 1.0044 - val_gender_sparse_categorical_accuracy: 0.9317 - val_race_sparse_categorical_accuracy: 0.8492 - val_age_sparse_categorical_accuracy: 0.6020\n",
      "Epoch 15/40\n",
      "297/297 [==============================] - 25s 84ms/step - loss: 1.1948 - gender_loss: 0.0954 - race_loss: 0.2927 - age_loss: 0.8067 - gender_sparse_categorical_accuracy: 0.9690 - race_sparse_categorical_accuracy: 0.9092 - age_sparse_categorical_accuracy: 0.6628 - val_loss: 1.7366 - val_gender_loss: 0.2114 - val_race_loss: 0.5225 - val_age_loss: 1.0027 - val_gender_sparse_categorical_accuracy: 0.9317 - val_race_sparse_categorical_accuracy: 0.8464 - val_age_sparse_categorical_accuracy: 0.6115\n",
      "Epoch 16/40\n",
      "297/297 [==============================] - 25s 84ms/step - loss: 1.1954 - gender_loss: 0.0932 - race_loss: 0.2926 - age_loss: 0.8096 - gender_sparse_categorical_accuracy: 0.9706 - race_sparse_categorical_accuracy: 0.9086 - age_sparse_categorical_accuracy: 0.6606 - val_loss: 1.7287 - val_gender_loss: 0.2088 - val_race_loss: 0.5163 - val_age_loss: 1.0036 - val_gender_sparse_categorical_accuracy: 0.9296 - val_race_sparse_categorical_accuracy: 0.8502 - val_age_sparse_categorical_accuracy: 0.6064\n",
      "Epoch 17/40\n",
      "297/297 [==============================] - 25s 84ms/step - loss: 1.1842 - gender_loss: 0.0917 - race_loss: 0.2912 - age_loss: 0.8013 - gender_sparse_categorical_accuracy: 0.9702 - race_sparse_categorical_accuracy: 0.9094 - age_sparse_categorical_accuracy: 0.6653 - val_loss: 1.7618 - val_gender_loss: 0.2053 - val_race_loss: 0.5456 - val_age_loss: 1.0109 - val_gender_sparse_categorical_accuracy: 0.9321 - val_race_sparse_categorical_accuracy: 0.8530 - val_age_sparse_categorical_accuracy: 0.6045\n",
      "Epoch 18/40\n",
      "297/297 [==============================] - 25s 84ms/step - loss: 1.1903 - gender_loss: 0.0932 - race_loss: 0.2927 - age_loss: 0.8044 - gender_sparse_categorical_accuracy: 0.9705 - race_sparse_categorical_accuracy: 0.9091 - age_sparse_categorical_accuracy: 0.6639 - val_loss: 1.7247 - val_gender_loss: 0.2047 - val_race_loss: 0.5102 - val_age_loss: 1.0098 - val_gender_sparse_categorical_accuracy: 0.9327 - val_race_sparse_categorical_accuracy: 0.8494 - val_age_sparse_categorical_accuracy: 0.6041\n",
      "Epoch 19/40\n",
      "297/297 [==============================] - 25s 84ms/step - loss: 1.1877 - gender_loss: 0.0935 - race_loss: 0.2928 - age_loss: 0.8015 - gender_sparse_categorical_accuracy: 0.9706 - race_sparse_categorical_accuracy: 0.9088 - age_sparse_categorical_accuracy: 0.6638 - val_loss: 1.7397 - val_gender_loss: 0.2006 - val_race_loss: 0.5236 - val_age_loss: 1.0154 - val_gender_sparse_categorical_accuracy: 0.9310 - val_race_sparse_categorical_accuracy: 0.8519 - val_age_sparse_categorical_accuracy: 0.6068\n",
      "Epoch 20/40\n",
      "297/297 [==============================] - 25s 83ms/step - loss: 1.1893 - gender_loss: 0.0935 - race_loss: 0.2907 - age_loss: 0.8051 - gender_sparse_categorical_accuracy: 0.9706 - race_sparse_categorical_accuracy: 0.9081 - age_sparse_categorical_accuracy: 0.6655 - val_loss: 1.7539 - val_gender_loss: 0.2206 - val_race_loss: 0.5340 - val_age_loss: 0.9993 - val_gender_sparse_categorical_accuracy: 0.9298 - val_race_sparse_categorical_accuracy: 0.8505 - val_age_sparse_categorical_accuracy: 0.6024\n"
     ]
    },
    {
     "output_type": "stream",
     "name": "stdout",
     "text": [
      "Epoch 21/40\n",
      "297/297 [==============================] - 25s 83ms/step - loss: 1.1846 - gender_loss: 0.0908 - race_loss: 0.2913 - age_loss: 0.8025 - gender_sparse_categorical_accuracy: 0.9713 - race_sparse_categorical_accuracy: 0.9095 - age_sparse_categorical_accuracy: 0.6642 - val_loss: 1.7600 - val_gender_loss: 0.2231 - val_race_loss: 0.5348 - val_age_loss: 1.0022 - val_gender_sparse_categorical_accuracy: 0.9333 - val_race_sparse_categorical_accuracy: 0.8511 - val_age_sparse_categorical_accuracy: 0.5967\n",
      "Epoch 22/40\n",
      "297/297 [==============================] - 25s 83ms/step - loss: 1.1802 - gender_loss: 0.0893 - race_loss: 0.2898 - age_loss: 0.8011 - gender_sparse_categorical_accuracy: 0.9707 - race_sparse_categorical_accuracy: 0.9083 - age_sparse_categorical_accuracy: 0.6665 - val_loss: 1.7295 - val_gender_loss: 0.2128 - val_race_loss: 0.5174 - val_age_loss: 0.9993 - val_gender_sparse_categorical_accuracy: 0.9312 - val_race_sparse_categorical_accuracy: 0.8528 - val_age_sparse_categorical_accuracy: 0.6098\n",
      "Epoch 23/40\n",
      "297/297 [==============================] - 25s 84ms/step - loss: 1.1769 - gender_loss: 0.0900 - race_loss: 0.2860 - age_loss: 0.8009 - gender_sparse_categorical_accuracy: 0.9719 - race_sparse_categorical_accuracy: 0.9111 - age_sparse_categorical_accuracy: 0.6691 - val_loss: 1.7469 - val_gender_loss: 0.1998 - val_race_loss: 0.5290 - val_age_loss: 1.0181 - val_gender_sparse_categorical_accuracy: 0.9304 - val_race_sparse_categorical_accuracy: 0.8511 - val_age_sparse_categorical_accuracy: 0.6089\n",
      "Epoch 24/40\n",
      "297/297 [==============================] - 25s 84ms/step - loss: 1.1790 - gender_loss: 0.0915 - race_loss: 0.2875 - age_loss: 0.8001 - gender_sparse_categorical_accuracy: 0.9706 - race_sparse_categorical_accuracy: 0.9090 - age_sparse_categorical_accuracy: 0.6634 - val_loss: 1.7843 - val_gender_loss: 0.2440 - val_race_loss: 0.5512 - val_age_loss: 0.9891 - val_gender_sparse_categorical_accuracy: 0.9304 - val_race_sparse_categorical_accuracy: 0.8547 - val_age_sparse_categorical_accuracy: 0.6098\n",
      "Epoch 25/40\n",
      "297/297 [==============================] - 25s 84ms/step - loss: 1.1766 - gender_loss: 0.0899 - race_loss: 0.2883 - age_loss: 0.7984 - gender_sparse_categorical_accuracy: 0.9711 - race_sparse_categorical_accuracy: 0.9094 - age_sparse_categorical_accuracy: 0.6667 - val_loss: 1.7954 - val_gender_loss: 0.2228 - val_race_loss: 0.5475 - val_age_loss: 1.0251 - val_gender_sparse_categorical_accuracy: 0.9321 - val_race_sparse_categorical_accuracy: 0.8479 - val_age_sparse_categorical_accuracy: 0.6043\n",
      "Epoch 26/40\n",
      "297/297 [==============================] - 25s 83ms/step - loss: 1.1778 - gender_loss: 0.0900 - race_loss: 0.2868 - age_loss: 0.8009 - gender_sparse_categorical_accuracy: 0.9703 - race_sparse_categorical_accuracy: 0.9098 - age_sparse_categorical_accuracy: 0.6649 - val_loss: 1.7797 - val_gender_loss: 0.2184 - val_race_loss: 0.5650 - val_age_loss: 0.9964 - val_gender_sparse_categorical_accuracy: 0.9319 - val_race_sparse_categorical_accuracy: 0.8526 - val_age_sparse_categorical_accuracy: 0.6100\n",
      "Epoch 27/40\n",
      "297/297 [==============================] - 25s 84ms/step - loss: 1.1742 - gender_loss: 0.0886 - race_loss: 0.2855 - age_loss: 0.8002 - gender_sparse_categorical_accuracy: 0.9721 - race_sparse_categorical_accuracy: 0.9095 - age_sparse_categorical_accuracy: 0.6635 - val_loss: 1.7933 - val_gender_loss: 0.2174 - val_race_loss: 0.5444 - val_age_loss: 1.0316 - val_gender_sparse_categorical_accuracy: 0.9317 - val_race_sparse_categorical_accuracy: 0.8507 - val_age_sparse_categorical_accuracy: 0.6037\n",
      "Epoch 28/40\n",
      "297/297 [==============================] - 25s 84ms/step - loss: 1.1748 - gender_loss: 0.0908 - race_loss: 0.2894 - age_loss: 0.7946 - gender_sparse_categorical_accuracy: 0.9714 - race_sparse_categorical_accuracy: 0.9078 - age_sparse_categorical_accuracy: 0.6663 - val_loss: 1.7547 - val_gender_loss: 0.2192 - val_race_loss: 0.5376 - val_age_loss: 0.9980 - val_gender_sparse_categorical_accuracy: 0.9321 - val_race_sparse_categorical_accuracy: 0.8517 - val_age_sparse_categorical_accuracy: 0.6096\n",
      "Epoch 29/40\n",
      "297/297 [==============================] - 25s 84ms/step - loss: 1.1754 - gender_loss: 0.0898 - race_loss: 0.2875 - age_loss: 0.7980 - gender_sparse_categorical_accuracy: 0.9721 - race_sparse_categorical_accuracy: 0.9093 - age_sparse_categorical_accuracy: 0.6655 - val_loss: 1.7235 - val_gender_loss: 0.2081 - val_race_loss: 0.5166 - val_age_loss: 0.9988 - val_gender_sparse_categorical_accuracy: 0.9325 - val_race_sparse_categorical_accuracy: 0.8511 - val_age_sparse_categorical_accuracy: 0.5988\n",
      "Epoch 30/40\n",
      "297/297 [==============================] - 25s 84ms/step - loss: 1.1707 - gender_loss: 0.0901 - race_loss: 0.2854 - age_loss: 0.7951 - gender_sparse_categorical_accuracy: 0.9716 - race_sparse_categorical_accuracy: 0.9114 - age_sparse_categorical_accuracy: 0.6660 - val_loss: 1.7479 - val_gender_loss: 0.1965 - val_race_loss: 0.5428 - val_age_loss: 1.0086 - val_gender_sparse_categorical_accuracy: 0.9314 - val_race_sparse_categorical_accuracy: 0.8524 - val_age_sparse_categorical_accuracy: 0.6062\n",
      "Epoch 31/40\n",
      "297/297 [==============================] - 25s 83ms/step - loss: 1.1612 - gender_loss: 0.0872 - race_loss: 0.2837 - age_loss: 0.7903 - gender_sparse_categorical_accuracy: 0.9713 - race_sparse_categorical_accuracy: 0.9128 - age_sparse_categorical_accuracy: 0.6654 - val_loss: 1.7644 - val_gender_loss: 0.2183 - val_race_loss: 0.5260 - val_age_loss: 1.0200 - val_gender_sparse_categorical_accuracy: 0.9312 - val_race_sparse_categorical_accuracy: 0.8500 - val_age_sparse_categorical_accuracy: 0.6047\n",
      "Epoch 32/40\n",
      "297/297 [==============================] - 25s 83ms/step - loss: 1.1723 - gender_loss: 0.0904 - race_loss: 0.2881 - age_loss: 0.7938 - gender_sparse_categorical_accuracy: 0.9716 - race_sparse_categorical_accuracy: 0.9106 - age_sparse_categorical_accuracy: 0.6711 - val_loss: 1.7605 - val_gender_loss: 0.2227 - val_race_loss: 0.5176 - val_age_loss: 1.0202 - val_gender_sparse_categorical_accuracy: 0.9317 - val_race_sparse_categorical_accuracy: 0.8540 - val_age_sparse_categorical_accuracy: 0.6094\n",
      "Epoch 33/40\n",
      "297/297 [==============================] - 25s 85ms/step - loss: 1.1637 - gender_loss: 0.0913 - race_loss: 0.2815 - age_loss: 0.7909 - gender_sparse_categorical_accuracy: 0.9713 - race_sparse_categorical_accuracy: 0.9106 - age_sparse_categorical_accuracy: 0.6678 - val_loss: 1.7861 - val_gender_loss: 0.2254 - val_race_loss: 0.5446 - val_age_loss: 1.0161 - val_gender_sparse_categorical_accuracy: 0.9298 - val_race_sparse_categorical_accuracy: 0.8528 - val_age_sparse_categorical_accuracy: 0.6121\n",
      "Epoch 34/40\n",
      "297/297 [==============================] - 25s 83ms/step - loss: 1.1607 - gender_loss: 0.0905 - race_loss: 0.2802 - age_loss: 0.7900 - gender_sparse_categorical_accuracy: 0.9711 - race_sparse_categorical_accuracy: 0.9131 - age_sparse_categorical_accuracy: 0.6687 - val_loss: 1.7768 - val_gender_loss: 0.2183 - val_race_loss: 0.5332 - val_age_loss: 1.0253 - val_gender_sparse_categorical_accuracy: 0.9312 - val_race_sparse_categorical_accuracy: 0.8515 - val_age_sparse_categorical_accuracy: 0.6049\n",
      "Epoch 35/40\n",
      "297/297 [==============================] - 25s 85ms/step - loss: 1.1605 - gender_loss: 0.0907 - race_loss: 0.2800 - age_loss: 0.7898 - gender_sparse_categorical_accuracy: 0.9714 - race_sparse_categorical_accuracy: 0.9114 - age_sparse_categorical_accuracy: 0.6705 - val_loss: 1.8004 - val_gender_loss: 0.2428 - val_race_loss: 0.5386 - val_age_loss: 1.0190 - val_gender_sparse_categorical_accuracy: 0.9302 - val_race_sparse_categorical_accuracy: 0.8467 - val_age_sparse_categorical_accuracy: 0.6123\n",
      "Epoch 36/40\n",
      "297/297 [==============================] - 25s 83ms/step - loss: 1.1588 - gender_loss: 0.0900 - race_loss: 0.2807 - age_loss: 0.7881 - gender_sparse_categorical_accuracy: 0.9714 - race_sparse_categorical_accuracy: 0.9101 - age_sparse_categorical_accuracy: 0.6701 - val_loss: 1.7765 - val_gender_loss: 0.2319 - val_race_loss: 0.5360 - val_age_loss: 1.0086 - val_gender_sparse_categorical_accuracy: 0.9310 - val_race_sparse_categorical_accuracy: 0.8479 - val_age_sparse_categorical_accuracy: 0.6062\n",
      "Epoch 37/40\n"
     ]
    },
    {
     "output_type": "stream",
     "name": "stdout",
     "text": [
      "297/297 [==============================] - 25s 84ms/step - loss: 1.1624 - gender_loss: 0.0887 - race_loss: 0.2816 - age_loss: 0.7921 - gender_sparse_categorical_accuracy: 0.9709 - race_sparse_categorical_accuracy: 0.9113 - age_sparse_categorical_accuracy: 0.6666 - val_loss: 1.7949 - val_gender_loss: 0.2210 - val_race_loss: 0.5535 - val_age_loss: 1.0204 - val_gender_sparse_categorical_accuracy: 0.9308 - val_race_sparse_categorical_accuracy: 0.8536 - val_age_sparse_categorical_accuracy: 0.5982\n",
      "Epoch 38/40\n",
      "297/297 [==============================] - 25s 84ms/step - loss: 1.1634 - gender_loss: 0.0886 - race_loss: 0.2830 - age_loss: 0.7918 - gender_sparse_categorical_accuracy: 0.9707 - race_sparse_categorical_accuracy: 0.9113 - age_sparse_categorical_accuracy: 0.6673 - val_loss: 1.7896 - val_gender_loss: 0.2444 - val_race_loss: 0.5382 - val_age_loss: 1.0069 - val_gender_sparse_categorical_accuracy: 0.9314 - val_race_sparse_categorical_accuracy: 0.8513 - val_age_sparse_categorical_accuracy: 0.6026\n",
      "Epoch 39/40\n",
      "297/297 [==============================] - 25s 85ms/step - loss: 1.1693 - gender_loss: 0.0896 - race_loss: 0.2837 - age_loss: 0.7960 - gender_sparse_categorical_accuracy: 0.9712 - race_sparse_categorical_accuracy: 0.9110 - age_sparse_categorical_accuracy: 0.6686 - val_loss: 1.7627 - val_gender_loss: 0.2047 - val_race_loss: 0.5580 - val_age_loss: 1.0000 - val_gender_sparse_categorical_accuracy: 0.9306 - val_race_sparse_categorical_accuracy: 0.8500 - val_age_sparse_categorical_accuracy: 0.6068\n",
      "Epoch 40/40\n",
      "297/297 [==============================] - 25s 83ms/step - loss: 1.1585 - gender_loss: 0.0884 - race_loss: 0.2794 - age_loss: 0.7907 - gender_sparse_categorical_accuracy: 0.9732 - race_sparse_categorical_accuracy: 0.9126 - age_sparse_categorical_accuracy: 0.6700 - val_loss: 1.7821 - val_gender_loss: 0.2312 - val_race_loss: 0.5484 - val_age_loss: 1.0025 - val_gender_sparse_categorical_accuracy: 0.9327 - val_race_sparse_categorical_accuracy: 0.8515 - val_age_sparse_categorical_accuracy: 0.6100\n"
     ]
    },
    {
     "output_type": "execute_result",
     "data": {
      "text/plain": [
       "<Response [200]>"
      ]
     },
     "metadata": {},
     "execution_count": 22
    }
   ],
   "metadata": {}
  },
  {
   "cell_type": "code",
   "execution_count": 23,
   "source": [
    "classifier.save('./ckpt/{}-{}.h5'.format(script_name, 'last'))"
   ],
   "outputs": [],
   "metadata": {}
  },
  {
   "cell_type": "code",
   "execution_count": 24,
   "source": [
    "res = []\r\n",
    "names = ['Scratch-UTKFace-Age-R50-MultiOutput-{}.h5', 'SupCon-UTKFace-Age-R50-MultiOutput-{}.h5']\r\n",
    "for name in names:\r\n",
    "    for col in target_col + ['last']:\r\n",
    "        model_file = 'ckpt/' + name.format(col)\r\n",
    "        model = keras.models.load_model(model_file)\r\n",
    "        eval_res = model.evaluate(val_iter)\r\n",
    "        eval_res = [name.format(col)] + eval_res\r\n",
    "        res.append(eval_res)          \r\n",
    "df_res = pd.DataFrame(res, columns = ['name', 'total_loss', 'gender_loss', 'race_loss', 'age_loss', 'gender_acc', 'race_acc', 'age_acc'])\r\n",
    "df_res.to_csv('Compare - Scratch - SupCon - UTKFace.csv')"
   ],
   "outputs": [
    {
     "output_type": "stream",
     "name": "stdout",
     "text": [
      "75/75 [==============================] - 6s 68ms/step - loss: 1.7057 - gender_loss: 0.2104 - race_loss: 0.5042 - age_loss: 0.9911 - gender_sparse_categorical_accuracy: 0.9196 - race_sparse_categorical_accuracy: 0.8327 - age_sparse_categorical_accuracy: 0.5978\n",
      "75/75 [==============================] - 6s 71ms/step - loss: 1.7559 - gender_loss: 0.2261 - race_loss: 0.5383 - age_loss: 0.9915 - gender_sparse_categorical_accuracy: 0.9120 - race_sparse_categorical_accuracy: 0.8251 - age_sparse_categorical_accuracy: 0.5982\n",
      "75/75 [==============================] - 6s 67ms/step - loss: 1.7582 - gender_loss: 0.2266 - race_loss: 0.5314 - age_loss: 1.0002 - gender_sparse_categorical_accuracy: 0.9207 - race_sparse_categorical_accuracy: 0.8277 - age_sparse_categorical_accuracy: 0.5997\n",
      "75/75 [==============================] - 6s 67ms/step - loss: 1.7466 - gender_loss: 0.2213 - race_loss: 0.5362 - age_loss: 0.9891 - gender_sparse_categorical_accuracy: 0.9177 - race_sparse_categorical_accuracy: 0.8296 - age_sparse_categorical_accuracy: 0.6030\n",
      "75/75 [==============================] - 6s 66ms/step - loss: 1.7272 - gender_loss: 0.2089 - race_loss: 0.5225 - age_loss: 0.9958 - gender_sparse_categorical_accuracy: 0.9340 - race_sparse_categorical_accuracy: 0.8515 - age_sparse_categorical_accuracy: 0.6041\n",
      "75/75 [==============================] - 6s 69ms/step - loss: 1.7843 - gender_loss: 0.2440 - race_loss: 0.5512 - age_loss: 0.9891 - gender_sparse_categorical_accuracy: 0.9304 - race_sparse_categorical_accuracy: 0.8547 - age_sparse_categorical_accuracy: 0.6098\n",
      "75/75 [==============================] - 6s 68ms/step - loss: 1.8004 - gender_loss: 0.2428 - race_loss: 0.5386 - age_loss: 1.0190 - gender_sparse_categorical_accuracy: 0.9302 - race_sparse_categorical_accuracy: 0.8467 - age_sparse_categorical_accuracy: 0.6123\n",
      "WARNING:tensorflow:Error in loading the saved optimizer state. As a result, your model is starting with a freshly initialized optimizer.\n",
      "75/75 [==============================] - 6s 67ms/step - loss: 1.7821 - gender_loss: 0.2312 - race_loss: 0.5484 - age_loss: 1.0025 - gender_sparse_categorical_accuracy: 0.9327 - race_sparse_categorical_accuracy: 0.8515 - age_sparse_categorical_accuracy: 0.6100\n"
     ]
    }
   ],
   "metadata": {}
  }
 ],
 "metadata": {
  "kernelspec": {
   "display_name": "Python 3",
   "language": "python",
   "name": "python3"
  },
  "language_info": {
   "codemirror_mode": {
    "name": "ipython",
    "version": 3
   },
   "file_extension": ".py",
   "mimetype": "text/x-python",
   "name": "python",
   "nbconvert_exporter": "python",
   "pygments_lexer": "ipython3",
   "version": "3.6.9"
  }
 },
 "nbformat": 4,
 "nbformat_minor": 2
}